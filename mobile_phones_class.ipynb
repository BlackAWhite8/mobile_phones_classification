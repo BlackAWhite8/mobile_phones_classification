{
  "nbformat": 4,
  "nbformat_minor": 0,
  "metadata": {
    "colab": {
      "provenance": [],
      "gpuType": "T4"
    },
    "kernelspec": {
      "name": "python3",
      "display_name": "Python 3"
    },
    "language_info": {
      "name": "python"
    },
    "accelerator": "GPU"
  },
  "cells": [
    {
      "cell_type": "code",
      "execution_count": 1,
      "metadata": {
        "id": "qHT46UhNNn3_"
      },
      "outputs": [],
      "source": [
        "import pandas as pd\n",
        "import numpy as np\n",
        "import seaborn as sns\n",
        "import matplotlib.pyplot as plt\n",
        "from sklearn.preprocessing import StandardScaler\n",
        "from sklearn.model_selection import train_test_split, RandomizedSearchCV, GridSearchCV\n",
        "from sklearn.metrics import accuracy_score, classification_report, roc_curve, auc\n",
        "from sklearn.ensemble import RandomForestClassifier"
      ]
    },
    {
      "cell_type": "code",
      "source": [
        "df_train = pd.read_csv('/content/sample_data/train.csv')\n",
        "df_test = pd.read_csv('/content/sample_data/test.csv')"
      ],
      "metadata": {
        "id": "wFZlfa34OLBr"
      },
      "execution_count": 9,
      "outputs": []
    },
    {
      "cell_type": "code",
      "source": [
        "def change_datasets(df):\n",
        "  df['screen_size'] = df['px_width']*df['px_height']\n",
        "  df['processor_power'] = df['clock_speed']*df['n_cores']\n",
        "  df['mobile_features_score'] = df['blue']+ df['four_g'] + df['dual_sim'] + df['wifi'] + df['touch_screen']+ df['three_g']\n",
        "  df['sc_size_cm'] = df['sc_w']*df['sc_h']\n",
        "  df.drop(['px_height', 'px_width', 'sc_h', 'sc_w'], axis=1, inplace=True)\n",
        "  return df"
      ],
      "metadata": {
        "id": "TTAfgquOUhzM"
      },
      "execution_count": 10,
      "outputs": []
    },
    {
      "cell_type": "code",
      "source": [
        "df_train.head()"
      ],
      "metadata": {
        "id": "IR04WsRzOp5D"
      },
      "execution_count": null,
      "outputs": []
    },
    {
      "cell_type": "code",
      "source": [
        "df_train.info()"
      ],
      "metadata": {
        "id": "O-0_uDViOp7a"
      },
      "execution_count": null,
      "outputs": []
    },
    {
      "cell_type": "code",
      "source": [
        "corr = df_train.corr()\n",
        "corr.style.background_gradient(cmap='coolwarm')"
      ],
      "metadata": {
        "id": "M9fol74vOp9T"
      },
      "execution_count": null,
      "outputs": []
    },
    {
      "cell_type": "markdown",
      "source": [
        "ram and target column has a great correlation.\n",
        "pc and fc has strong correlation(cameras often have the same characteristics).\n",
        "also 3g and 4g has a good correlation maybe it's cause mobile phones with 4g also has 3g obviously.\n",
        "\n",
        "\n",
        "\n"
      ],
      "metadata": {
        "id": "GLDu9DzNP6Y0"
      }
    },
    {
      "cell_type": "markdown",
      "source": [
        "more interesting features are sc_h and sc_w/px_height and px_weight cause both describe almost the same characteristic of phone. pixels can be converted to cm and via versa, so maybe  they should be deleted(sc or px one of them)\n"
      ],
      "metadata": {
        "id": "8rmsin0wRza8"
      }
    },
    {
      "cell_type": "code",
      "source": [
        "df_train['sc_h_to_px'] = df_train['sc_h']*96*2.54"
      ],
      "metadata": {
        "id": "uqbQcaRxQV6O"
      },
      "execution_count": 11,
      "outputs": []
    },
    {
      "cell_type": "code",
      "source": [
        "corr = df_train.corr()\n",
        "corr.style.background_gradient(cmap='coolwarm')"
      ],
      "metadata": {
        "colab": {
          "base_uri": "https://localhost:8080/",
          "height": 759
        },
        "id": "PKOfJHSZTV3n",
        "outputId": "58ba62b5-06fe-4d44-fcbb-c5a0c56447c1"
      },
      "execution_count": 12,
      "outputs": [
        {
          "output_type": "execute_result",
          "data": {
            "text/plain": [
              "<pandas.io.formats.style.Styler at 0x78f11a42dd20>"
            ],
            "text/html": [
              "<style type=\"text/css\">\n",
              "#T_51bf5_row0_col0, #T_51bf5_row1_col1, #T_51bf5_row2_col2, #T_51bf5_row3_col3, #T_51bf5_row4_col4, #T_51bf5_row5_col5, #T_51bf5_row6_col6, #T_51bf5_row7_col7, #T_51bf5_row8_col8, #T_51bf5_row9_col9, #T_51bf5_row10_col10, #T_51bf5_row11_col11, #T_51bf5_row12_col12, #T_51bf5_row13_col13, #T_51bf5_row14_col14, #T_51bf5_row14_col21, #T_51bf5_row15_col15, #T_51bf5_row16_col16, #T_51bf5_row17_col17, #T_51bf5_row18_col18, #T_51bf5_row19_col19, #T_51bf5_row20_col20, #T_51bf5_row21_col14, #T_51bf5_row21_col21 {\n",
              "  background-color: #b40426;\n",
              "  color: #f1f1f1;\n",
              "}\n",
              "#T_51bf5_row0_col1, #T_51bf5_row1_col20, #T_51bf5_row2_col18, #T_51bf5_row3_col5, #T_51bf5_row3_col19, #T_51bf5_row4_col19, #T_51bf5_row5_col12, #T_51bf5_row6_col2, #T_51bf5_row8_col7, #T_51bf5_row8_col10, #T_51bf5_row8_col16, #T_51bf5_row9_col15, #T_51bf5_row12_col7, #T_51bf5_row13_col2, #T_51bf5_row13_col14, #T_51bf5_row13_col19, #T_51bf5_row13_col21, #T_51bf5_row16_col20, #T_51bf5_row18_col1, #T_51bf5_row19_col4, #T_51bf5_row19_col17, #T_51bf5_row19_col20, #T_51bf5_row20_col4, #T_51bf5_row20_col19 {\n",
              "  background-color: #4961d2;\n",
              "  color: #f1f1f1;\n",
              "}\n",
              "#T_51bf5_row0_col2, #T_51bf5_row0_col17, #T_51bf5_row1_col5, #T_51bf5_row1_col13, #T_51bf5_row1_col16, #T_51bf5_row4_col8, #T_51bf5_row5_col0, #T_51bf5_row7_col10, #T_51bf5_row7_col11, #T_51bf5_row8_col2, #T_51bf5_row9_col16, #T_51bf5_row10_col13, #T_51bf5_row10_col16, #T_51bf5_row12_col15, #T_51bf5_row12_col19, #T_51bf5_row13_col15, #T_51bf5_row13_col16, #T_51bf5_row14_col17, #T_51bf5_row18_col17, #T_51bf5_row19_col14, #T_51bf5_row19_col15, #T_51bf5_row19_col21, #T_51bf5_row20_col3, #T_51bf5_row20_col14, #T_51bf5_row20_col21, #T_51bf5_row21_col17 {\n",
              "  background-color: #4b64d5;\n",
              "  color: #f1f1f1;\n",
              "}\n",
              "#T_51bf5_row0_col3, #T_51bf5_row0_col9, #T_51bf5_row0_col14, #T_51bf5_row0_col15, #T_51bf5_row0_col21, #T_51bf5_row1_col12, #T_51bf5_row2_col5, #T_51bf5_row2_col17, #T_51bf5_row3_col0, #T_51bf5_row3_col4, #T_51bf5_row5_col2, #T_51bf5_row5_col9, #T_51bf5_row5_col16, #T_51bf5_row6_col4, #T_51bf5_row6_col8, #T_51bf5_row6_col9, #T_51bf5_row6_col10, #T_51bf5_row6_col18, #T_51bf5_row7_col19, #T_51bf5_row8_col6, #T_51bf5_row8_col14, #T_51bf5_row8_col15, #T_51bf5_row8_col20, #T_51bf5_row8_col21, #T_51bf5_row10_col6, #T_51bf5_row10_col15, #T_51bf5_row12_col1, #T_51bf5_row13_col18, #T_51bf5_row14_col7, #T_51bf5_row14_col8, #T_51bf5_row16_col3, #T_51bf5_row16_col5, #T_51bf5_row16_col15, #T_51bf5_row16_col17, #T_51bf5_row16_col19, #T_51bf5_row17_col2, #T_51bf5_row17_col11, #T_51bf5_row17_col16, #T_51bf5_row18_col13, #T_51bf5_row18_col20, #T_51bf5_row19_col7, #T_51bf5_row20_col8, #T_51bf5_row20_col18, #T_51bf5_row21_col7, #T_51bf5_row21_col8 {\n",
              "  background-color: #3b4cc0;\n",
              "  color: #f1f1f1;\n",
              "}\n",
              "#T_51bf5_row0_col4, #T_51bf5_row0_col5, #T_51bf5_row0_col7, #T_51bf5_row2_col1, #T_51bf5_row5_col14, #T_51bf5_row5_col15, #T_51bf5_row5_col21, #T_51bf5_row6_col13, #T_51bf5_row7_col16, #T_51bf5_row10_col20, #T_51bf5_row13_col10, #T_51bf5_row13_col17, #T_51bf5_row14_col12, #T_51bf5_row18_col5, #T_51bf5_row18_col16, #T_51bf5_row19_col3, #T_51bf5_row20_col1, #T_51bf5_row20_col5, #T_51bf5_row20_col15, #T_51bf5_row21_col12 {\n",
              "  background-color: #4c66d6;\n",
              "  color: #f1f1f1;\n",
              "}\n",
              "#T_51bf5_row0_col6, #T_51bf5_row0_col13, #T_51bf5_row1_col14, #T_51bf5_row1_col21, #T_51bf5_row2_col4, #T_51bf5_row2_col12, #T_51bf5_row3_col17, #T_51bf5_row4_col5, #T_51bf5_row7_col2, #T_51bf5_row7_col20, #T_51bf5_row8_col5, #T_51bf5_row8_col11, #T_51bf5_row8_col19, #T_51bf5_row9_col10, #T_51bf5_row9_col17, #T_51bf5_row10_col1, #T_51bf5_row10_col9, #T_51bf5_row11_col2, #T_51bf5_row12_col18, #T_51bf5_row13_col8, #T_51bf5_row14_col3, #T_51bf5_row14_col9, #T_51bf5_row14_col16, #T_51bf5_row16_col6, #T_51bf5_row17_col4, #T_51bf5_row17_col10, #T_51bf5_row18_col0, #T_51bf5_row19_col5, #T_51bf5_row20_col7, #T_51bf5_row21_col3, #T_51bf5_row21_col9, #T_51bf5_row21_col16 {\n",
              "  background-color: #4358cb;\n",
              "  color: #f1f1f1;\n",
              "}\n",
              "#T_51bf5_row0_col8, #T_51bf5_row0_col12, #T_51bf5_row1_col4, #T_51bf5_row1_col7, #T_51bf5_row2_col13, #T_51bf5_row2_col16, #T_51bf5_row4_col12, #T_51bf5_row6_col7, #T_51bf5_row6_col12, #T_51bf5_row6_col15, #T_51bf5_row7_col17, #T_51bf5_row8_col1, #T_51bf5_row8_col3, #T_51bf5_row9_col13, #T_51bf5_row9_col14, #T_51bf5_row9_col20, #T_51bf5_row9_col21, #T_51bf5_row10_col19, #T_51bf5_row11_col1, #T_51bf5_row11_col8, #T_51bf5_row11_col16, #T_51bf5_row12_col0, #T_51bf5_row12_col8, #T_51bf5_row12_col13, #T_51bf5_row13_col9, #T_51bf5_row16_col2, #T_51bf5_row17_col8, #T_51bf5_row17_col19, #T_51bf5_row19_col0, #T_51bf5_row19_col8, #T_51bf5_row20_col9 {\n",
              "  background-color: #445acc;\n",
              "  color: #f1f1f1;\n",
              "}\n",
              "#T_51bf5_row0_col10, #T_51bf5_row1_col2, #T_51bf5_row1_col9, #T_51bf5_row7_col12, #T_51bf5_row9_col12, #T_51bf5_row11_col15, #T_51bf5_row13_col1, #T_51bf5_row13_col6, #T_51bf5_row15_col13, #T_51bf5_row15_col19, #T_51bf5_row18_col2, #T_51bf5_row20_col10, #T_51bf5_row20_col16 {\n",
              "  background-color: #4e68d8;\n",
              "  color: #f1f1f1;\n",
              "}\n",
              "#T_51bf5_row0_col11, #T_51bf5_row2_col8, #T_51bf5_row3_col2, #T_51bf5_row3_col20, #T_51bf5_row4_col1, #T_51bf5_row4_col2, #T_51bf5_row4_col13, #T_51bf5_row4_col17, #T_51bf5_row5_col3, #T_51bf5_row5_col18, #T_51bf5_row5_col20, #T_51bf5_row7_col1, #T_51bf5_row8_col17, #T_51bf5_row10_col12, #T_51bf5_row10_col17, #T_51bf5_row11_col6, #T_51bf5_row12_col17, #T_51bf5_row13_col4, #T_51bf5_row13_col12, #T_51bf5_row14_col13, #T_51bf5_row15_col6, #T_51bf5_row16_col7, #T_51bf5_row16_col10, #T_51bf5_row16_col12, #T_51bf5_row16_col18, #T_51bf5_row17_col13, #T_51bf5_row17_col14, #T_51bf5_row17_col18, #T_51bf5_row17_col21, #T_51bf5_row21_col13 {\n",
              "  background-color: #485fd1;\n",
              "  color: #f1f1f1;\n",
              "}\n",
              "#T_51bf5_row0_col16 {\n",
              "  background-color: #5875e1;\n",
              "  color: #f1f1f1;\n",
              "}\n",
              "#T_51bf5_row0_col18, #T_51bf5_row2_col11, #T_51bf5_row2_col15, #T_51bf5_row3_col6, #T_51bf5_row4_col9, #T_51bf5_row5_col8, #T_51bf5_row7_col3, #T_51bf5_row9_col3, #T_51bf5_row9_col5, #T_51bf5_row9_col19, #T_51bf5_row11_col4, #T_51bf5_row13_col7, #T_51bf5_row14_col2, #T_51bf5_row14_col4, #T_51bf5_row15_col4, #T_51bf5_row16_col14, #T_51bf5_row16_col21, #T_51bf5_row17_col7, #T_51bf5_row18_col8, #T_51bf5_row19_col1, #T_51bf5_row19_col9, #T_51bf5_row19_col16, #T_51bf5_row21_col2, #T_51bf5_row21_col4 {\n",
              "  background-color: #3f53c6;\n",
              "  color: #f1f1f1;\n",
              "}\n",
              "#T_51bf5_row0_col19, #T_51bf5_row1_col10, #T_51bf5_row2_col9, #T_51bf5_row2_col20, #T_51bf5_row3_col14, #T_51bf5_row3_col21, #T_51bf5_row4_col11, #T_51bf5_row4_col14, #T_51bf5_row4_col21, #T_51bf5_row7_col13, #T_51bf5_row10_col18, #T_51bf5_row11_col3, #T_51bf5_row11_col9, #T_51bf5_row12_col4, #T_51bf5_row15_col0, #T_51bf5_row15_col16, #T_51bf5_row16_col4, #T_51bf5_row16_col11, #T_51bf5_row19_col2 {\n",
              "  background-color: #4055c8;\n",
              "  color: #f1f1f1;\n",
              "}\n",
              "#T_51bf5_row0_col20 {\n",
              "  background-color: #84a7fc;\n",
              "  color: #f1f1f1;\n",
              "}\n",
              "#T_51bf5_row1_col0, #T_51bf5_row2_col0, #T_51bf5_row3_col12, #T_51bf5_row4_col20, #T_51bf5_row5_col1, #T_51bf5_row6_col5, #T_51bf5_row7_col8, #T_51bf5_row8_col4, #T_51bf5_row9_col18, #T_51bf5_row10_col7, #T_51bf5_row10_col8, #T_51bf5_row11_col0, #T_51bf5_row11_col7, #T_51bf5_row11_col18, #T_51bf5_row12_col3, #T_51bf5_row12_col5, #T_51bf5_row12_col9, #T_51bf5_row12_col14, #T_51bf5_row12_col16, #T_51bf5_row12_col21, #T_51bf5_row13_col5, #T_51bf5_row14_col19, #T_51bf5_row14_col20, #T_51bf5_row15_col9, #T_51bf5_row16_col1, #T_51bf5_row17_col0, #T_51bf5_row17_col15, #T_51bf5_row17_col20, #T_51bf5_row18_col9, #T_51bf5_row18_col11, #T_51bf5_row19_col13, #T_51bf5_row21_col19, #T_51bf5_row21_col20 {\n",
              "  background-color: #4a63d3;\n",
              "  color: #f1f1f1;\n",
              "}\n",
              "#T_51bf5_row1_col3, #T_51bf5_row1_col6, #T_51bf5_row3_col1, #T_51bf5_row4_col0, #T_51bf5_row6_col20, #T_51bf5_row7_col0, #T_51bf5_row10_col0, #T_51bf5_row14_col5, #T_51bf5_row15_col11, #T_51bf5_row15_col12, #T_51bf5_row15_col17, #T_51bf5_row21_col5 {\n",
              "  background-color: #506bda;\n",
              "  color: #f1f1f1;\n",
              "}\n",
              "#T_51bf5_row1_col8, #T_51bf5_row1_col11, #T_51bf5_row1_col15, #T_51bf5_row2_col10, #T_51bf5_row3_col8, #T_51bf5_row4_col7, #T_51bf5_row5_col7, #T_51bf5_row5_col10, #T_51bf5_row6_col3, #T_51bf5_row7_col4, #T_51bf5_row7_col9, #T_51bf5_row7_col18, #T_51bf5_row8_col13, #T_51bf5_row9_col7, #T_51bf5_row9_col11, #T_51bf5_row10_col3, #T_51bf5_row11_col5, #T_51bf5_row12_col6, #T_51bf5_row15_col3, #T_51bf5_row17_col3, #T_51bf5_row17_col6, #T_51bf5_row18_col3, #T_51bf5_row18_col7, #T_51bf5_row18_col10 {\n",
              "  background-color: #4257c9;\n",
              "  color: #f1f1f1;\n",
              "}\n",
              "#T_51bf5_row1_col17, #T_51bf5_row2_col7, #T_51bf5_row3_col10, #T_51bf5_row3_col18, #T_51bf5_row4_col3, #T_51bf5_row4_col18, #T_51bf5_row5_col4, #T_51bf5_row8_col18, #T_51bf5_row9_col4, #T_51bf5_row9_col8, #T_51bf5_row10_col11, #T_51bf5_row11_col10, #T_51bf5_row11_col17, #T_51bf5_row15_col8, #T_51bf5_row17_col9, #T_51bf5_row18_col4, #T_51bf5_row18_col14, #T_51bf5_row18_col21 {\n",
              "  background-color: #3e51c5;\n",
              "  color: #f1f1f1;\n",
              "}\n",
              "#T_51bf5_row1_col18, #T_51bf5_row2_col6, #T_51bf5_row5_col6, #T_51bf5_row6_col11, #T_51bf5_row6_col16, #T_51bf5_row7_col5, #T_51bf5_row7_col6, #T_51bf5_row8_col0, #T_51bf5_row8_col12, #T_51bf5_row10_col2, #T_51bf5_row10_col5, #T_51bf5_row13_col0, #T_51bf5_row15_col1, #T_51bf5_row15_col18, #T_51bf5_row16_col8, #T_51bf5_row16_col9, #T_51bf5_row16_col13, #T_51bf5_row17_col12, #T_51bf5_row18_col19, #T_51bf5_row19_col6, #T_51bf5_row19_col18 {\n",
              "  background-color: #465ecf;\n",
              "  color: #f1f1f1;\n",
              "}\n",
              "#T_51bf5_row1_col19, #T_51bf5_row2_col14, #T_51bf5_row2_col19, #T_51bf5_row2_col21, #T_51bf5_row3_col7, #T_51bf5_row3_col9, #T_51bf5_row3_col15, #T_51bf5_row3_col16, #T_51bf5_row4_col6, #T_51bf5_row7_col15, #T_51bf5_row9_col6, #T_51bf5_row18_col6 {\n",
              "  background-color: #3c4ec2;\n",
              "  color: #f1f1f1;\n",
              "}\n",
              "#T_51bf5_row2_col3, #T_51bf5_row4_col16, #T_51bf5_row5_col13, #T_51bf5_row6_col0, #T_51bf5_row6_col17, #T_51bf5_row6_col19, #T_51bf5_row9_col2, #T_51bf5_row10_col14, #T_51bf5_row10_col21, #T_51bf5_row12_col2, #T_51bf5_row12_col10, #T_51bf5_row14_col1, #T_51bf5_row14_col10, #T_51bf5_row15_col2, #T_51bf5_row18_col12, #T_51bf5_row18_col15, #T_51bf5_row19_col10, #T_51bf5_row20_col2, #T_51bf5_row21_col1, #T_51bf5_row21_col10 {\n",
              "  background-color: #455cce;\n",
              "  color: #f1f1f1;\n",
              "}\n",
              "#T_51bf5_row3_col11, #T_51bf5_row4_col15, #T_51bf5_row5_col11, #T_51bf5_row5_col19, #T_51bf5_row7_col14, #T_51bf5_row7_col21, #T_51bf5_row8_col9, #T_51bf5_row9_col0, #T_51bf5_row11_col13, #T_51bf5_row13_col11, #T_51bf5_row14_col0, #T_51bf5_row14_col18, #T_51bf5_row15_col7, #T_51bf5_row15_col10, #T_51bf5_row17_col1, #T_51bf5_row21_col0, #T_51bf5_row21_col18 {\n",
              "  background-color: #3d50c3;\n",
              "  color: #f1f1f1;\n",
              "}\n",
              "#T_51bf5_row3_col13, #T_51bf5_row6_col14, #T_51bf5_row6_col21, #T_51bf5_row14_col6, #T_51bf5_row15_col20, #T_51bf5_row19_col12, #T_51bf5_row20_col17, #T_51bf5_row21_col6 {\n",
              "  background-color: #4f69d9;\n",
              "  color: #f1f1f1;\n",
              "}\n",
              "#T_51bf5_row4_col10, #T_51bf5_row10_col4 {\n",
              "  background-color: #f7bca1;\n",
              "  color: #000000;\n",
              "}\n",
              "#T_51bf5_row5_col17, #T_51bf5_row17_col5 {\n",
              "  background-color: #f2cab5;\n",
              "  color: #000000;\n",
              "}\n",
              "#T_51bf5_row6_col1, #T_51bf5_row11_col19, #T_51bf5_row13_col3, #T_51bf5_row15_col5, #T_51bf5_row19_col11 {\n",
              "  background-color: #536edd;\n",
              "  color: #f1f1f1;\n",
              "}\n",
              "#T_51bf5_row9_col1, #T_51bf5_row20_col6 {\n",
              "  background-color: #516ddb;\n",
              "  color: #f1f1f1;\n",
              "}\n",
              "#T_51bf5_row11_col12 {\n",
              "  background-color: #e4d9d2;\n",
              "  color: #000000;\n",
              "}\n",
              "#T_51bf5_row11_col14, #T_51bf5_row11_col21, #T_51bf5_row16_col0 {\n",
              "  background-color: #5673e0;\n",
              "  color: #f1f1f1;\n",
              "}\n",
              "#T_51bf5_row11_col20, #T_51bf5_row20_col11 {\n",
              "  background-color: #7295f4;\n",
              "  color: #f1f1f1;\n",
              "}\n",
              "#T_51bf5_row12_col11 {\n",
              "  background-color: #e3d9d3;\n",
              "  color: #000000;\n",
              "}\n",
              "#T_51bf5_row12_col20 {\n",
              "  background-color: #779af7;\n",
              "  color: #f1f1f1;\n",
              "}\n",
              "#T_51bf5_row13_col20, #T_51bf5_row20_col13 {\n",
              "  background-color: #d0473d;\n",
              "  color: #f1f1f1;\n",
              "}\n",
              "#T_51bf5_row14_col11, #T_51bf5_row21_col11 {\n",
              "  background-color: #5572df;\n",
              "  color: #f1f1f1;\n",
              "}\n",
              "#T_51bf5_row14_col15, #T_51bf5_row21_col15 {\n",
              "  background-color: #e1dad6;\n",
              "  color: #000000;\n",
              "}\n",
              "#T_51bf5_row15_col14, #T_51bf5_row15_col21 {\n",
              "  background-color: #e2dad5;\n",
              "  color: #000000;\n",
              "}\n",
              "#T_51bf5_row20_col0 {\n",
              "  background-color: #86a9fc;\n",
              "  color: #f1f1f1;\n",
              "}\n",
              "#T_51bf5_row20_col12 {\n",
              "  background-color: #7a9df8;\n",
              "  color: #f1f1f1;\n",
              "}\n",
              "</style>\n",
              "<table id=\"T_51bf5\" class=\"dataframe\">\n",
              "  <thead>\n",
              "    <tr>\n",
              "      <th class=\"blank level0\" >&nbsp;</th>\n",
              "      <th id=\"T_51bf5_level0_col0\" class=\"col_heading level0 col0\" >battery_power</th>\n",
              "      <th id=\"T_51bf5_level0_col1\" class=\"col_heading level0 col1\" >blue</th>\n",
              "      <th id=\"T_51bf5_level0_col2\" class=\"col_heading level0 col2\" >clock_speed</th>\n",
              "      <th id=\"T_51bf5_level0_col3\" class=\"col_heading level0 col3\" >dual_sim</th>\n",
              "      <th id=\"T_51bf5_level0_col4\" class=\"col_heading level0 col4\" >fc</th>\n",
              "      <th id=\"T_51bf5_level0_col5\" class=\"col_heading level0 col5\" >four_g</th>\n",
              "      <th id=\"T_51bf5_level0_col6\" class=\"col_heading level0 col6\" >int_memory</th>\n",
              "      <th id=\"T_51bf5_level0_col7\" class=\"col_heading level0 col7\" >m_dep</th>\n",
              "      <th id=\"T_51bf5_level0_col8\" class=\"col_heading level0 col8\" >mobile_wt</th>\n",
              "      <th id=\"T_51bf5_level0_col9\" class=\"col_heading level0 col9\" >n_cores</th>\n",
              "      <th id=\"T_51bf5_level0_col10\" class=\"col_heading level0 col10\" >pc</th>\n",
              "      <th id=\"T_51bf5_level0_col11\" class=\"col_heading level0 col11\" >px_height</th>\n",
              "      <th id=\"T_51bf5_level0_col12\" class=\"col_heading level0 col12\" >px_width</th>\n",
              "      <th id=\"T_51bf5_level0_col13\" class=\"col_heading level0 col13\" >ram</th>\n",
              "      <th id=\"T_51bf5_level0_col14\" class=\"col_heading level0 col14\" >sc_h</th>\n",
              "      <th id=\"T_51bf5_level0_col15\" class=\"col_heading level0 col15\" >sc_w</th>\n",
              "      <th id=\"T_51bf5_level0_col16\" class=\"col_heading level0 col16\" >talk_time</th>\n",
              "      <th id=\"T_51bf5_level0_col17\" class=\"col_heading level0 col17\" >three_g</th>\n",
              "      <th id=\"T_51bf5_level0_col18\" class=\"col_heading level0 col18\" >touch_screen</th>\n",
              "      <th id=\"T_51bf5_level0_col19\" class=\"col_heading level0 col19\" >wifi</th>\n",
              "      <th id=\"T_51bf5_level0_col20\" class=\"col_heading level0 col20\" >price_range</th>\n",
              "      <th id=\"T_51bf5_level0_col21\" class=\"col_heading level0 col21\" >sc_h_to_px</th>\n",
              "    </tr>\n",
              "  </thead>\n",
              "  <tbody>\n",
              "    <tr>\n",
              "      <th id=\"T_51bf5_level0_row0\" class=\"row_heading level0 row0\" >battery_power</th>\n",
              "      <td id=\"T_51bf5_row0_col0\" class=\"data row0 col0\" >1.000000</td>\n",
              "      <td id=\"T_51bf5_row0_col1\" class=\"data row0 col1\" >0.011252</td>\n",
              "      <td id=\"T_51bf5_row0_col2\" class=\"data row0 col2\" >0.011482</td>\n",
              "      <td id=\"T_51bf5_row0_col3\" class=\"data row0 col3\" >-0.041847</td>\n",
              "      <td id=\"T_51bf5_row0_col4\" class=\"data row0 col4\" >0.033334</td>\n",
              "      <td id=\"T_51bf5_row0_col5\" class=\"data row0 col5\" >0.015665</td>\n",
              "      <td id=\"T_51bf5_row0_col6\" class=\"data row0 col6\" >-0.004004</td>\n",
              "      <td id=\"T_51bf5_row0_col7\" class=\"data row0 col7\" >0.034085</td>\n",
              "      <td id=\"T_51bf5_row0_col8\" class=\"data row0 col8\" >0.001844</td>\n",
              "      <td id=\"T_51bf5_row0_col9\" class=\"data row0 col9\" >-0.029727</td>\n",
              "      <td id=\"T_51bf5_row0_col10\" class=\"data row0 col10\" >0.031441</td>\n",
              "      <td id=\"T_51bf5_row0_col11\" class=\"data row0 col11\" >0.014901</td>\n",
              "      <td id=\"T_51bf5_row0_col12\" class=\"data row0 col12\" >-0.008402</td>\n",
              "      <td id=\"T_51bf5_row0_col13\" class=\"data row0 col13\" >-0.000653</td>\n",
              "      <td id=\"T_51bf5_row0_col14\" class=\"data row0 col14\" >-0.029959</td>\n",
              "      <td id=\"T_51bf5_row0_col15\" class=\"data row0 col15\" >-0.021421</td>\n",
              "      <td id=\"T_51bf5_row0_col16\" class=\"data row0 col16\" >0.052510</td>\n",
              "      <td id=\"T_51bf5_row0_col17\" class=\"data row0 col17\" >0.011522</td>\n",
              "      <td id=\"T_51bf5_row0_col18\" class=\"data row0 col18\" >-0.010516</td>\n",
              "      <td id=\"T_51bf5_row0_col19\" class=\"data row0 col19\" >-0.008343</td>\n",
              "      <td id=\"T_51bf5_row0_col20\" class=\"data row0 col20\" >0.200723</td>\n",
              "      <td id=\"T_51bf5_row0_col21\" class=\"data row0 col21\" >-0.029959</td>\n",
              "    </tr>\n",
              "    <tr>\n",
              "      <th id=\"T_51bf5_level0_row1\" class=\"row_heading level0 row1\" >blue</th>\n",
              "      <td id=\"T_51bf5_row1_col0\" class=\"data row1 col0\" >0.011252</td>\n",
              "      <td id=\"T_51bf5_row1_col1\" class=\"data row1 col1\" >1.000000</td>\n",
              "      <td id=\"T_51bf5_row1_col2\" class=\"data row1 col2\" >0.021419</td>\n",
              "      <td id=\"T_51bf5_row1_col3\" class=\"data row1 col3\" >0.035198</td>\n",
              "      <td id=\"T_51bf5_row1_col4\" class=\"data row1 col4\" >0.003593</td>\n",
              "      <td id=\"T_51bf5_row1_col5\" class=\"data row1 col5\" >0.013443</td>\n",
              "      <td id=\"T_51bf5_row1_col6\" class=\"data row1 col6\" >0.041177</td>\n",
              "      <td id=\"T_51bf5_row1_col7\" class=\"data row1 col7\" >0.004049</td>\n",
              "      <td id=\"T_51bf5_row1_col8\" class=\"data row1 col8\" >-0.008605</td>\n",
              "      <td id=\"T_51bf5_row1_col9\" class=\"data row1 col9\" >0.036161</td>\n",
              "      <td id=\"T_51bf5_row1_col10\" class=\"data row1 col10\" >-0.009952</td>\n",
              "      <td id=\"T_51bf5_row1_col11\" class=\"data row1 col11\" >-0.006872</td>\n",
              "      <td id=\"T_51bf5_row1_col12\" class=\"data row1 col12\" >-0.041533</td>\n",
              "      <td id=\"T_51bf5_row1_col13\" class=\"data row1 col13\" >0.026351</td>\n",
              "      <td id=\"T_51bf5_row1_col14\" class=\"data row1 col14\" >-0.002952</td>\n",
              "      <td id=\"T_51bf5_row1_col15\" class=\"data row1 col15\" >0.000613</td>\n",
              "      <td id=\"T_51bf5_row1_col16\" class=\"data row1 col16\" >0.013934</td>\n",
              "      <td id=\"T_51bf5_row1_col17\" class=\"data row1 col17\" >-0.030236</td>\n",
              "      <td id=\"T_51bf5_row1_col18\" class=\"data row1 col18\" >0.010061</td>\n",
              "      <td id=\"T_51bf5_row1_col19\" class=\"data row1 col19\" >-0.021863</td>\n",
              "      <td id=\"T_51bf5_row1_col20\" class=\"data row1 col20\" >0.020573</td>\n",
              "      <td id=\"T_51bf5_row1_col21\" class=\"data row1 col21\" >-0.002952</td>\n",
              "    </tr>\n",
              "    <tr>\n",
              "      <th id=\"T_51bf5_level0_row2\" class=\"row_heading level0 row2\" >clock_speed</th>\n",
              "      <td id=\"T_51bf5_row2_col0\" class=\"data row2 col0\" >0.011482</td>\n",
              "      <td id=\"T_51bf5_row2_col1\" class=\"data row2 col1\" >0.021419</td>\n",
              "      <td id=\"T_51bf5_row2_col2\" class=\"data row2 col2\" >1.000000</td>\n",
              "      <td id=\"T_51bf5_row2_col3\" class=\"data row2 col3\" >-0.001315</td>\n",
              "      <td id=\"T_51bf5_row2_col4\" class=\"data row2 col4\" >-0.000434</td>\n",
              "      <td id=\"T_51bf5_row2_col5\" class=\"data row2 col5\" >-0.043073</td>\n",
              "      <td id=\"T_51bf5_row2_col6\" class=\"data row2 col6\" >0.006545</td>\n",
              "      <td id=\"T_51bf5_row2_col7\" class=\"data row2 col7\" >-0.014364</td>\n",
              "      <td id=\"T_51bf5_row2_col8\" class=\"data row2 col8\" >0.012350</td>\n",
              "      <td id=\"T_51bf5_row2_col9\" class=\"data row2 col9\" >-0.005724</td>\n",
              "      <td id=\"T_51bf5_row2_col10\" class=\"data row2 col10\" >-0.005245</td>\n",
              "      <td id=\"T_51bf5_row2_col11\" class=\"data row2 col11\" >-0.014523</td>\n",
              "      <td id=\"T_51bf5_row2_col12\" class=\"data row2 col12\" >-0.009476</td>\n",
              "      <td id=\"T_51bf5_row2_col13\" class=\"data row2 col13\" >0.003443</td>\n",
              "      <td id=\"T_51bf5_row2_col14\" class=\"data row2 col14\" >-0.029078</td>\n",
              "      <td id=\"T_51bf5_row2_col15\" class=\"data row2 col15\" >-0.007378</td>\n",
              "      <td id=\"T_51bf5_row2_col16\" class=\"data row2 col16\" >-0.011432</td>\n",
              "      <td id=\"T_51bf5_row2_col17\" class=\"data row2 col17\" >-0.046433</td>\n",
              "      <td id=\"T_51bf5_row2_col18\" class=\"data row2 col18\" >0.019756</td>\n",
              "      <td id=\"T_51bf5_row2_col19\" class=\"data row2 col19\" >-0.024471</td>\n",
              "      <td id=\"T_51bf5_row2_col20\" class=\"data row2 col20\" >-0.006606</td>\n",
              "      <td id=\"T_51bf5_row2_col21\" class=\"data row2 col21\" >-0.029078</td>\n",
              "    </tr>\n",
              "    <tr>\n",
              "      <th id=\"T_51bf5_level0_row3\" class=\"row_heading level0 row3\" >dual_sim</th>\n",
              "      <td id=\"T_51bf5_row3_col0\" class=\"data row3 col0\" >-0.041847</td>\n",
              "      <td id=\"T_51bf5_row3_col1\" class=\"data row3 col1\" >0.035198</td>\n",
              "      <td id=\"T_51bf5_row3_col2\" class=\"data row3 col2\" >-0.001315</td>\n",
              "      <td id=\"T_51bf5_row3_col3\" class=\"data row3 col3\" >1.000000</td>\n",
              "      <td id=\"T_51bf5_row3_col4\" class=\"data row3 col4\" >-0.029123</td>\n",
              "      <td id=\"T_51bf5_row3_col5\" class=\"data row3 col5\" >0.003187</td>\n",
              "      <td id=\"T_51bf5_row3_col6\" class=\"data row3 col6\" >-0.015679</td>\n",
              "      <td id=\"T_51bf5_row3_col7\" class=\"data row3 col7\" >-0.022142</td>\n",
              "      <td id=\"T_51bf5_row3_col8\" class=\"data row3 col8\" >-0.008979</td>\n",
              "      <td id=\"T_51bf5_row3_col9\" class=\"data row3 col9\" >-0.024658</td>\n",
              "      <td id=\"T_51bf5_row3_col10\" class=\"data row3 col10\" >-0.017143</td>\n",
              "      <td id=\"T_51bf5_row3_col11\" class=\"data row3 col11\" >-0.020875</td>\n",
              "      <td id=\"T_51bf5_row3_col12\" class=\"data row3 col12\" >0.014291</td>\n",
              "      <td id=\"T_51bf5_row3_col13\" class=\"data row3 col13\" >0.041072</td>\n",
              "      <td id=\"T_51bf5_row3_col14\" class=\"data row3 col14\" >-0.011949</td>\n",
              "      <td id=\"T_51bf5_row3_col15\" class=\"data row3 col15\" >-0.016666</td>\n",
              "      <td id=\"T_51bf5_row3_col16\" class=\"data row3 col16\" >-0.039404</td>\n",
              "      <td id=\"T_51bf5_row3_col17\" class=\"data row3 col17\" >-0.014008</td>\n",
              "      <td id=\"T_51bf5_row3_col18\" class=\"data row3 col18\" >-0.017117</td>\n",
              "      <td id=\"T_51bf5_row3_col19\" class=\"data row3 col19\" >0.022740</td>\n",
              "      <td id=\"T_51bf5_row3_col20\" class=\"data row3 col20\" >0.017444</td>\n",
              "      <td id=\"T_51bf5_row3_col21\" class=\"data row3 col21\" >-0.011949</td>\n",
              "    </tr>\n",
              "    <tr>\n",
              "      <th id=\"T_51bf5_level0_row4\" class=\"row_heading level0 row4\" >fc</th>\n",
              "      <td id=\"T_51bf5_row4_col0\" class=\"data row4 col0\" >0.033334</td>\n",
              "      <td id=\"T_51bf5_row4_col1\" class=\"data row4 col1\" >0.003593</td>\n",
              "      <td id=\"T_51bf5_row4_col2\" class=\"data row4 col2\" >-0.000434</td>\n",
              "      <td id=\"T_51bf5_row4_col3\" class=\"data row4 col3\" >-0.029123</td>\n",
              "      <td id=\"T_51bf5_row4_col4\" class=\"data row4 col4\" >1.000000</td>\n",
              "      <td id=\"T_51bf5_row4_col5\" class=\"data row4 col5\" >-0.016560</td>\n",
              "      <td id=\"T_51bf5_row4_col6\" class=\"data row4 col6\" >-0.029133</td>\n",
              "      <td id=\"T_51bf5_row4_col7\" class=\"data row4 col7\" >-0.001791</td>\n",
              "      <td id=\"T_51bf5_row4_col8\" class=\"data row4 col8\" >0.023618</td>\n",
              "      <td id=\"T_51bf5_row4_col9\" class=\"data row4 col9\" >-0.013356</td>\n",
              "      <td id=\"T_51bf5_row4_col10\" class=\"data row4 col10\" >0.644595</td>\n",
              "      <td id=\"T_51bf5_row4_col11\" class=\"data row4 col11\" >-0.009990</td>\n",
              "      <td id=\"T_51bf5_row4_col12\" class=\"data row4 col12\" >-0.005176</td>\n",
              "      <td id=\"T_51bf5_row4_col13\" class=\"data row4 col13\" >0.015099</td>\n",
              "      <td id=\"T_51bf5_row4_col14\" class=\"data row4 col14\" >-0.011014</td>\n",
              "      <td id=\"T_51bf5_row4_col15\" class=\"data row4 col15\" >-0.012373</td>\n",
              "      <td id=\"T_51bf5_row4_col16\" class=\"data row4 col16\" >-0.006829</td>\n",
              "      <td id=\"T_51bf5_row4_col17\" class=\"data row4 col17\" >0.001793</td>\n",
              "      <td id=\"T_51bf5_row4_col18\" class=\"data row4 col18\" >-0.014828</td>\n",
              "      <td id=\"T_51bf5_row4_col19\" class=\"data row4 col19\" >0.020085</td>\n",
              "      <td id=\"T_51bf5_row4_col20\" class=\"data row4 col20\" >0.021998</td>\n",
              "      <td id=\"T_51bf5_row4_col21\" class=\"data row4 col21\" >-0.011014</td>\n",
              "    </tr>\n",
              "    <tr>\n",
              "      <th id=\"T_51bf5_level0_row5\" class=\"row_heading level0 row5\" >four_g</th>\n",
              "      <td id=\"T_51bf5_row5_col0\" class=\"data row5 col0\" >0.015665</td>\n",
              "      <td id=\"T_51bf5_row5_col1\" class=\"data row5 col1\" >0.013443</td>\n",
              "      <td id=\"T_51bf5_row5_col2\" class=\"data row5 col2\" >-0.043073</td>\n",
              "      <td id=\"T_51bf5_row5_col3\" class=\"data row5 col3\" >0.003187</td>\n",
              "      <td id=\"T_51bf5_row5_col4\" class=\"data row5 col4\" >-0.016560</td>\n",
              "      <td id=\"T_51bf5_row5_col5\" class=\"data row5 col5\" >1.000000</td>\n",
              "      <td id=\"T_51bf5_row5_col6\" class=\"data row5 col6\" >0.008690</td>\n",
              "      <td id=\"T_51bf5_row5_col7\" class=\"data row5 col7\" >-0.001823</td>\n",
              "      <td id=\"T_51bf5_row5_col8\" class=\"data row5 col8\" >-0.016537</td>\n",
              "      <td id=\"T_51bf5_row5_col9\" class=\"data row5 col9\" >-0.029706</td>\n",
              "      <td id=\"T_51bf5_row5_col10\" class=\"data row5 col10\" >-0.005598</td>\n",
              "      <td id=\"T_51bf5_row5_col11\" class=\"data row5 col11\" >-0.019236</td>\n",
              "      <td id=\"T_51bf5_row5_col12\" class=\"data row5 col12\" >0.007448</td>\n",
              "      <td id=\"T_51bf5_row5_col13\" class=\"data row5 col13\" >0.007313</td>\n",
              "      <td id=\"T_51bf5_row5_col14\" class=\"data row5 col14\" >0.027166</td>\n",
              "      <td id=\"T_51bf5_row5_col15\" class=\"data row5 col15\" >0.037005</td>\n",
              "      <td id=\"T_51bf5_row5_col16\" class=\"data row5 col16\" >-0.046628</td>\n",
              "      <td id=\"T_51bf5_row5_col17\" class=\"data row5 col17\" >0.584246</td>\n",
              "      <td id=\"T_51bf5_row5_col18\" class=\"data row5 col18\" >0.016758</td>\n",
              "      <td id=\"T_51bf5_row5_col19\" class=\"data row5 col19\" >-0.017620</td>\n",
              "      <td id=\"T_51bf5_row5_col20\" class=\"data row5 col20\" >0.014772</td>\n",
              "      <td id=\"T_51bf5_row5_col21\" class=\"data row5 col21\" >0.027166</td>\n",
              "    </tr>\n",
              "    <tr>\n",
              "      <th id=\"T_51bf5_level0_row6\" class=\"row_heading level0 row6\" >int_memory</th>\n",
              "      <td id=\"T_51bf5_row6_col0\" class=\"data row6 col0\" >-0.004004</td>\n",
              "      <td id=\"T_51bf5_row6_col1\" class=\"data row6 col1\" >0.041177</td>\n",
              "      <td id=\"T_51bf5_row6_col2\" class=\"data row6 col2\" >0.006545</td>\n",
              "      <td id=\"T_51bf5_row6_col3\" class=\"data row6 col3\" >-0.015679</td>\n",
              "      <td id=\"T_51bf5_row6_col4\" class=\"data row6 col4\" >-0.029133</td>\n",
              "      <td id=\"T_51bf5_row6_col5\" class=\"data row6 col5\" >0.008690</td>\n",
              "      <td id=\"T_51bf5_row6_col6\" class=\"data row6 col6\" >1.000000</td>\n",
              "      <td id=\"T_51bf5_row6_col7\" class=\"data row6 col7\" >0.006886</td>\n",
              "      <td id=\"T_51bf5_row6_col8\" class=\"data row6 col8\" >-0.034214</td>\n",
              "      <td id=\"T_51bf5_row6_col9\" class=\"data row6 col9\" >-0.028310</td>\n",
              "      <td id=\"T_51bf5_row6_col10\" class=\"data row6 col10\" >-0.033273</td>\n",
              "      <td id=\"T_51bf5_row6_col11\" class=\"data row6 col11\" >0.010441</td>\n",
              "      <td id=\"T_51bf5_row6_col12\" class=\"data row6 col12\" >-0.008335</td>\n",
              "      <td id=\"T_51bf5_row6_col13\" class=\"data row6 col13\" >0.032813</td>\n",
              "      <td id=\"T_51bf5_row6_col14\" class=\"data row6 col14\" >0.037771</td>\n",
              "      <td id=\"T_51bf5_row6_col15\" class=\"data row6 col15\" >0.011731</td>\n",
              "      <td id=\"T_51bf5_row6_col16\" class=\"data row6 col16\" >-0.002790</td>\n",
              "      <td id=\"T_51bf5_row6_col17\" class=\"data row6 col17\" >-0.009366</td>\n",
              "      <td id=\"T_51bf5_row6_col18\" class=\"data row6 col18\" >-0.026999</td>\n",
              "      <td id=\"T_51bf5_row6_col19\" class=\"data row6 col19\" >0.006993</td>\n",
              "      <td id=\"T_51bf5_row6_col20\" class=\"data row6 col20\" >0.044435</td>\n",
              "      <td id=\"T_51bf5_row6_col21\" class=\"data row6 col21\" >0.037771</td>\n",
              "    </tr>\n",
              "    <tr>\n",
              "      <th id=\"T_51bf5_level0_row7\" class=\"row_heading level0 row7\" >m_dep</th>\n",
              "      <td id=\"T_51bf5_row7_col0\" class=\"data row7 col0\" >0.034085</td>\n",
              "      <td id=\"T_51bf5_row7_col1\" class=\"data row7 col1\" >0.004049</td>\n",
              "      <td id=\"T_51bf5_row7_col2\" class=\"data row7 col2\" >-0.014364</td>\n",
              "      <td id=\"T_51bf5_row7_col3\" class=\"data row7 col3\" >-0.022142</td>\n",
              "      <td id=\"T_51bf5_row7_col4\" class=\"data row7 col4\" >-0.001791</td>\n",
              "      <td id=\"T_51bf5_row7_col5\" class=\"data row7 col5\" >-0.001823</td>\n",
              "      <td id=\"T_51bf5_row7_col6\" class=\"data row7 col6\" >0.006886</td>\n",
              "      <td id=\"T_51bf5_row7_col7\" class=\"data row7 col7\" >1.000000</td>\n",
              "      <td id=\"T_51bf5_row7_col8\" class=\"data row7 col8\" >0.021756</td>\n",
              "      <td id=\"T_51bf5_row7_col9\" class=\"data row7 col9\" >-0.003504</td>\n",
              "      <td id=\"T_51bf5_row7_col10\" class=\"data row7 col10\" >0.026282</td>\n",
              "      <td id=\"T_51bf5_row7_col11\" class=\"data row7 col11\" >0.025263</td>\n",
              "      <td id=\"T_51bf5_row7_col12\" class=\"data row7 col12\" >0.023566</td>\n",
              "      <td id=\"T_51bf5_row7_col13\" class=\"data row7 col13\" >-0.009434</td>\n",
              "      <td id=\"T_51bf5_row7_col14\" class=\"data row7 col14\" >-0.025348</td>\n",
              "      <td id=\"T_51bf5_row7_col15\" class=\"data row7 col15\" >-0.018388</td>\n",
              "      <td id=\"T_51bf5_row7_col16\" class=\"data row7 col16\" >0.017003</td>\n",
              "      <td id=\"T_51bf5_row7_col17\" class=\"data row7 col17\" >-0.012065</td>\n",
              "      <td id=\"T_51bf5_row7_col18\" class=\"data row7 col18\" >-0.002638</td>\n",
              "      <td id=\"T_51bf5_row7_col19\" class=\"data row7 col19\" >-0.028353</td>\n",
              "      <td id=\"T_51bf5_row7_col20\" class=\"data row7 col20\" >0.000853</td>\n",
              "      <td id=\"T_51bf5_row7_col21\" class=\"data row7 col21\" >-0.025348</td>\n",
              "    </tr>\n",
              "    <tr>\n",
              "      <th id=\"T_51bf5_level0_row8\" class=\"row_heading level0 row8\" >mobile_wt</th>\n",
              "      <td id=\"T_51bf5_row8_col0\" class=\"data row8 col0\" >0.001844</td>\n",
              "      <td id=\"T_51bf5_row8_col1\" class=\"data row8 col1\" >-0.008605</td>\n",
              "      <td id=\"T_51bf5_row8_col2\" class=\"data row8 col2\" >0.012350</td>\n",
              "      <td id=\"T_51bf5_row8_col3\" class=\"data row8 col3\" >-0.008979</td>\n",
              "      <td id=\"T_51bf5_row8_col4\" class=\"data row8 col4\" >0.023618</td>\n",
              "      <td id=\"T_51bf5_row8_col5\" class=\"data row8 col5\" >-0.016537</td>\n",
              "      <td id=\"T_51bf5_row8_col6\" class=\"data row8 col6\" >-0.034214</td>\n",
              "      <td id=\"T_51bf5_row8_col7\" class=\"data row8 col7\" >0.021756</td>\n",
              "      <td id=\"T_51bf5_row8_col8\" class=\"data row8 col8\" >1.000000</td>\n",
              "      <td id=\"T_51bf5_row8_col9\" class=\"data row8 col9\" >-0.018989</td>\n",
              "      <td id=\"T_51bf5_row8_col10\" class=\"data row8 col10\" >0.018844</td>\n",
              "      <td id=\"T_51bf5_row8_col11\" class=\"data row8 col11\" >0.000939</td>\n",
              "      <td id=\"T_51bf5_row8_col12\" class=\"data row8 col12\" >0.000090</td>\n",
              "      <td id=\"T_51bf5_row8_col13\" class=\"data row8 col13\" >-0.002581</td>\n",
              "      <td id=\"T_51bf5_row8_col14\" class=\"data row8 col14\" >-0.033855</td>\n",
              "      <td id=\"T_51bf5_row8_col15\" class=\"data row8 col15\" >-0.020761</td>\n",
              "      <td id=\"T_51bf5_row8_col16\" class=\"data row8 col16\" >0.006209</td>\n",
              "      <td id=\"T_51bf5_row8_col17\" class=\"data row8 col17\" >0.001551</td>\n",
              "      <td id=\"T_51bf5_row8_col18\" class=\"data row8 col18\" >-0.014368</td>\n",
              "      <td id=\"T_51bf5_row8_col19\" class=\"data row8 col19\" >-0.000409</td>\n",
              "      <td id=\"T_51bf5_row8_col20\" class=\"data row8 col20\" >-0.030302</td>\n",
              "      <td id=\"T_51bf5_row8_col21\" class=\"data row8 col21\" >-0.033855</td>\n",
              "    </tr>\n",
              "    <tr>\n",
              "      <th id=\"T_51bf5_level0_row9\" class=\"row_heading level0 row9\" >n_cores</th>\n",
              "      <td id=\"T_51bf5_row9_col0\" class=\"data row9 col0\" >-0.029727</td>\n",
              "      <td id=\"T_51bf5_row9_col1\" class=\"data row9 col1\" >0.036161</td>\n",
              "      <td id=\"T_51bf5_row9_col2\" class=\"data row9 col2\" >-0.005724</td>\n",
              "      <td id=\"T_51bf5_row9_col3\" class=\"data row9 col3\" >-0.024658</td>\n",
              "      <td id=\"T_51bf5_row9_col4\" class=\"data row9 col4\" >-0.013356</td>\n",
              "      <td id=\"T_51bf5_row9_col5\" class=\"data row9 col5\" >-0.029706</td>\n",
              "      <td id=\"T_51bf5_row9_col6\" class=\"data row9 col6\" >-0.028310</td>\n",
              "      <td id=\"T_51bf5_row9_col7\" class=\"data row9 col7\" >-0.003504</td>\n",
              "      <td id=\"T_51bf5_row9_col8\" class=\"data row9 col8\" >-0.018989</td>\n",
              "      <td id=\"T_51bf5_row9_col9\" class=\"data row9 col9\" >1.000000</td>\n",
              "      <td id=\"T_51bf5_row9_col10\" class=\"data row9 col10\" >-0.001193</td>\n",
              "      <td id=\"T_51bf5_row9_col11\" class=\"data row9 col11\" >-0.006872</td>\n",
              "      <td id=\"T_51bf5_row9_col12\" class=\"data row9 col12\" >0.024480</td>\n",
              "      <td id=\"T_51bf5_row9_col13\" class=\"data row9 col13\" >0.004868</td>\n",
              "      <td id=\"T_51bf5_row9_col14\" class=\"data row9 col14\" >-0.000315</td>\n",
              "      <td id=\"T_51bf5_row9_col15\" class=\"data row9 col15\" >0.025826</td>\n",
              "      <td id=\"T_51bf5_row9_col16\" class=\"data row9 col16\" >0.013148</td>\n",
              "      <td id=\"T_51bf5_row9_col17\" class=\"data row9 col17\" >-0.014733</td>\n",
              "      <td id=\"T_51bf5_row9_col18\" class=\"data row9 col18\" >0.023774</td>\n",
              "      <td id=\"T_51bf5_row9_col19\" class=\"data row9 col19\" >-0.009964</td>\n",
              "      <td id=\"T_51bf5_row9_col20\" class=\"data row9 col20\" >0.004399</td>\n",
              "      <td id=\"T_51bf5_row9_col21\" class=\"data row9 col21\" >-0.000315</td>\n",
              "    </tr>\n",
              "    <tr>\n",
              "      <th id=\"T_51bf5_level0_row10\" class=\"row_heading level0 row10\" >pc</th>\n",
              "      <td id=\"T_51bf5_row10_col0\" class=\"data row10 col0\" >0.031441</td>\n",
              "      <td id=\"T_51bf5_row10_col1\" class=\"data row10 col1\" >-0.009952</td>\n",
              "      <td id=\"T_51bf5_row10_col2\" class=\"data row10 col2\" >-0.005245</td>\n",
              "      <td id=\"T_51bf5_row10_col3\" class=\"data row10 col3\" >-0.017143</td>\n",
              "      <td id=\"T_51bf5_row10_col4\" class=\"data row10 col4\" >0.644595</td>\n",
              "      <td id=\"T_51bf5_row10_col5\" class=\"data row10 col5\" >-0.005598</td>\n",
              "      <td id=\"T_51bf5_row10_col6\" class=\"data row10 col6\" >-0.033273</td>\n",
              "      <td id=\"T_51bf5_row10_col7\" class=\"data row10 col7\" >0.026282</td>\n",
              "      <td id=\"T_51bf5_row10_col8\" class=\"data row10 col8\" >0.018844</td>\n",
              "      <td id=\"T_51bf5_row10_col9\" class=\"data row10 col9\" >-0.001193</td>\n",
              "      <td id=\"T_51bf5_row10_col10\" class=\"data row10 col10\" >1.000000</td>\n",
              "      <td id=\"T_51bf5_row10_col11\" class=\"data row10 col11\" >-0.018465</td>\n",
              "      <td id=\"T_51bf5_row10_col12\" class=\"data row10 col12\" >0.004196</td>\n",
              "      <td id=\"T_51bf5_row10_col13\" class=\"data row10 col13\" >0.028984</td>\n",
              "      <td id=\"T_51bf5_row10_col14\" class=\"data row10 col14\" >0.004938</td>\n",
              "      <td id=\"T_51bf5_row10_col15\" class=\"data row10 col15\" >-0.023819</td>\n",
              "      <td id=\"T_51bf5_row10_col16\" class=\"data row10 col16\" >0.014657</td>\n",
              "      <td id=\"T_51bf5_row10_col17\" class=\"data row10 col17\" >-0.001322</td>\n",
              "      <td id=\"T_51bf5_row10_col18\" class=\"data row10 col18\" >-0.008742</td>\n",
              "      <td id=\"T_51bf5_row10_col19\" class=\"data row10 col19\" >0.005389</td>\n",
              "      <td id=\"T_51bf5_row10_col20\" class=\"data row10 col20\" >0.033599</td>\n",
              "      <td id=\"T_51bf5_row10_col21\" class=\"data row10 col21\" >0.004938</td>\n",
              "    </tr>\n",
              "    <tr>\n",
              "      <th id=\"T_51bf5_level0_row11\" class=\"row_heading level0 row11\" >px_height</th>\n",
              "      <td id=\"T_51bf5_row11_col0\" class=\"data row11 col0\" >0.014901</td>\n",
              "      <td id=\"T_51bf5_row11_col1\" class=\"data row11 col1\" >-0.006872</td>\n",
              "      <td id=\"T_51bf5_row11_col2\" class=\"data row11 col2\" >-0.014523</td>\n",
              "      <td id=\"T_51bf5_row11_col3\" class=\"data row11 col3\" >-0.020875</td>\n",
              "      <td id=\"T_51bf5_row11_col4\" class=\"data row11 col4\" >-0.009990</td>\n",
              "      <td id=\"T_51bf5_row11_col5\" class=\"data row11 col5\" >-0.019236</td>\n",
              "      <td id=\"T_51bf5_row11_col6\" class=\"data row11 col6\" >0.010441</td>\n",
              "      <td id=\"T_51bf5_row11_col7\" class=\"data row11 col7\" >0.025263</td>\n",
              "      <td id=\"T_51bf5_row11_col8\" class=\"data row11 col8\" >0.000939</td>\n",
              "      <td id=\"T_51bf5_row11_col9\" class=\"data row11 col9\" >-0.006872</td>\n",
              "      <td id=\"T_51bf5_row11_col10\" class=\"data row11 col10\" >-0.018465</td>\n",
              "      <td id=\"T_51bf5_row11_col11\" class=\"data row11 col11\" >1.000000</td>\n",
              "      <td id=\"T_51bf5_row11_col12\" class=\"data row11 col12\" >0.510664</td>\n",
              "      <td id=\"T_51bf5_row11_col13\" class=\"data row11 col13\" >-0.020352</td>\n",
              "      <td id=\"T_51bf5_row11_col14\" class=\"data row11 col14\" >0.059615</td>\n",
              "      <td id=\"T_51bf5_row11_col15\" class=\"data row11 col15\" >0.043038</td>\n",
              "      <td id=\"T_51bf5_row11_col16\" class=\"data row11 col16\" >-0.010645</td>\n",
              "      <td id=\"T_51bf5_row11_col17\" class=\"data row11 col17\" >-0.031174</td>\n",
              "      <td id=\"T_51bf5_row11_col18\" class=\"data row11 col18\" >0.021891</td>\n",
              "      <td id=\"T_51bf5_row11_col19\" class=\"data row11 col19\" >0.051824</td>\n",
              "      <td id=\"T_51bf5_row11_col20\" class=\"data row11 col20\" >0.148858</td>\n",
              "      <td id=\"T_51bf5_row11_col21\" class=\"data row11 col21\" >0.059615</td>\n",
              "    </tr>\n",
              "    <tr>\n",
              "      <th id=\"T_51bf5_level0_row12\" class=\"row_heading level0 row12\" >px_width</th>\n",
              "      <td id=\"T_51bf5_row12_col0\" class=\"data row12 col0\" >-0.008402</td>\n",
              "      <td id=\"T_51bf5_row12_col1\" class=\"data row12 col1\" >-0.041533</td>\n",
              "      <td id=\"T_51bf5_row12_col2\" class=\"data row12 col2\" >-0.009476</td>\n",
              "      <td id=\"T_51bf5_row12_col3\" class=\"data row12 col3\" >0.014291</td>\n",
              "      <td id=\"T_51bf5_row12_col4\" class=\"data row12 col4\" >-0.005176</td>\n",
              "      <td id=\"T_51bf5_row12_col5\" class=\"data row12 col5\" >0.007448</td>\n",
              "      <td id=\"T_51bf5_row12_col6\" class=\"data row12 col6\" >-0.008335</td>\n",
              "      <td id=\"T_51bf5_row12_col7\" class=\"data row12 col7\" >0.023566</td>\n",
              "      <td id=\"T_51bf5_row12_col8\" class=\"data row12 col8\" >0.000090</td>\n",
              "      <td id=\"T_51bf5_row12_col9\" class=\"data row12 col9\" >0.024480</td>\n",
              "      <td id=\"T_51bf5_row12_col10\" class=\"data row12 col10\" >0.004196</td>\n",
              "      <td id=\"T_51bf5_row12_col11\" class=\"data row12 col11\" >0.510664</td>\n",
              "      <td id=\"T_51bf5_row12_col12\" class=\"data row12 col12\" >1.000000</td>\n",
              "      <td id=\"T_51bf5_row12_col13\" class=\"data row12 col13\" >0.004105</td>\n",
              "      <td id=\"T_51bf5_row12_col14\" class=\"data row12 col14\" >0.021599</td>\n",
              "      <td id=\"T_51bf5_row12_col15\" class=\"data row12 col15\" >0.034699</td>\n",
              "      <td id=\"T_51bf5_row12_col16\" class=\"data row12 col16\" >0.006720</td>\n",
              "      <td id=\"T_51bf5_row12_col17\" class=\"data row12 col17\" >0.000350</td>\n",
              "      <td id=\"T_51bf5_row12_col18\" class=\"data row12 col18\" >-0.001628</td>\n",
              "      <td id=\"T_51bf5_row12_col19\" class=\"data row12 col19\" >0.030319</td>\n",
              "      <td id=\"T_51bf5_row12_col20\" class=\"data row12 col20\" >0.165818</td>\n",
              "      <td id=\"T_51bf5_row12_col21\" class=\"data row12 col21\" >0.021599</td>\n",
              "    </tr>\n",
              "    <tr>\n",
              "      <th id=\"T_51bf5_level0_row13\" class=\"row_heading level0 row13\" >ram</th>\n",
              "      <td id=\"T_51bf5_row13_col0\" class=\"data row13 col0\" >-0.000653</td>\n",
              "      <td id=\"T_51bf5_row13_col1\" class=\"data row13 col1\" >0.026351</td>\n",
              "      <td id=\"T_51bf5_row13_col2\" class=\"data row13 col2\" >0.003443</td>\n",
              "      <td id=\"T_51bf5_row13_col3\" class=\"data row13 col3\" >0.041072</td>\n",
              "      <td id=\"T_51bf5_row13_col4\" class=\"data row13 col4\" >0.015099</td>\n",
              "      <td id=\"T_51bf5_row13_col5\" class=\"data row13 col5\" >0.007313</td>\n",
              "      <td id=\"T_51bf5_row13_col6\" class=\"data row13 col6\" >0.032813</td>\n",
              "      <td id=\"T_51bf5_row13_col7\" class=\"data row13 col7\" >-0.009434</td>\n",
              "      <td id=\"T_51bf5_row13_col8\" class=\"data row13 col8\" >-0.002581</td>\n",
              "      <td id=\"T_51bf5_row13_col9\" class=\"data row13 col9\" >0.004868</td>\n",
              "      <td id=\"T_51bf5_row13_col10\" class=\"data row13 col10\" >0.028984</td>\n",
              "      <td id=\"T_51bf5_row13_col11\" class=\"data row13 col11\" >-0.020352</td>\n",
              "      <td id=\"T_51bf5_row13_col12\" class=\"data row13 col12\" >0.004105</td>\n",
              "      <td id=\"T_51bf5_row13_col13\" class=\"data row13 col13\" >1.000000</td>\n",
              "      <td id=\"T_51bf5_row13_col14\" class=\"data row13 col14\" >0.015996</td>\n",
              "      <td id=\"T_51bf5_row13_col15\" class=\"data row13 col15\" >0.035576</td>\n",
              "      <td id=\"T_51bf5_row13_col16\" class=\"data row13 col16\" >0.010820</td>\n",
              "      <td id=\"T_51bf5_row13_col17\" class=\"data row13 col17\" >0.015795</td>\n",
              "      <td id=\"T_51bf5_row13_col18\" class=\"data row13 col18\" >-0.030455</td>\n",
              "      <td id=\"T_51bf5_row13_col19\" class=\"data row13 col19\" >0.022669</td>\n",
              "      <td id=\"T_51bf5_row13_col20\" class=\"data row13 col20\" >0.917046</td>\n",
              "      <td id=\"T_51bf5_row13_col21\" class=\"data row13 col21\" >0.015996</td>\n",
              "    </tr>\n",
              "    <tr>\n",
              "      <th id=\"T_51bf5_level0_row14\" class=\"row_heading level0 row14\" >sc_h</th>\n",
              "      <td id=\"T_51bf5_row14_col0\" class=\"data row14 col0\" >-0.029959</td>\n",
              "      <td id=\"T_51bf5_row14_col1\" class=\"data row14 col1\" >-0.002952</td>\n",
              "      <td id=\"T_51bf5_row14_col2\" class=\"data row14 col2\" >-0.029078</td>\n",
              "      <td id=\"T_51bf5_row14_col3\" class=\"data row14 col3\" >-0.011949</td>\n",
              "      <td id=\"T_51bf5_row14_col4\" class=\"data row14 col4\" >-0.011014</td>\n",
              "      <td id=\"T_51bf5_row14_col5\" class=\"data row14 col5\" >0.027166</td>\n",
              "      <td id=\"T_51bf5_row14_col6\" class=\"data row14 col6\" >0.037771</td>\n",
              "      <td id=\"T_51bf5_row14_col7\" class=\"data row14 col7\" >-0.025348</td>\n",
              "      <td id=\"T_51bf5_row14_col8\" class=\"data row14 col8\" >-0.033855</td>\n",
              "      <td id=\"T_51bf5_row14_col9\" class=\"data row14 col9\" >-0.000315</td>\n",
              "      <td id=\"T_51bf5_row14_col10\" class=\"data row14 col10\" >0.004938</td>\n",
              "      <td id=\"T_51bf5_row14_col11\" class=\"data row14 col11\" >0.059615</td>\n",
              "      <td id=\"T_51bf5_row14_col12\" class=\"data row14 col12\" >0.021599</td>\n",
              "      <td id=\"T_51bf5_row14_col13\" class=\"data row14 col13\" >0.015996</td>\n",
              "      <td id=\"T_51bf5_row14_col14\" class=\"data row14 col14\" >1.000000</td>\n",
              "      <td id=\"T_51bf5_row14_col15\" class=\"data row14 col15\" >0.506144</td>\n",
              "      <td id=\"T_51bf5_row14_col16\" class=\"data row14 col16\" >-0.017335</td>\n",
              "      <td id=\"T_51bf5_row14_col17\" class=\"data row14 col17\" >0.012033</td>\n",
              "      <td id=\"T_51bf5_row14_col18\" class=\"data row14 col18\" >-0.020023</td>\n",
              "      <td id=\"T_51bf5_row14_col19\" class=\"data row14 col19\" >0.025929</td>\n",
              "      <td id=\"T_51bf5_row14_col20\" class=\"data row14 col20\" >0.022986</td>\n",
              "      <td id=\"T_51bf5_row14_col21\" class=\"data row14 col21\" >1.000000</td>\n",
              "    </tr>\n",
              "    <tr>\n",
              "      <th id=\"T_51bf5_level0_row15\" class=\"row_heading level0 row15\" >sc_w</th>\n",
              "      <td id=\"T_51bf5_row15_col0\" class=\"data row15 col0\" >-0.021421</td>\n",
              "      <td id=\"T_51bf5_row15_col1\" class=\"data row15 col1\" >0.000613</td>\n",
              "      <td id=\"T_51bf5_row15_col2\" class=\"data row15 col2\" >-0.007378</td>\n",
              "      <td id=\"T_51bf5_row15_col3\" class=\"data row15 col3\" >-0.016666</td>\n",
              "      <td id=\"T_51bf5_row15_col4\" class=\"data row15 col4\" >-0.012373</td>\n",
              "      <td id=\"T_51bf5_row15_col5\" class=\"data row15 col5\" >0.037005</td>\n",
              "      <td id=\"T_51bf5_row15_col6\" class=\"data row15 col6\" >0.011731</td>\n",
              "      <td id=\"T_51bf5_row15_col7\" class=\"data row15 col7\" >-0.018388</td>\n",
              "      <td id=\"T_51bf5_row15_col8\" class=\"data row15 col8\" >-0.020761</td>\n",
              "      <td id=\"T_51bf5_row15_col9\" class=\"data row15 col9\" >0.025826</td>\n",
              "      <td id=\"T_51bf5_row15_col10\" class=\"data row15 col10\" >-0.023819</td>\n",
              "      <td id=\"T_51bf5_row15_col11\" class=\"data row15 col11\" >0.043038</td>\n",
              "      <td id=\"T_51bf5_row15_col12\" class=\"data row15 col12\" >0.034699</td>\n",
              "      <td id=\"T_51bf5_row15_col13\" class=\"data row15 col13\" >0.035576</td>\n",
              "      <td id=\"T_51bf5_row15_col14\" class=\"data row15 col14\" >0.506144</td>\n",
              "      <td id=\"T_51bf5_row15_col15\" class=\"data row15 col15\" >1.000000</td>\n",
              "      <td id=\"T_51bf5_row15_col16\" class=\"data row15 col16\" >-0.022821</td>\n",
              "      <td id=\"T_51bf5_row15_col17\" class=\"data row15 col17\" >0.030941</td>\n",
              "      <td id=\"T_51bf5_row15_col18\" class=\"data row15 col18\" >0.012720</td>\n",
              "      <td id=\"T_51bf5_row15_col19\" class=\"data row15 col19\" >0.035423</td>\n",
              "      <td id=\"T_51bf5_row15_col20\" class=\"data row15 col20\" >0.038711</td>\n",
              "      <td id=\"T_51bf5_row15_col21\" class=\"data row15 col21\" >0.506144</td>\n",
              "    </tr>\n",
              "    <tr>\n",
              "      <th id=\"T_51bf5_level0_row16\" class=\"row_heading level0 row16\" >talk_time</th>\n",
              "      <td id=\"T_51bf5_row16_col0\" class=\"data row16 col0\" >0.052510</td>\n",
              "      <td id=\"T_51bf5_row16_col1\" class=\"data row16 col1\" >0.013934</td>\n",
              "      <td id=\"T_51bf5_row16_col2\" class=\"data row16 col2\" >-0.011432</td>\n",
              "      <td id=\"T_51bf5_row16_col3\" class=\"data row16 col3\" >-0.039404</td>\n",
              "      <td id=\"T_51bf5_row16_col4\" class=\"data row16 col4\" >-0.006829</td>\n",
              "      <td id=\"T_51bf5_row16_col5\" class=\"data row16 col5\" >-0.046628</td>\n",
              "      <td id=\"T_51bf5_row16_col6\" class=\"data row16 col6\" >-0.002790</td>\n",
              "      <td id=\"T_51bf5_row16_col7\" class=\"data row16 col7\" >0.017003</td>\n",
              "      <td id=\"T_51bf5_row16_col8\" class=\"data row16 col8\" >0.006209</td>\n",
              "      <td id=\"T_51bf5_row16_col9\" class=\"data row16 col9\" >0.013148</td>\n",
              "      <td id=\"T_51bf5_row16_col10\" class=\"data row16 col10\" >0.014657</td>\n",
              "      <td id=\"T_51bf5_row16_col11\" class=\"data row16 col11\" >-0.010645</td>\n",
              "      <td id=\"T_51bf5_row16_col12\" class=\"data row16 col12\" >0.006720</td>\n",
              "      <td id=\"T_51bf5_row16_col13\" class=\"data row16 col13\" >0.010820</td>\n",
              "      <td id=\"T_51bf5_row16_col14\" class=\"data row16 col14\" >-0.017335</td>\n",
              "      <td id=\"T_51bf5_row16_col15\" class=\"data row16 col15\" >-0.022821</td>\n",
              "      <td id=\"T_51bf5_row16_col16\" class=\"data row16 col16\" >1.000000</td>\n",
              "      <td id=\"T_51bf5_row16_col17\" class=\"data row16 col17\" >-0.042688</td>\n",
              "      <td id=\"T_51bf5_row16_col18\" class=\"data row16 col18\" >0.017196</td>\n",
              "      <td id=\"T_51bf5_row16_col19\" class=\"data row16 col19\" >-0.029504</td>\n",
              "      <td id=\"T_51bf5_row16_col20\" class=\"data row16 col20\" >0.021859</td>\n",
              "      <td id=\"T_51bf5_row16_col21\" class=\"data row16 col21\" >-0.017335</td>\n",
              "    </tr>\n",
              "    <tr>\n",
              "      <th id=\"T_51bf5_level0_row17\" class=\"row_heading level0 row17\" >three_g</th>\n",
              "      <td id=\"T_51bf5_row17_col0\" class=\"data row17 col0\" >0.011522</td>\n",
              "      <td id=\"T_51bf5_row17_col1\" class=\"data row17 col1\" >-0.030236</td>\n",
              "      <td id=\"T_51bf5_row17_col2\" class=\"data row17 col2\" >-0.046433</td>\n",
              "      <td id=\"T_51bf5_row17_col3\" class=\"data row17 col3\" >-0.014008</td>\n",
              "      <td id=\"T_51bf5_row17_col4\" class=\"data row17 col4\" >0.001793</td>\n",
              "      <td id=\"T_51bf5_row17_col5\" class=\"data row17 col5\" >0.584246</td>\n",
              "      <td id=\"T_51bf5_row17_col6\" class=\"data row17 col6\" >-0.009366</td>\n",
              "      <td id=\"T_51bf5_row17_col7\" class=\"data row17 col7\" >-0.012065</td>\n",
              "      <td id=\"T_51bf5_row17_col8\" class=\"data row17 col8\" >0.001551</td>\n",
              "      <td id=\"T_51bf5_row17_col9\" class=\"data row17 col9\" >-0.014733</td>\n",
              "      <td id=\"T_51bf5_row17_col10\" class=\"data row17 col10\" >-0.001322</td>\n",
              "      <td id=\"T_51bf5_row17_col11\" class=\"data row17 col11\" >-0.031174</td>\n",
              "      <td id=\"T_51bf5_row17_col12\" class=\"data row17 col12\" >0.000350</td>\n",
              "      <td id=\"T_51bf5_row17_col13\" class=\"data row17 col13\" >0.015795</td>\n",
              "      <td id=\"T_51bf5_row17_col14\" class=\"data row17 col14\" >0.012033</td>\n",
              "      <td id=\"T_51bf5_row17_col15\" class=\"data row17 col15\" >0.030941</td>\n",
              "      <td id=\"T_51bf5_row17_col16\" class=\"data row17 col16\" >-0.042688</td>\n",
              "      <td id=\"T_51bf5_row17_col17\" class=\"data row17 col17\" >1.000000</td>\n",
              "      <td id=\"T_51bf5_row17_col18\" class=\"data row17 col18\" >0.013917</td>\n",
              "      <td id=\"T_51bf5_row17_col19\" class=\"data row17 col19\" >0.004316</td>\n",
              "      <td id=\"T_51bf5_row17_col20\" class=\"data row17 col20\" >0.023611</td>\n",
              "      <td id=\"T_51bf5_row17_col21\" class=\"data row17 col21\" >0.012033</td>\n",
              "    </tr>\n",
              "    <tr>\n",
              "      <th id=\"T_51bf5_level0_row18\" class=\"row_heading level0 row18\" >touch_screen</th>\n",
              "      <td id=\"T_51bf5_row18_col0\" class=\"data row18 col0\" >-0.010516</td>\n",
              "      <td id=\"T_51bf5_row18_col1\" class=\"data row18 col1\" >0.010061</td>\n",
              "      <td id=\"T_51bf5_row18_col2\" class=\"data row18 col2\" >0.019756</td>\n",
              "      <td id=\"T_51bf5_row18_col3\" class=\"data row18 col3\" >-0.017117</td>\n",
              "      <td id=\"T_51bf5_row18_col4\" class=\"data row18 col4\" >-0.014828</td>\n",
              "      <td id=\"T_51bf5_row18_col5\" class=\"data row18 col5\" >0.016758</td>\n",
              "      <td id=\"T_51bf5_row18_col6\" class=\"data row18 col6\" >-0.026999</td>\n",
              "      <td id=\"T_51bf5_row18_col7\" class=\"data row18 col7\" >-0.002638</td>\n",
              "      <td id=\"T_51bf5_row18_col8\" class=\"data row18 col8\" >-0.014368</td>\n",
              "      <td id=\"T_51bf5_row18_col9\" class=\"data row18 col9\" >0.023774</td>\n",
              "      <td id=\"T_51bf5_row18_col10\" class=\"data row18 col10\" >-0.008742</td>\n",
              "      <td id=\"T_51bf5_row18_col11\" class=\"data row18 col11\" >0.021891</td>\n",
              "      <td id=\"T_51bf5_row18_col12\" class=\"data row18 col12\" >-0.001628</td>\n",
              "      <td id=\"T_51bf5_row18_col13\" class=\"data row18 col13\" >-0.030455</td>\n",
              "      <td id=\"T_51bf5_row18_col14\" class=\"data row18 col14\" >-0.020023</td>\n",
              "      <td id=\"T_51bf5_row18_col15\" class=\"data row18 col15\" >0.012720</td>\n",
              "      <td id=\"T_51bf5_row18_col16\" class=\"data row18 col16\" >0.017196</td>\n",
              "      <td id=\"T_51bf5_row18_col17\" class=\"data row18 col17\" >0.013917</td>\n",
              "      <td id=\"T_51bf5_row18_col18\" class=\"data row18 col18\" >1.000000</td>\n",
              "      <td id=\"T_51bf5_row18_col19\" class=\"data row18 col19\" >0.011917</td>\n",
              "      <td id=\"T_51bf5_row18_col20\" class=\"data row18 col20\" >-0.030411</td>\n",
              "      <td id=\"T_51bf5_row18_col21\" class=\"data row18 col21\" >-0.020023</td>\n",
              "    </tr>\n",
              "    <tr>\n",
              "      <th id=\"T_51bf5_level0_row19\" class=\"row_heading level0 row19\" >wifi</th>\n",
              "      <td id=\"T_51bf5_row19_col0\" class=\"data row19 col0\" >-0.008343</td>\n",
              "      <td id=\"T_51bf5_row19_col1\" class=\"data row19 col1\" >-0.021863</td>\n",
              "      <td id=\"T_51bf5_row19_col2\" class=\"data row19 col2\" >-0.024471</td>\n",
              "      <td id=\"T_51bf5_row19_col3\" class=\"data row19 col3\" >0.022740</td>\n",
              "      <td id=\"T_51bf5_row19_col4\" class=\"data row19 col4\" >0.020085</td>\n",
              "      <td id=\"T_51bf5_row19_col5\" class=\"data row19 col5\" >-0.017620</td>\n",
              "      <td id=\"T_51bf5_row19_col6\" class=\"data row19 col6\" >0.006993</td>\n",
              "      <td id=\"T_51bf5_row19_col7\" class=\"data row19 col7\" >-0.028353</td>\n",
              "      <td id=\"T_51bf5_row19_col8\" class=\"data row19 col8\" >-0.000409</td>\n",
              "      <td id=\"T_51bf5_row19_col9\" class=\"data row19 col9\" >-0.009964</td>\n",
              "      <td id=\"T_51bf5_row19_col10\" class=\"data row19 col10\" >0.005389</td>\n",
              "      <td id=\"T_51bf5_row19_col11\" class=\"data row19 col11\" >0.051824</td>\n",
              "      <td id=\"T_51bf5_row19_col12\" class=\"data row19 col12\" >0.030319</td>\n",
              "      <td id=\"T_51bf5_row19_col13\" class=\"data row19 col13\" >0.022669</td>\n",
              "      <td id=\"T_51bf5_row19_col14\" class=\"data row19 col14\" >0.025929</td>\n",
              "      <td id=\"T_51bf5_row19_col15\" class=\"data row19 col15\" >0.035423</td>\n",
              "      <td id=\"T_51bf5_row19_col16\" class=\"data row19 col16\" >-0.029504</td>\n",
              "      <td id=\"T_51bf5_row19_col17\" class=\"data row19 col17\" >0.004316</td>\n",
              "      <td id=\"T_51bf5_row19_col18\" class=\"data row19 col18\" >0.011917</td>\n",
              "      <td id=\"T_51bf5_row19_col19\" class=\"data row19 col19\" >1.000000</td>\n",
              "      <td id=\"T_51bf5_row19_col20\" class=\"data row19 col20\" >0.018785</td>\n",
              "      <td id=\"T_51bf5_row19_col21\" class=\"data row19 col21\" >0.025929</td>\n",
              "    </tr>\n",
              "    <tr>\n",
              "      <th id=\"T_51bf5_level0_row20\" class=\"row_heading level0 row20\" >price_range</th>\n",
              "      <td id=\"T_51bf5_row20_col0\" class=\"data row20 col0\" >0.200723</td>\n",
              "      <td id=\"T_51bf5_row20_col1\" class=\"data row20 col1\" >0.020573</td>\n",
              "      <td id=\"T_51bf5_row20_col2\" class=\"data row20 col2\" >-0.006606</td>\n",
              "      <td id=\"T_51bf5_row20_col3\" class=\"data row20 col3\" >0.017444</td>\n",
              "      <td id=\"T_51bf5_row20_col4\" class=\"data row20 col4\" >0.021998</td>\n",
              "      <td id=\"T_51bf5_row20_col5\" class=\"data row20 col5\" >0.014772</td>\n",
              "      <td id=\"T_51bf5_row20_col6\" class=\"data row20 col6\" >0.044435</td>\n",
              "      <td id=\"T_51bf5_row20_col7\" class=\"data row20 col7\" >0.000853</td>\n",
              "      <td id=\"T_51bf5_row20_col8\" class=\"data row20 col8\" >-0.030302</td>\n",
              "      <td id=\"T_51bf5_row20_col9\" class=\"data row20 col9\" >0.004399</td>\n",
              "      <td id=\"T_51bf5_row20_col10\" class=\"data row20 col10\" >0.033599</td>\n",
              "      <td id=\"T_51bf5_row20_col11\" class=\"data row20 col11\" >0.148858</td>\n",
              "      <td id=\"T_51bf5_row20_col12\" class=\"data row20 col12\" >0.165818</td>\n",
              "      <td id=\"T_51bf5_row20_col13\" class=\"data row20 col13\" >0.917046</td>\n",
              "      <td id=\"T_51bf5_row20_col14\" class=\"data row20 col14\" >0.022986</td>\n",
              "      <td id=\"T_51bf5_row20_col15\" class=\"data row20 col15\" >0.038711</td>\n",
              "      <td id=\"T_51bf5_row20_col16\" class=\"data row20 col16\" >0.021859</td>\n",
              "      <td id=\"T_51bf5_row20_col17\" class=\"data row20 col17\" >0.023611</td>\n",
              "      <td id=\"T_51bf5_row20_col18\" class=\"data row20 col18\" >-0.030411</td>\n",
              "      <td id=\"T_51bf5_row20_col19\" class=\"data row20 col19\" >0.018785</td>\n",
              "      <td id=\"T_51bf5_row20_col20\" class=\"data row20 col20\" >1.000000</td>\n",
              "      <td id=\"T_51bf5_row20_col21\" class=\"data row20 col21\" >0.022986</td>\n",
              "    </tr>\n",
              "    <tr>\n",
              "      <th id=\"T_51bf5_level0_row21\" class=\"row_heading level0 row21\" >sc_h_to_px</th>\n",
              "      <td id=\"T_51bf5_row21_col0\" class=\"data row21 col0\" >-0.029959</td>\n",
              "      <td id=\"T_51bf5_row21_col1\" class=\"data row21 col1\" >-0.002952</td>\n",
              "      <td id=\"T_51bf5_row21_col2\" class=\"data row21 col2\" >-0.029078</td>\n",
              "      <td id=\"T_51bf5_row21_col3\" class=\"data row21 col3\" >-0.011949</td>\n",
              "      <td id=\"T_51bf5_row21_col4\" class=\"data row21 col4\" >-0.011014</td>\n",
              "      <td id=\"T_51bf5_row21_col5\" class=\"data row21 col5\" >0.027166</td>\n",
              "      <td id=\"T_51bf5_row21_col6\" class=\"data row21 col6\" >0.037771</td>\n",
              "      <td id=\"T_51bf5_row21_col7\" class=\"data row21 col7\" >-0.025348</td>\n",
              "      <td id=\"T_51bf5_row21_col8\" class=\"data row21 col8\" >-0.033855</td>\n",
              "      <td id=\"T_51bf5_row21_col9\" class=\"data row21 col9\" >-0.000315</td>\n",
              "      <td id=\"T_51bf5_row21_col10\" class=\"data row21 col10\" >0.004938</td>\n",
              "      <td id=\"T_51bf5_row21_col11\" class=\"data row21 col11\" >0.059615</td>\n",
              "      <td id=\"T_51bf5_row21_col12\" class=\"data row21 col12\" >0.021599</td>\n",
              "      <td id=\"T_51bf5_row21_col13\" class=\"data row21 col13\" >0.015996</td>\n",
              "      <td id=\"T_51bf5_row21_col14\" class=\"data row21 col14\" >1.000000</td>\n",
              "      <td id=\"T_51bf5_row21_col15\" class=\"data row21 col15\" >0.506144</td>\n",
              "      <td id=\"T_51bf5_row21_col16\" class=\"data row21 col16\" >-0.017335</td>\n",
              "      <td id=\"T_51bf5_row21_col17\" class=\"data row21 col17\" >0.012033</td>\n",
              "      <td id=\"T_51bf5_row21_col18\" class=\"data row21 col18\" >-0.020023</td>\n",
              "      <td id=\"T_51bf5_row21_col19\" class=\"data row21 col19\" >0.025929</td>\n",
              "      <td id=\"T_51bf5_row21_col20\" class=\"data row21 col20\" >0.022986</td>\n",
              "      <td id=\"T_51bf5_row21_col21\" class=\"data row21 col21\" >1.000000</td>\n",
              "    </tr>\n",
              "  </tbody>\n",
              "</table>\n"
            ]
          },
          "metadata": {},
          "execution_count": 12
        }
      ]
    },
    {
      "cell_type": "code",
      "source": [
        "df_train.drop(['sc_h_to_px'], axis=1, inplace=True)"
      ],
      "metadata": {
        "id": "jhFk7bVIT3ti"
      },
      "execution_count": 13,
      "outputs": []
    },
    {
      "cell_type": "code",
      "source": [
        "def plot_destribution(data, n_rows, n_cols):\n",
        "\n",
        "  fig, axs = plt.subplots(n_rows, n_cols)\n",
        "  axs = axs.flatten()\n",
        "  for i, col in enumerate(data.columns):\n",
        "    sns.histplot(data[col], ax=axs[i])\n",
        "    axs[i].set_title(f'Distribution of {col}')\n",
        "  plt.tight_layout()\n",
        "  plt.show()\n"
      ],
      "metadata": {
        "id": "S0hEVRYNUd3y"
      },
      "execution_count": 14,
      "outputs": []
    },
    {
      "cell_type": "code",
      "source": [
        "plot_destribution(df_train[['ram', 'battery_power', 'px_height', 'px_width']], 2, 2)\n"
      ],
      "metadata": {
        "colab": {
          "base_uri": "https://localhost:8080/",
          "height": 486
        },
        "id": "Ab-WRgsvTiyw",
        "outputId": "58b7d029-4659-4f97-d36f-f2f6c9d32b2b"
      },
      "execution_count": 15,
      "outputs": [
        {
          "output_type": "display_data",
          "data": {
            "text/plain": [
              "<Figure size 640x480 with 4 Axes>"
            ],
            "image/png": "[encoded data removed]"
          },
          "metadata": {}
        }
      ]
    },
    {
      "cell_type": "markdown",
      "source": [
        "**Feature Engineering**"
      ],
      "metadata": {
        "id": "hie2w2PKXalx"
      }
    },
    {
      "cell_type": "code",
      "source": [
        "df_train['screen_size'] = df_train['px_width']*df_train['px_height']\n",
        "df_train['processor_power'] = df_train['clock_speed']*df_train['n_cores']\n",
        "df_train['mobile_features_score'] = df_train['blue']+ df_train['four_g'] + df_train['dual_sim'] + df_train['wifi'] + df_train['touch_screen'] + df_train['three_g']\n",
        "df_train['sc_size_cm'] = df_train['sc_w']*df_train['sc_h']"
      ],
      "metadata": {
        "id": "26colEaXXZyP"
      },
      "execution_count": 16,
      "outputs": []
    },
    {
      "cell_type": "code",
      "source": [
        "df_train['mobile_features_score']"
      ],
      "metadata": {
        "colab": {
          "base_uri": "https://localhost:8080/",
          "height": 459
        },
        "id": "jjL_gwiSaEwN",
        "outputId": "253ede03-82e7-4ebb-b9dc-25bb10ac6923"
      },
      "execution_count": 17,
      "outputs": [
        {
          "output_type": "execute_result",
          "data": {
            "text/plain": [
              "0       1\n",
              "1       5\n",
              "2       5\n",
              "3       2\n",
              "4       4\n",
              "       ..\n",
              "1995    5\n",
              "1996    5\n",
              "1997    4\n",
              "1998    4\n",
              "1999    6\n",
              "Name: mobile_features_score, Length: 2000, dtype: int64"
            ],
            "text/html": [
              "<div>\n",
              "<style scoped>\n",
              "    .dataframe tbody tr th:only-of-type {\n",
              "        vertical-align: middle;\n",
              "    }\n",
              "\n",
              "    .dataframe tbody tr th {\n",
              "        vertical-align: top;\n",
              "    }\n",
              "\n",
              "    .dataframe thead th {\n",
              "        text-align: right;\n",
              "    }\n",
              "</style>\n",
              "<table border=\"1\" class=\"dataframe\">\n",
              "  <thead>\n",
              "    <tr style=\"text-align: right;\">\n",
              "      <th></th>\n",
              "      <th>mobile_features_score</th>\n",
              "    </tr>\n",
              "  </thead>\n",
              "  <tbody>\n",
              "    <tr>\n",
              "      <th>0</th>\n",
              "      <td>1</td>\n",
              "    </tr>\n",
              "    <tr>\n",
              "      <th>1</th>\n",
              "      <td>5</td>\n",
              "    </tr>\n",
              "    <tr>\n",
              "      <th>2</th>\n",
              "      <td>5</td>\n",
              "    </tr>\n",
              "    <tr>\n",
              "      <th>3</th>\n",
              "      <td>2</td>\n",
              "    </tr>\n",
              "    <tr>\n",
              "      <th>4</th>\n",
              "      <td>4</td>\n",
              "    </tr>\n",
              "    <tr>\n",
              "      <th>...</th>\n",
              "      <td>...</td>\n",
              "    </tr>\n",
              "    <tr>\n",
              "      <th>1995</th>\n",
              "      <td>5</td>\n",
              "    </tr>\n",
              "    <tr>\n",
              "      <th>1996</th>\n",
              "      <td>5</td>\n",
              "    </tr>\n",
              "    <tr>\n",
              "      <th>1997</th>\n",
              "      <td>4</td>\n",
              "    </tr>\n",
              "    <tr>\n",
              "      <th>1998</th>\n",
              "      <td>4</td>\n",
              "    </tr>\n",
              "    <tr>\n",
              "      <th>1999</th>\n",
              "      <td>6</td>\n",
              "    </tr>\n",
              "  </tbody>\n",
              "</table>\n",
              "<p>2000 rows × 1 columns</p>\n",
              "</div><br><label><b>dtype:</b> int64</label>"
            ]
          },
          "metadata": {},
          "execution_count": 17
        }
      ]
    },
    {
      "cell_type": "code",
      "source": [
        "corr = df_train.corr()\n",
        "corr.style.background_gradient(cmap='coolwarm')"
      ],
      "metadata": {
        "colab": {
          "base_uri": "https://localhost:8080/",
          "height": 854
        },
        "id": "QnhmnuERaOdP",
        "outputId": "d57d8554-8476-4e13-a498-dfee617c2071"
      },
      "execution_count": 18,
      "outputs": [
        {
          "output_type": "execute_result",
          "data": {
            "text/plain": [
              "<pandas.io.formats.style.Styler at 0x78f117e1bf40>"
            ],
            "text/html": [
              "<style type=\"text/css\">\n",
              "#T_c42be_row0_col0, #T_c42be_row1_col1, #T_c42be_row2_col2, #T_c42be_row3_col3, #T_c42be_row4_col4, #T_c42be_row5_col5, #T_c42be_row6_col6, #T_c42be_row7_col7, #T_c42be_row8_col8, #T_c42be_row9_col9, #T_c42be_row10_col10, #T_c42be_row11_col11, #T_c42be_row12_col12, #T_c42be_row13_col13, #T_c42be_row14_col14, #T_c42be_row15_col15, #T_c42be_row16_col16, #T_c42be_row17_col17, #T_c42be_row18_col18, #T_c42be_row19_col19, #T_c42be_row20_col20, #T_c42be_row21_col21, #T_c42be_row22_col22, #T_c42be_row23_col23, #T_c42be_row24_col24 {\n",
              "  background-color: #b40426;\n",
              "  color: #f1f1f1;\n",
              "}\n",
              "#T_c42be_row0_col1, #T_c42be_row1_col20, #T_c42be_row2_col18, #T_c42be_row3_col5, #T_c42be_row3_col19, #T_c42be_row4_col19, #T_c42be_row5_col12, #T_c42be_row6_col2, #T_c42be_row6_col24, #T_c42be_row8_col7, #T_c42be_row8_col10, #T_c42be_row8_col16, #T_c42be_row9_col15, #T_c42be_row9_col24, #T_c42be_row12_col7, #T_c42be_row12_col23, #T_c42be_row13_col2, #T_c42be_row13_col14, #T_c42be_row13_col19, #T_c42be_row15_col22, #T_c42be_row16_col20, #T_c42be_row18_col1, #T_c42be_row19_col4, #T_c42be_row19_col17, #T_c42be_row19_col20, #T_c42be_row20_col4, #T_c42be_row20_col19, #T_c42be_row21_col6, #T_c42be_row24_col9 {\n",
              "  background-color: #4961d2;\n",
              "  color: #f1f1f1;\n",
              "}\n",
              "#T_c42be_row0_col2, #T_c42be_row0_col17, #T_c42be_row1_col5, #T_c42be_row1_col13, #T_c42be_row1_col16, #T_c42be_row4_col8, #T_c42be_row5_col0, #T_c42be_row7_col10, #T_c42be_row7_col11, #T_c42be_row8_col2, #T_c42be_row9_col16, #T_c42be_row10_col13, #T_c42be_row10_col16, #T_c42be_row12_col15, #T_c42be_row12_col19, #T_c42be_row13_col15, #T_c42be_row13_col16, #T_c42be_row13_col24, #T_c42be_row14_col17, #T_c42be_row14_col23, #T_c42be_row17_col24, #T_c42be_row18_col17, #T_c42be_row19_col14, #T_c42be_row19_col15, #T_c42be_row20_col3, #T_c42be_row20_col14, #T_c42be_row21_col0, #T_c42be_row24_col6 {\n",
              "  background-color: #4b64d5;\n",
              "  color: #f1f1f1;\n",
              "}\n",
              "#T_c42be_row0_col3, #T_c42be_row0_col9, #T_c42be_row0_col14, #T_c42be_row0_col15, #T_c42be_row0_col24, #T_c42be_row1_col12, #T_c42be_row2_col5, #T_c42be_row2_col17, #T_c42be_row3_col0, #T_c42be_row3_col4, #T_c42be_row5_col2, #T_c42be_row5_col9, #T_c42be_row5_col16, #T_c42be_row5_col22, #T_c42be_row6_col4, #T_c42be_row6_col8, #T_c42be_row6_col9, #T_c42be_row6_col10, #T_c42be_row6_col18, #T_c42be_row7_col19, #T_c42be_row8_col6, #T_c42be_row8_col14, #T_c42be_row8_col15, #T_c42be_row8_col20, #T_c42be_row8_col24, #T_c42be_row10_col6, #T_c42be_row10_col15, #T_c42be_row12_col1, #T_c42be_row13_col18, #T_c42be_row14_col7, #T_c42be_row14_col8, #T_c42be_row16_col3, #T_c42be_row16_col5, #T_c42be_row16_col15, #T_c42be_row16_col17, #T_c42be_row16_col19, #T_c42be_row16_col23, #T_c42be_row16_col24, #T_c42be_row17_col2, #T_c42be_row17_col11, #T_c42be_row17_col16, #T_c42be_row17_col21, #T_c42be_row18_col13, #T_c42be_row18_col20, #T_c42be_row19_col7, #T_c42be_row20_col8, #T_c42be_row20_col18, #T_c42be_row22_col6, #T_c42be_row23_col16 {\n",
              "  background-color: #3b4cc0;\n",
              "  color: #f1f1f1;\n",
              "}\n",
              "#T_c42be_row0_col4, #T_c42be_row0_col5, #T_c42be_row0_col7, #T_c42be_row2_col1, #T_c42be_row5_col14, #T_c42be_row5_col15, #T_c42be_row5_col24, #T_c42be_row6_col13, #T_c42be_row7_col16, #T_c42be_row10_col20, #T_c42be_row12_col22, #T_c42be_row13_col10, #T_c42be_row13_col17, #T_c42be_row14_col12, #T_c42be_row18_col5, #T_c42be_row18_col16, #T_c42be_row19_col3, #T_c42be_row20_col1, #T_c42be_row20_col5, #T_c42be_row20_col15, #T_c42be_row22_col12, #T_c42be_row22_col18, #T_c42be_row23_col13, #T_c42be_row23_col15, #T_c42be_row23_col24, #T_c42be_row24_col13 {\n",
              "  background-color: #4c66d6;\n",
              "  color: #f1f1f1;\n",
              "}\n",
              "#T_c42be_row0_col6, #T_c42be_row0_col13, #T_c42be_row1_col14, #T_c42be_row2_col4, #T_c42be_row2_col12, #T_c42be_row3_col17, #T_c42be_row4_col5, #T_c42be_row7_col2, #T_c42be_row7_col20, #T_c42be_row8_col5, #T_c42be_row8_col11, #T_c42be_row8_col19, #T_c42be_row9_col10, #T_c42be_row9_col17, #T_c42be_row9_col21, #T_c42be_row10_col1, #T_c42be_row10_col9, #T_c42be_row10_col23, #T_c42be_row11_col2, #T_c42be_row12_col18, #T_c42be_row13_col8, #T_c42be_row14_col3, #T_c42be_row14_col9, #T_c42be_row14_col16, #T_c42be_row16_col6, #T_c42be_row17_col4, #T_c42be_row17_col10, #T_c42be_row18_col0, #T_c42be_row19_col5, #T_c42be_row20_col7, #T_c42be_row21_col9, #T_c42be_row22_col8, #T_c42be_row22_col13, #T_c42be_row23_col11 {\n",
              "  background-color: #4358cb;\n",
              "  color: #f1f1f1;\n",
              "}\n",
              "#T_c42be_row0_col8, #T_c42be_row0_col12, #T_c42be_row1_col4, #T_c42be_row1_col7, #T_c42be_row2_col13, #T_c42be_row2_col16, #T_c42be_row4_col12, #T_c42be_row4_col22, #T_c42be_row4_col23, #T_c42be_row6_col7, #T_c42be_row6_col12, #T_c42be_row6_col15, #T_c42be_row7_col17, #T_c42be_row8_col1, #T_c42be_row8_col3, #T_c42be_row9_col13, #T_c42be_row9_col14, #T_c42be_row9_col20, #T_c42be_row10_col19, #T_c42be_row10_col22, #T_c42be_row11_col1, #T_c42be_row11_col8, #T_c42be_row11_col16, #T_c42be_row11_col22, #T_c42be_row12_col0, #T_c42be_row12_col8, #T_c42be_row12_col13, #T_c42be_row13_col9, #T_c42be_row16_col2, #T_c42be_row17_col8, #T_c42be_row17_col19, #T_c42be_row18_col24, #T_c42be_row19_col0, #T_c42be_row19_col8, #T_c42be_row20_col9, #T_c42be_row20_col22, #T_c42be_row21_col2, #T_c42be_row21_col16, #T_c42be_row22_col15, #T_c42be_row22_col21, #T_c42be_row22_col24, #T_c42be_row23_col0, #T_c42be_row24_col1 {\n",
              "  background-color: #445acc;\n",
              "  color: #f1f1f1;\n",
              "}\n",
              "#T_c42be_row0_col10, #T_c42be_row1_col2, #T_c42be_row1_col9, #T_c42be_row7_col12, #T_c42be_row9_col12, #T_c42be_row11_col15, #T_c42be_row12_col24, #T_c42be_row13_col1, #T_c42be_row13_col6, #T_c42be_row15_col13, #T_c42be_row15_col19, #T_c42be_row18_col2, #T_c42be_row20_col10, #T_c42be_row20_col16, #T_c42be_row20_col24 {\n",
              "  background-color: #4e68d8;\n",
              "  color: #f1f1f1;\n",
              "}\n",
              "#T_c42be_row0_col11, #T_c42be_row0_col21, #T_c42be_row2_col8, #T_c42be_row3_col2, #T_c42be_row3_col20, #T_c42be_row4_col1, #T_c42be_row4_col2, #T_c42be_row4_col13, #T_c42be_row4_col17, #T_c42be_row5_col3, #T_c42be_row5_col18, #T_c42be_row5_col20, #T_c42be_row6_col23, #T_c42be_row7_col1, #T_c42be_row8_col17, #T_c42be_row10_col12, #T_c42be_row10_col17, #T_c42be_row11_col6, #T_c42be_row11_col23, #T_c42be_row12_col17, #T_c42be_row13_col4, #T_c42be_row13_col12, #T_c42be_row14_col13, #T_c42be_row15_col6, #T_c42be_row16_col7, #T_c42be_row16_col10, #T_c42be_row16_col12, #T_c42be_row16_col18, #T_c42be_row17_col13, #T_c42be_row17_col14, #T_c42be_row17_col18, #T_c42be_row18_col21, #T_c42be_row21_col18, #T_c42be_row21_col22, #T_c42be_row22_col16, #T_c42be_row23_col12, #T_c42be_row23_col14, #T_c42be_row24_col22 {\n",
              "  background-color: #485fd1;\n",
              "  color: #f1f1f1;\n",
              "}\n",
              "#T_c42be_row0_col16 {\n",
              "  background-color: #5875e1;\n",
              "  color: #f1f1f1;\n",
              "}\n",
              "#T_c42be_row0_col18, #T_c42be_row2_col11, #T_c42be_row2_col15, #T_c42be_row2_col21, #T_c42be_row3_col6, #T_c42be_row4_col9, #T_c42be_row5_col8, #T_c42be_row5_col21, #T_c42be_row7_col3, #T_c42be_row9_col3, #T_c42be_row9_col5, #T_c42be_row9_col19, #T_c42be_row11_col4, #T_c42be_row13_col7, #T_c42be_row14_col2, #T_c42be_row14_col4, #T_c42be_row15_col4, #T_c42be_row16_col14, #T_c42be_row16_col21, #T_c42be_row17_col7, #T_c42be_row18_col8, #T_c42be_row19_col1, #T_c42be_row19_col9, #T_c42be_row19_col16, #T_c42be_row21_col4, #T_c42be_row21_col17, #T_c42be_row23_col10, #T_c42be_row24_col0, #T_c42be_row24_col4, #T_c42be_row24_col10, #T_c42be_row24_col16 {\n",
              "  background-color: #3f53c6;\n",
              "  color: #f1f1f1;\n",
              "}\n",
              "#T_c42be_row0_col19, #T_c42be_row1_col10, #T_c42be_row1_col24, #T_c42be_row2_col9, #T_c42be_row2_col20, #T_c42be_row2_col23, #T_c42be_row2_col24, #T_c42be_row3_col14, #T_c42be_row3_col22, #T_c42be_row4_col11, #T_c42be_row4_col14, #T_c42be_row7_col13, #T_c42be_row7_col22, #T_c42be_row7_col23, #T_c42be_row8_col21, #T_c42be_row10_col18, #T_c42be_row11_col3, #T_c42be_row11_col9, #T_c42be_row12_col4, #T_c42be_row13_col21, #T_c42be_row14_col22, #T_c42be_row15_col0, #T_c42be_row15_col16, #T_c42be_row16_col4, #T_c42be_row16_col11, #T_c42be_row19_col2, #T_c42be_row19_col22, #T_c42be_row21_col3, #T_c42be_row21_col13, #T_c42be_row22_col3, #T_c42be_row22_col4, #T_c42be_row22_col20, #T_c42be_row23_col2, #T_c42be_row23_col9, #T_c42be_row23_col22 {\n",
              "  background-color: #4055c8;\n",
              "  color: #f1f1f1;\n",
              "}\n",
              "#T_c42be_row0_col20 {\n",
              "  background-color: #84a7fc;\n",
              "  color: #f1f1f1;\n",
              "}\n",
              "#T_c42be_row0_col22, #T_c42be_row1_col8, #T_c42be_row1_col11, #T_c42be_row1_col15, #T_c42be_row2_col10, #T_c42be_row3_col8, #T_c42be_row4_col7, #T_c42be_row5_col7, #T_c42be_row5_col10, #T_c42be_row6_col3, #T_c42be_row7_col4, #T_c42be_row7_col9, #T_c42be_row7_col18, #T_c42be_row8_col13, #T_c42be_row8_col23, #T_c42be_row9_col7, #T_c42be_row9_col11, #T_c42be_row10_col3, #T_c42be_row11_col5, #T_c42be_row12_col6, #T_c42be_row15_col3, #T_c42be_row17_col3, #T_c42be_row17_col6, #T_c42be_row18_col3, #T_c42be_row18_col7, #T_c42be_row18_col10, #T_c42be_row21_col1, #T_c42be_row21_col8, #T_c42be_row22_col0, #T_c42be_row22_col10, #T_c42be_row22_col11, #T_c42be_row22_col23, #T_c42be_row23_col21, #T_c42be_row24_col3 {\n",
              "  background-color: #4257c9;\n",
              "  color: #f1f1f1;\n",
              "}\n",
              "#T_c42be_row0_col23, #T_c42be_row2_col3, #T_c42be_row4_col16, #T_c42be_row5_col13, #T_c42be_row6_col0, #T_c42be_row6_col17, #T_c42be_row6_col19, #T_c42be_row8_col22, #T_c42be_row9_col2, #T_c42be_row9_col23, #T_c42be_row10_col14, #T_c42be_row12_col2, #T_c42be_row12_col10, #T_c42be_row13_col22, #T_c42be_row14_col1, #T_c42be_row14_col10, #T_c42be_row15_col2, #T_c42be_row18_col12, #T_c42be_row18_col15, #T_c42be_row19_col10, #T_c42be_row20_col2, #T_c42be_row21_col5, #T_c42be_row23_col6, #T_c42be_row24_col2, #T_c42be_row24_col18 {\n",
              "  background-color: #455cce;\n",
              "  color: #f1f1f1;\n",
              "}\n",
              "#T_c42be_row1_col0, #T_c42be_row2_col0, #T_c42be_row3_col12, #T_c42be_row4_col20, #T_c42be_row5_col1, #T_c42be_row6_col5, #T_c42be_row7_col8, #T_c42be_row7_col21, #T_c42be_row8_col4, #T_c42be_row9_col18, #T_c42be_row10_col7, #T_c42be_row10_col8, #T_c42be_row11_col0, #T_c42be_row11_col7, #T_c42be_row11_col18, #T_c42be_row12_col3, #T_c42be_row12_col5, #T_c42be_row12_col9, #T_c42be_row12_col14, #T_c42be_row12_col16, #T_c42be_row13_col5, #T_c42be_row14_col19, #T_c42be_row14_col20, #T_c42be_row15_col9, #T_c42be_row16_col1, #T_c42be_row17_col0, #T_c42be_row17_col15, #T_c42be_row17_col20, #T_c42be_row18_col9, #T_c42be_row18_col11, #T_c42be_row19_col13, #T_c42be_row21_col7, #T_c42be_row23_col20 {\n",
              "  background-color: #4a63d3;\n",
              "  color: #f1f1f1;\n",
              "}\n",
              "#T_c42be_row1_col3, #T_c42be_row1_col6, #T_c42be_row3_col1, #T_c42be_row4_col0, #T_c42be_row6_col20, #T_c42be_row7_col0, #T_c42be_row10_col0, #T_c42be_row13_col23, #T_c42be_row14_col5, #T_c42be_row15_col11, #T_c42be_row15_col12, #T_c42be_row15_col17, #T_c42be_row15_col21, #T_c42be_row18_col22, #T_c42be_row19_col21, #T_c42be_row21_col19, #T_c42be_row24_col19 {\n",
              "  background-color: #506bda;\n",
              "  color: #f1f1f1;\n",
              "}\n",
              "#T_c42be_row1_col17, #T_c42be_row1_col21, #T_c42be_row2_col7, #T_c42be_row3_col10, #T_c42be_row3_col18, #T_c42be_row4_col3, #T_c42be_row4_col18, #T_c42be_row4_col21, #T_c42be_row4_col24, #T_c42be_row5_col4, #T_c42be_row8_col18, #T_c42be_row9_col4, #T_c42be_row9_col8, #T_c42be_row10_col11, #T_c42be_row10_col24, #T_c42be_row11_col10, #T_c42be_row11_col17, #T_c42be_row15_col8, #T_c42be_row17_col9, #T_c42be_row18_col4, #T_c42be_row18_col14, #T_c42be_row21_col10, #T_c42be_row22_col14, #T_c42be_row22_col17, #T_c42be_row23_col4, #T_c42be_row23_col8 {\n",
              "  background-color: #3e51c5;\n",
              "  color: #f1f1f1;\n",
              "}\n",
              "#T_c42be_row1_col18, #T_c42be_row2_col6, #T_c42be_row5_col6, #T_c42be_row6_col11, #T_c42be_row6_col16, #T_c42be_row6_col21, #T_c42be_row7_col5, #T_c42be_row7_col6, #T_c42be_row8_col0, #T_c42be_row8_col12, #T_c42be_row10_col2, #T_c42be_row10_col5, #T_c42be_row13_col0, #T_c42be_row15_col1, #T_c42be_row15_col18, #T_c42be_row16_col8, #T_c42be_row16_col9, #T_c42be_row16_col13, #T_c42be_row16_col22, #T_c42be_row17_col12, #T_c42be_row18_col19, #T_c42be_row19_col6, #T_c42be_row19_col18, #T_c42be_row21_col23 {\n",
              "  background-color: #465ecf;\n",
              "  color: #f1f1f1;\n",
              "}\n",
              "#T_c42be_row1_col19, #T_c42be_row2_col14, #T_c42be_row2_col19, #T_c42be_row3_col7, #T_c42be_row3_col9, #T_c42be_row3_col15, #T_c42be_row3_col16, #T_c42be_row4_col6, #T_c42be_row7_col15, #T_c42be_row7_col24, #T_c42be_row9_col6, #T_c42be_row18_col6, #T_c42be_row22_col5, #T_c42be_row23_col7, #T_c42be_row24_col7, #T_c42be_row24_col8 {\n",
              "  background-color: #3c4ec2;\n",
              "  color: #f1f1f1;\n",
              "}\n",
              "#T_c42be_row1_col22, #T_c42be_row3_col13, #T_c42be_row6_col14, #T_c42be_row14_col6, #T_c42be_row15_col20, #T_c42be_row19_col12, #T_c42be_row19_col24, #T_c42be_row20_col17, #T_c42be_row20_col23, #T_c42be_row21_col15, #T_c42be_row22_col1, #T_c42be_row24_col20 {\n",
              "  background-color: #4f69d9;\n",
              "  color: #f1f1f1;\n",
              "}\n",
              "#T_c42be_row1_col23, #T_c42be_row23_col18 {\n",
              "  background-color: #c5d6f2;\n",
              "  color: #000000;\n",
              "}\n",
              "#T_c42be_row2_col22, #T_c42be_row22_col2 {\n",
              "  background-color: #f7b093;\n",
              "  color: #000000;\n",
              "}\n",
              "#T_c42be_row3_col11, #T_c42be_row3_col21, #T_c42be_row3_col24, #T_c42be_row4_col15, #T_c42be_row5_col11, #T_c42be_row5_col19, #T_c42be_row6_col22, #T_c42be_row7_col14, #T_c42be_row8_col9, #T_c42be_row9_col0, #T_c42be_row10_col21, #T_c42be_row11_col13, #T_c42be_row13_col11, #T_c42be_row14_col0, #T_c42be_row14_col18, #T_c42be_row15_col7, #T_c42be_row15_col10, #T_c42be_row17_col1, #T_c42be_row17_col22, #T_c42be_row22_col7, #T_c42be_row22_col19 {\n",
              "  background-color: #3d50c3;\n",
              "  color: #f1f1f1;\n",
              "}\n",
              "#T_c42be_row3_col23, #T_c42be_row18_col23 {\n",
              "  background-color: #c7d7f0;\n",
              "  color: #000000;\n",
              "}\n",
              "#T_c42be_row4_col10, #T_c42be_row10_col4 {\n",
              "  background-color: #f7bca1;\n",
              "  color: #000000;\n",
              "}\n",
              "#T_c42be_row5_col17, #T_c42be_row17_col5 {\n",
              "  background-color: #f2cab5;\n",
              "  color: #000000;\n",
              "}\n",
              "#T_c42be_row5_col23, #T_c42be_row23_col5 {\n",
              "  background-color: #f2cbb7;\n",
              "  color: #000000;\n",
              "}\n",
              "#T_c42be_row6_col1, #T_c42be_row11_col19, #T_c42be_row11_col24, #T_c42be_row13_col3, #T_c42be_row15_col5, #T_c42be_row15_col23, #T_c42be_row19_col11, #T_c42be_row21_col24, #T_c42be_row24_col5, #T_c42be_row24_col12, #T_c42be_row24_col23 {\n",
              "  background-color: #536edd;\n",
              "  color: #f1f1f1;\n",
              "}\n",
              "#T_c42be_row9_col1, #T_c42be_row20_col6, #T_c42be_row24_col17 {\n",
              "  background-color: #516ddb;\n",
              "  color: #f1f1f1;\n",
              "}\n",
              "#T_c42be_row9_col22 {\n",
              "  background-color: #f7b99e;\n",
              "  color: #000000;\n",
              "}\n",
              "#T_c42be_row11_col12 {\n",
              "  background-color: #e4d9d2;\n",
              "  color: #000000;\n",
              "}\n",
              "#T_c42be_row11_col14, #T_c42be_row16_col0 {\n",
              "  background-color: #5673e0;\n",
              "  color: #f1f1f1;\n",
              "}\n",
              "#T_c42be_row11_col20, #T_c42be_row20_col11 {\n",
              "  background-color: #7295f4;\n",
              "  color: #f1f1f1;\n",
              "}\n",
              "#T_c42be_row11_col21, #T_c42be_row21_col11 {\n",
              "  background-color: #c43032;\n",
              "  color: #f1f1f1;\n",
              "}\n",
              "#T_c42be_row12_col11 {\n",
              "  background-color: #e3d9d3;\n",
              "  color: #000000;\n",
              "}\n",
              "#T_c42be_row12_col20 {\n",
              "  background-color: #779af7;\n",
              "  color: #f1f1f1;\n",
              "}\n",
              "#T_c42be_row12_col21 {\n",
              "  background-color: #f7af91;\n",
              "  color: #000000;\n",
              "}\n",
              "#T_c42be_row13_col20, #T_c42be_row20_col13 {\n",
              "  background-color: #d0473d;\n",
              "  color: #f1f1f1;\n",
              "}\n",
              "#T_c42be_row14_col11, #T_c42be_row21_col14 {\n",
              "  background-color: #5572df;\n",
              "  color: #f1f1f1;\n",
              "}\n",
              "#T_c42be_row14_col15 {\n",
              "  background-color: #e1dad6;\n",
              "  color: #000000;\n",
              "}\n",
              "#T_c42be_row14_col21, #T_c42be_row24_col11, #T_c42be_row24_col21 {\n",
              "  background-color: #5470de;\n",
              "  color: #f1f1f1;\n",
              "}\n",
              "#T_c42be_row14_col24, #T_c42be_row24_col14 {\n",
              "  background-color: #f7b89c;\n",
              "  color: #000000;\n",
              "}\n",
              "#T_c42be_row15_col14 {\n",
              "  background-color: #e2dad5;\n",
              "  color: #000000;\n",
              "}\n",
              "#T_c42be_row15_col24, #T_c42be_row24_col15 {\n",
              "  background-color: #c32e31;\n",
              "  color: #f1f1f1;\n",
              "}\n",
              "#T_c42be_row17_col23, #T_c42be_row23_col17 {\n",
              "  background-color: #ebd3c6;\n",
              "  color: #000000;\n",
              "}\n",
              "#T_c42be_row19_col23, #T_c42be_row23_col1 {\n",
              "  background-color: #c4d5f3;\n",
              "  color: #000000;\n",
              "}\n",
              "#T_c42be_row20_col0 {\n",
              "  background-color: #86a9fc;\n",
              "  color: #f1f1f1;\n",
              "}\n",
              "#T_c42be_row20_col12, #T_c42be_row20_col21 {\n",
              "  background-color: #7a9df8;\n",
              "  color: #f1f1f1;\n",
              "}\n",
              "#T_c42be_row21_col12 {\n",
              "  background-color: #f7ad90;\n",
              "  color: #000000;\n",
              "}\n",
              "#T_c42be_row21_col20 {\n",
              "  background-color: #7b9ff9;\n",
              "  color: #f1f1f1;\n",
              "}\n",
              "#T_c42be_row22_col9 {\n",
              "  background-color: #f7ba9f;\n",
              "  color: #000000;\n",
              "}\n",
              "#T_c42be_row23_col3 {\n",
              "  background-color: #c6d6f1;\n",
              "  color: #000000;\n",
              "}\n",
              "#T_c42be_row23_col19 {\n",
              "  background-color: #c0d4f5;\n",
              "  color: #000000;\n",
              "}\n",
              "</style>\n",
              "<table id=\"T_c42be\" class=\"dataframe\">\n",
              "  <thead>\n",
              "    <tr>\n",
              "      <th class=\"blank level0\" >&nbsp;</th>\n",
              "      <th id=\"T_c42be_level0_col0\" class=\"col_heading level0 col0\" >battery_power</th>\n",
              "      <th id=\"T_c42be_level0_col1\" class=\"col_heading level0 col1\" >blue</th>\n",
              "      <th id=\"T_c42be_level0_col2\" class=\"col_heading level0 col2\" >clock_speed</th>\n",
              "      <th id=\"T_c42be_level0_col3\" class=\"col_heading level0 col3\" >dual_sim</th>\n",
              "      <th id=\"T_c42be_level0_col4\" class=\"col_heading level0 col4\" >fc</th>\n",
              "      <th id=\"T_c42be_level0_col5\" class=\"col_heading level0 col5\" >four_g</th>\n",
              "      <th id=\"T_c42be_level0_col6\" class=\"col_heading level0 col6\" >int_memory</th>\n",
              "      <th id=\"T_c42be_level0_col7\" class=\"col_heading level0 col7\" >m_dep</th>\n",
              "      <th id=\"T_c42be_level0_col8\" class=\"col_heading level0 col8\" >mobile_wt</th>\n",
              "      <th id=\"T_c42be_level0_col9\" class=\"col_heading level0 col9\" >n_cores</th>\n",
              "      <th id=\"T_c42be_level0_col10\" class=\"col_heading level0 col10\" >pc</th>\n",
              "      <th id=\"T_c42be_level0_col11\" class=\"col_heading level0 col11\" >px_height</th>\n",
              "      <th id=\"T_c42be_level0_col12\" class=\"col_heading level0 col12\" >px_width</th>\n",
              "      <th id=\"T_c42be_level0_col13\" class=\"col_heading level0 col13\" >ram</th>\n",
              "      <th id=\"T_c42be_level0_col14\" class=\"col_heading level0 col14\" >sc_h</th>\n",
              "      <th id=\"T_c42be_level0_col15\" class=\"col_heading level0 col15\" >sc_w</th>\n",
              "      <th id=\"T_c42be_level0_col16\" class=\"col_heading level0 col16\" >talk_time</th>\n",
              "      <th id=\"T_c42be_level0_col17\" class=\"col_heading level0 col17\" >three_g</th>\n",
              "      <th id=\"T_c42be_level0_col18\" class=\"col_heading level0 col18\" >touch_screen</th>\n",
              "      <th id=\"T_c42be_level0_col19\" class=\"col_heading level0 col19\" >wifi</th>\n",
              "      <th id=\"T_c42be_level0_col20\" class=\"col_heading level0 col20\" >price_range</th>\n",
              "      <th id=\"T_c42be_level0_col21\" class=\"col_heading level0 col21\" >screen_size</th>\n",
              "      <th id=\"T_c42be_level0_col22\" class=\"col_heading level0 col22\" >processor_power</th>\n",
              "      <th id=\"T_c42be_level0_col23\" class=\"col_heading level0 col23\" >mobile_features_score</th>\n",
              "      <th id=\"T_c42be_level0_col24\" class=\"col_heading level0 col24\" >sc_size_cm</th>\n",
              "    </tr>\n",
              "  </thead>\n",
              "  <tbody>\n",
              "    <tr>\n",
              "      <th id=\"T_c42be_level0_row0\" class=\"row_heading level0 row0\" >battery_power</th>\n",
              "      <td id=\"T_c42be_row0_col0\" class=\"data row0 col0\" >1.000000</td>\n",
              "      <td id=\"T_c42be_row0_col1\" class=\"data row0 col1\" >0.011252</td>\n",
              "      <td id=\"T_c42be_row0_col2\" class=\"data row0 col2\" >0.011482</td>\n",
              "      <td id=\"T_c42be_row0_col3\" class=\"data row0 col3\" >-0.041847</td>\n",
              "      <td id=\"T_c42be_row0_col4\" class=\"data row0 col4\" >0.033334</td>\n",
              "      <td id=\"T_c42be_row0_col5\" class=\"data row0 col5\" >0.015665</td>\n",
              "      <td id=\"T_c42be_row0_col6\" class=\"data row0 col6\" >-0.004004</td>\n",
              "      <td id=\"T_c42be_row0_col7\" class=\"data row0 col7\" >0.034085</td>\n",
              "      <td id=\"T_c42be_row0_col8\" class=\"data row0 col8\" >0.001844</td>\n",
              "      <td id=\"T_c42be_row0_col9\" class=\"data row0 col9\" >-0.029727</td>\n",
              "      <td id=\"T_c42be_row0_col10\" class=\"data row0 col10\" >0.031441</td>\n",
              "      <td id=\"T_c42be_row0_col11\" class=\"data row0 col11\" >0.014901</td>\n",
              "      <td id=\"T_c42be_row0_col12\" class=\"data row0 col12\" >-0.008402</td>\n",
              "      <td id=\"T_c42be_row0_col13\" class=\"data row0 col13\" >-0.000653</td>\n",
              "      <td id=\"T_c42be_row0_col14\" class=\"data row0 col14\" >-0.029959</td>\n",
              "      <td id=\"T_c42be_row0_col15\" class=\"data row0 col15\" >-0.021421</td>\n",
              "      <td id=\"T_c42be_row0_col16\" class=\"data row0 col16\" >0.052510</td>\n",
              "      <td id=\"T_c42be_row0_col17\" class=\"data row0 col17\" >0.011522</td>\n",
              "      <td id=\"T_c42be_row0_col18\" class=\"data row0 col18\" >-0.010516</td>\n",
              "      <td id=\"T_c42be_row0_col19\" class=\"data row0 col19\" >-0.008343</td>\n",
              "      <td id=\"T_c42be_row0_col20\" class=\"data row0 col20\" >0.200723</td>\n",
              "      <td id=\"T_c42be_row0_col21\" class=\"data row0 col21\" >0.018442</td>\n",
              "      <td id=\"T_c42be_row0_col22\" class=\"data row0 col22\" >-0.015839</td>\n",
              "      <td id=\"T_c42be_row0_col23\" class=\"data row0 col23\" >-0.009202</td>\n",
              "      <td id=\"T_c42be_row0_col24\" class=\"data row0 col24\" >-0.024589</td>\n",
              "    </tr>\n",
              "    <tr>\n",
              "      <th id=\"T_c42be_level0_row1\" class=\"row_heading level0 row1\" >blue</th>\n",
              "      <td id=\"T_c42be_row1_col0\" class=\"data row1 col0\" >0.011252</td>\n",
              "      <td id=\"T_c42be_row1_col1\" class=\"data row1 col1\" >1.000000</td>\n",
              "      <td id=\"T_c42be_row1_col2\" class=\"data row1 col2\" >0.021419</td>\n",
              "      <td id=\"T_c42be_row1_col3\" class=\"data row1 col3\" >0.035198</td>\n",
              "      <td id=\"T_c42be_row1_col4\" class=\"data row1 col4\" >0.003593</td>\n",
              "      <td id=\"T_c42be_row1_col5\" class=\"data row1 col5\" >0.013443</td>\n",
              "      <td id=\"T_c42be_row1_col6\" class=\"data row1 col6\" >0.041177</td>\n",
              "      <td id=\"T_c42be_row1_col7\" class=\"data row1 col7\" >0.004049</td>\n",
              "      <td id=\"T_c42be_row1_col8\" class=\"data row1 col8\" >-0.008605</td>\n",
              "      <td id=\"T_c42be_row1_col9\" class=\"data row1 col9\" >0.036161</td>\n",
              "      <td id=\"T_c42be_row1_col10\" class=\"data row1 col10\" >-0.009952</td>\n",
              "      <td id=\"T_c42be_row1_col11\" class=\"data row1 col11\" >-0.006872</td>\n",
              "      <td id=\"T_c42be_row1_col12\" class=\"data row1 col12\" >-0.041533</td>\n",
              "      <td id=\"T_c42be_row1_col13\" class=\"data row1 col13\" >0.026351</td>\n",
              "      <td id=\"T_c42be_row1_col14\" class=\"data row1 col14\" >-0.002952</td>\n",
              "      <td id=\"T_c42be_row1_col15\" class=\"data row1 col15\" >0.000613</td>\n",
              "      <td id=\"T_c42be_row1_col16\" class=\"data row1 col16\" >0.013934</td>\n",
              "      <td id=\"T_c42be_row1_col17\" class=\"data row1 col17\" >-0.030236</td>\n",
              "      <td id=\"T_c42be_row1_col18\" class=\"data row1 col18\" >0.010061</td>\n",
              "      <td id=\"T_c42be_row1_col19\" class=\"data row1 col19\" >-0.021863</td>\n",
              "      <td id=\"T_c42be_row1_col20\" class=\"data row1 col20\" >0.020573</td>\n",
              "      <td id=\"T_c42be_row1_col21\" class=\"data row1 col21\" >-0.015513</td>\n",
              "      <td id=\"T_c42be_row1_col22\" class=\"data row1 col22\" >0.028519</td>\n",
              "      <td id=\"T_c42be_row1_col23\" class=\"data row1 col23\" >0.388044</td>\n",
              "      <td id=\"T_c42be_row1_col24\" class=\"data row1 col24\" >-0.005565</td>\n",
              "    </tr>\n",
              "    <tr>\n",
              "      <th id=\"T_c42be_level0_row2\" class=\"row_heading level0 row2\" >clock_speed</th>\n",
              "      <td id=\"T_c42be_row2_col0\" class=\"data row2 col0\" >0.011482</td>\n",
              "      <td id=\"T_c42be_row2_col1\" class=\"data row2 col1\" >0.021419</td>\n",
              "      <td id=\"T_c42be_row2_col2\" class=\"data row2 col2\" >1.000000</td>\n",
              "      <td id=\"T_c42be_row2_col3\" class=\"data row2 col3\" >-0.001315</td>\n",
              "      <td id=\"T_c42be_row2_col4\" class=\"data row2 col4\" >-0.000434</td>\n",
              "      <td id=\"T_c42be_row2_col5\" class=\"data row2 col5\" >-0.043073</td>\n",
              "      <td id=\"T_c42be_row2_col6\" class=\"data row2 col6\" >0.006545</td>\n",
              "      <td id=\"T_c42be_row2_col7\" class=\"data row2 col7\" >-0.014364</td>\n",
              "      <td id=\"T_c42be_row2_col8\" class=\"data row2 col8\" >0.012350</td>\n",
              "      <td id=\"T_c42be_row2_col9\" class=\"data row2 col9\" >-0.005724</td>\n",
              "      <td id=\"T_c42be_row2_col10\" class=\"data row2 col10\" >-0.005245</td>\n",
              "      <td id=\"T_c42be_row2_col11\" class=\"data row2 col11\" >-0.014523</td>\n",
              "      <td id=\"T_c42be_row2_col12\" class=\"data row2 col12\" >-0.009476</td>\n",
              "      <td id=\"T_c42be_row2_col13\" class=\"data row2 col13\" >0.003443</td>\n",
              "      <td id=\"T_c42be_row2_col14\" class=\"data row2 col14\" >-0.029078</td>\n",
              "      <td id=\"T_c42be_row2_col15\" class=\"data row2 col15\" >-0.007378</td>\n",
              "      <td id=\"T_c42be_row2_col16\" class=\"data row2 col16\" >-0.011432</td>\n",
              "      <td id=\"T_c42be_row2_col17\" class=\"data row2 col17\" >-0.046433</td>\n",
              "      <td id=\"T_c42be_row2_col18\" class=\"data row2 col18\" >0.019756</td>\n",
              "      <td id=\"T_c42be_row2_col19\" class=\"data row2 col19\" >-0.024471</td>\n",
              "      <td id=\"T_c42be_row2_col20\" class=\"data row2 col20\" >-0.006606</td>\n",
              "      <td id=\"T_c42be_row2_col21\" class=\"data row2 col21\" >-0.009854</td>\n",
              "      <td id=\"T_c42be_row2_col22\" class=\"data row2 col22\" >0.675996</td>\n",
              "      <td id=\"T_c42be_row2_col23\" class=\"data row2 col23\" >-0.025801</td>\n",
              "      <td id=\"T_c42be_row2_col24\" class=\"data row2 col24\" >-0.006103</td>\n",
              "    </tr>\n",
              "    <tr>\n",
              "      <th id=\"T_c42be_level0_row3\" class=\"row_heading level0 row3\" >dual_sim</th>\n",
              "      <td id=\"T_c42be_row3_col0\" class=\"data row3 col0\" >-0.041847</td>\n",
              "      <td id=\"T_c42be_row3_col1\" class=\"data row3 col1\" >0.035198</td>\n",
              "      <td id=\"T_c42be_row3_col2\" class=\"data row3 col2\" >-0.001315</td>\n",
              "      <td id=\"T_c42be_row3_col3\" class=\"data row3 col3\" >1.000000</td>\n",
              "      <td id=\"T_c42be_row3_col4\" class=\"data row3 col4\" >-0.029123</td>\n",
              "      <td id=\"T_c42be_row3_col5\" class=\"data row3 col5\" >0.003187</td>\n",
              "      <td id=\"T_c42be_row3_col6\" class=\"data row3 col6\" >-0.015679</td>\n",
              "      <td id=\"T_c42be_row3_col7\" class=\"data row3 col7\" >-0.022142</td>\n",
              "      <td id=\"T_c42be_row3_col8\" class=\"data row3 col8\" >-0.008979</td>\n",
              "      <td id=\"T_c42be_row3_col9\" class=\"data row3 col9\" >-0.024658</td>\n",
              "      <td id=\"T_c42be_row3_col10\" class=\"data row3 col10\" >-0.017143</td>\n",
              "      <td id=\"T_c42be_row3_col11\" class=\"data row3 col11\" >-0.020875</td>\n",
              "      <td id=\"T_c42be_row3_col12\" class=\"data row3 col12\" >0.014291</td>\n",
              "      <td id=\"T_c42be_row3_col13\" class=\"data row3 col13\" >0.041072</td>\n",
              "      <td id=\"T_c42be_row3_col14\" class=\"data row3 col14\" >-0.011949</td>\n",
              "      <td id=\"T_c42be_row3_col15\" class=\"data row3 col15\" >-0.016666</td>\n",
              "      <td id=\"T_c42be_row3_col16\" class=\"data row3 col16\" >-0.039404</td>\n",
              "      <td id=\"T_c42be_row3_col17\" class=\"data row3 col17\" >-0.014008</td>\n",
              "      <td id=\"T_c42be_row3_col18\" class=\"data row3 col18\" >-0.017117</td>\n",
              "      <td id=\"T_c42be_row3_col19\" class=\"data row3 col19\" >0.022740</td>\n",
              "      <td id=\"T_c42be_row3_col20\" class=\"data row3 col20\" >0.017444</td>\n",
              "      <td id=\"T_c42be_row3_col21\" class=\"data row3 col21\" >-0.017730</td>\n",
              "      <td id=\"T_c42be_row3_col22\" class=\"data row3 col22\" >-0.020182</td>\n",
              "      <td id=\"T_c42be_row3_col23\" class=\"data row3 col23\" >0.396059</td>\n",
              "      <td id=\"T_c42be_row3_col24\" class=\"data row3 col24\" >-0.015703</td>\n",
              "    </tr>\n",
              "    <tr>\n",
              "      <th id=\"T_c42be_level0_row4\" class=\"row_heading level0 row4\" >fc</th>\n",
              "      <td id=\"T_c42be_row4_col0\" class=\"data row4 col0\" >0.033334</td>\n",
              "      <td id=\"T_c42be_row4_col1\" class=\"data row4 col1\" >0.003593</td>\n",
              "      <td id=\"T_c42be_row4_col2\" class=\"data row4 col2\" >-0.000434</td>\n",
              "      <td id=\"T_c42be_row4_col3\" class=\"data row4 col3\" >-0.029123</td>\n",
              "      <td id=\"T_c42be_row4_col4\" class=\"data row4 col4\" >1.000000</td>\n",
              "      <td id=\"T_c42be_row4_col5\" class=\"data row4 col5\" >-0.016560</td>\n",
              "      <td id=\"T_c42be_row4_col6\" class=\"data row4 col6\" >-0.029133</td>\n",
              "      <td id=\"T_c42be_row4_col7\" class=\"data row4 col7\" >-0.001791</td>\n",
              "      <td id=\"T_c42be_row4_col8\" class=\"data row4 col8\" >0.023618</td>\n",
              "      <td id=\"T_c42be_row4_col9\" class=\"data row4 col9\" >-0.013356</td>\n",
              "      <td id=\"T_c42be_row4_col10\" class=\"data row4 col10\" >0.644595</td>\n",
              "      <td id=\"T_c42be_row4_col11\" class=\"data row4 col11\" >-0.009990</td>\n",
              "      <td id=\"T_c42be_row4_col12\" class=\"data row4 col12\" >-0.005176</td>\n",
              "      <td id=\"T_c42be_row4_col13\" class=\"data row4 col13\" >0.015099</td>\n",
              "      <td id=\"T_c42be_row4_col14\" class=\"data row4 col14\" >-0.011014</td>\n",
              "      <td id=\"T_c42be_row4_col15\" class=\"data row4 col15\" >-0.012373</td>\n",
              "      <td id=\"T_c42be_row4_col16\" class=\"data row4 col16\" >-0.006829</td>\n",
              "      <td id=\"T_c42be_row4_col17\" class=\"data row4 col17\" >0.001793</td>\n",
              "      <td id=\"T_c42be_row4_col18\" class=\"data row4 col18\" >-0.014828</td>\n",
              "      <td id=\"T_c42be_row4_col19\" class=\"data row4 col19\" >0.020085</td>\n",
              "      <td id=\"T_c42be_row4_col20\" class=\"data row4 col20\" >0.021998</td>\n",
              "      <td id=\"T_c42be_row4_col21\" class=\"data row4 col21\" >-0.012337</td>\n",
              "      <td id=\"T_c42be_row4_col22\" class=\"data row4 col22\" >-0.008472</td>\n",
              "      <td id=\"T_c42be_row4_col23\" class=\"data row4 col23\" >-0.013543</td>\n",
              "      <td id=\"T_c42be_row4_col24\" class=\"data row4 col24\" >-0.011437</td>\n",
              "    </tr>\n",
              "    <tr>\n",
              "      <th id=\"T_c42be_level0_row5\" class=\"row_heading level0 row5\" >four_g</th>\n",
              "      <td id=\"T_c42be_row5_col0\" class=\"data row5 col0\" >0.015665</td>\n",
              "      <td id=\"T_c42be_row5_col1\" class=\"data row5 col1\" >0.013443</td>\n",
              "      <td id=\"T_c42be_row5_col2\" class=\"data row5 col2\" >-0.043073</td>\n",
              "      <td id=\"T_c42be_row5_col3\" class=\"data row5 col3\" >0.003187</td>\n",
              "      <td id=\"T_c42be_row5_col4\" class=\"data row5 col4\" >-0.016560</td>\n",
              "      <td id=\"T_c42be_row5_col5\" class=\"data row5 col5\" >1.000000</td>\n",
              "      <td id=\"T_c42be_row5_col6\" class=\"data row5 col6\" >0.008690</td>\n",
              "      <td id=\"T_c42be_row5_col7\" class=\"data row5 col7\" >-0.001823</td>\n",
              "      <td id=\"T_c42be_row5_col8\" class=\"data row5 col8\" >-0.016537</td>\n",
              "      <td id=\"T_c42be_row5_col9\" class=\"data row5 col9\" >-0.029706</td>\n",
              "      <td id=\"T_c42be_row5_col10\" class=\"data row5 col10\" >-0.005598</td>\n",
              "      <td id=\"T_c42be_row5_col11\" class=\"data row5 col11\" >-0.019236</td>\n",
              "      <td id=\"T_c42be_row5_col12\" class=\"data row5 col12\" >0.007448</td>\n",
              "      <td id=\"T_c42be_row5_col13\" class=\"data row5 col13\" >0.007313</td>\n",
              "      <td id=\"T_c42be_row5_col14\" class=\"data row5 col14\" >0.027166</td>\n",
              "      <td id=\"T_c42be_row5_col15\" class=\"data row5 col15\" >0.037005</td>\n",
              "      <td id=\"T_c42be_row5_col16\" class=\"data row5 col16\" >-0.046628</td>\n",
              "      <td id=\"T_c42be_row5_col17\" class=\"data row5 col17\" >0.584246</td>\n",
              "      <td id=\"T_c42be_row5_col18\" class=\"data row5 col18\" >0.016758</td>\n",
              "      <td id=\"T_c42be_row5_col19\" class=\"data row5 col19\" >-0.017620</td>\n",
              "      <td id=\"T_c42be_row5_col20\" class=\"data row5 col20\" >0.014772</td>\n",
              "      <td id=\"T_c42be_row5_col21\" class=\"data row5 col21\" >-0.009064</td>\n",
              "      <td id=\"T_c42be_row5_col22\" class=\"data row5 col22\" >-0.041211</td>\n",
              "      <td id=\"T_c42be_row5_col23\" class=\"data row5 col23\" >0.580651</td>\n",
              "      <td id=\"T_c42be_row5_col24\" class=\"data row5 col24\" >0.037167</td>\n",
              "    </tr>\n",
              "    <tr>\n",
              "      <th id=\"T_c42be_level0_row6\" class=\"row_heading level0 row6\" >int_memory</th>\n",
              "      <td id=\"T_c42be_row6_col0\" class=\"data row6 col0\" >-0.004004</td>\n",
              "      <td id=\"T_c42be_row6_col1\" class=\"data row6 col1\" >0.041177</td>\n",
              "      <td id=\"T_c42be_row6_col2\" class=\"data row6 col2\" >0.006545</td>\n",
              "      <td id=\"T_c42be_row6_col3\" class=\"data row6 col3\" >-0.015679</td>\n",
              "      <td id=\"T_c42be_row6_col4\" class=\"data row6 col4\" >-0.029133</td>\n",
              "      <td id=\"T_c42be_row6_col5\" class=\"data row6 col5\" >0.008690</td>\n",
              "      <td id=\"T_c42be_row6_col6\" class=\"data row6 col6\" >1.000000</td>\n",
              "      <td id=\"T_c42be_row6_col7\" class=\"data row6 col7\" >0.006886</td>\n",
              "      <td id=\"T_c42be_row6_col8\" class=\"data row6 col8\" >-0.034214</td>\n",
              "      <td id=\"T_c42be_row6_col9\" class=\"data row6 col9\" >-0.028310</td>\n",
              "      <td id=\"T_c42be_row6_col10\" class=\"data row6 col10\" >-0.033273</td>\n",
              "      <td id=\"T_c42be_row6_col11\" class=\"data row6 col11\" >0.010441</td>\n",
              "      <td id=\"T_c42be_row6_col12\" class=\"data row6 col12\" >-0.008335</td>\n",
              "      <td id=\"T_c42be_row6_col13\" class=\"data row6 col13\" >0.032813</td>\n",
              "      <td id=\"T_c42be_row6_col14\" class=\"data row6 col14\" >0.037771</td>\n",
              "      <td id=\"T_c42be_row6_col15\" class=\"data row6 col15\" >0.011731</td>\n",
              "      <td id=\"T_c42be_row6_col16\" class=\"data row6 col16\" >-0.002790</td>\n",
              "      <td id=\"T_c42be_row6_col17\" class=\"data row6 col17\" >-0.009366</td>\n",
              "      <td id=\"T_c42be_row6_col18\" class=\"data row6 col18\" >-0.026999</td>\n",
              "      <td id=\"T_c42be_row6_col19\" class=\"data row6 col19\" >0.006993</td>\n",
              "      <td id=\"T_c42be_row6_col20\" class=\"data row6 col20\" >0.044435</td>\n",
              "      <td id=\"T_c42be_row6_col21\" class=\"data row6 col21\" >0.015263</td>\n",
              "      <td id=\"T_c42be_row6_col22\" class=\"data row6 col22\" >-0.031757</td>\n",
              "      <td id=\"T_c42be_row6_col23\" class=\"data row6 col23\" >0.002377</td>\n",
              "      <td id=\"T_c42be_row6_col24\" class=\"data row6 col24\" >0.022887</td>\n",
              "    </tr>\n",
              "    <tr>\n",
              "      <th id=\"T_c42be_level0_row7\" class=\"row_heading level0 row7\" >m_dep</th>\n",
              "      <td id=\"T_c42be_row7_col0\" class=\"data row7 col0\" >0.034085</td>\n",
              "      <td id=\"T_c42be_row7_col1\" class=\"data row7 col1\" >0.004049</td>\n",
              "      <td id=\"T_c42be_row7_col2\" class=\"data row7 col2\" >-0.014364</td>\n",
              "      <td id=\"T_c42be_row7_col3\" class=\"data row7 col3\" >-0.022142</td>\n",
              "      <td id=\"T_c42be_row7_col4\" class=\"data row7 col4\" >-0.001791</td>\n",
              "      <td id=\"T_c42be_row7_col5\" class=\"data row7 col5\" >-0.001823</td>\n",
              "      <td id=\"T_c42be_row7_col6\" class=\"data row7 col6\" >0.006886</td>\n",
              "      <td id=\"T_c42be_row7_col7\" class=\"data row7 col7\" >1.000000</td>\n",
              "      <td id=\"T_c42be_row7_col8\" class=\"data row7 col8\" >0.021756</td>\n",
              "      <td id=\"T_c42be_row7_col9\" class=\"data row7 col9\" >-0.003504</td>\n",
              "      <td id=\"T_c42be_row7_col10\" class=\"data row7 col10\" >0.026282</td>\n",
              "      <td id=\"T_c42be_row7_col11\" class=\"data row7 col11\" >0.025263</td>\n",
              "      <td id=\"T_c42be_row7_col12\" class=\"data row7 col12\" >0.023566</td>\n",
              "      <td id=\"T_c42be_row7_col13\" class=\"data row7 col13\" >-0.009434</td>\n",
              "      <td id=\"T_c42be_row7_col14\" class=\"data row7 col14\" >-0.025348</td>\n",
              "      <td id=\"T_c42be_row7_col15\" class=\"data row7 col15\" >-0.018388</td>\n",
              "      <td id=\"T_c42be_row7_col16\" class=\"data row7 col16\" >0.017003</td>\n",
              "      <td id=\"T_c42be_row7_col17\" class=\"data row7 col17\" >-0.012065</td>\n",
              "      <td id=\"T_c42be_row7_col18\" class=\"data row7 col18\" >-0.002638</td>\n",
              "      <td id=\"T_c42be_row7_col19\" class=\"data row7 col19\" >-0.028353</td>\n",
              "      <td id=\"T_c42be_row7_col20\" class=\"data row7 col20\" >0.000853</td>\n",
              "      <td id=\"T_c42be_row7_col21\" class=\"data row7 col21\" >0.025138</td>\n",
              "      <td id=\"T_c42be_row7_col22\" class=\"data row7 col22\" >-0.019518</td>\n",
              "      <td id=\"T_c42be_row7_col23\" class=\"data row7 col23\" >-0.023483</td>\n",
              "      <td id=\"T_c42be_row7_col24\" class=\"data row7 col24\" >-0.021453</td>\n",
              "    </tr>\n",
              "    <tr>\n",
              "      <th id=\"T_c42be_level0_row8\" class=\"row_heading level0 row8\" >mobile_wt</th>\n",
              "      <td id=\"T_c42be_row8_col0\" class=\"data row8 col0\" >0.001844</td>\n",
              "      <td id=\"T_c42be_row8_col1\" class=\"data row8 col1\" >-0.008605</td>\n",
              "      <td id=\"T_c42be_row8_col2\" class=\"data row8 col2\" >0.012350</td>\n",
              "      <td id=\"T_c42be_row8_col3\" class=\"data row8 col3\" >-0.008979</td>\n",
              "      <td id=\"T_c42be_row8_col4\" class=\"data row8 col4\" >0.023618</td>\n",
              "      <td id=\"T_c42be_row8_col5\" class=\"data row8 col5\" >-0.016537</td>\n",
              "      <td id=\"T_c42be_row8_col6\" class=\"data row8 col6\" >-0.034214</td>\n",
              "      <td id=\"T_c42be_row8_col7\" class=\"data row8 col7\" >0.021756</td>\n",
              "      <td id=\"T_c42be_row8_col8\" class=\"data row8 col8\" >1.000000</td>\n",
              "      <td id=\"T_c42be_row8_col9\" class=\"data row8 col9\" >-0.018989</td>\n",
              "      <td id=\"T_c42be_row8_col10\" class=\"data row8 col10\" >0.018844</td>\n",
              "      <td id=\"T_c42be_row8_col11\" class=\"data row8 col11\" >0.000939</td>\n",
              "      <td id=\"T_c42be_row8_col12\" class=\"data row8 col12\" >0.000090</td>\n",
              "      <td id=\"T_c42be_row8_col13\" class=\"data row8 col13\" >-0.002581</td>\n",
              "      <td id=\"T_c42be_row8_col14\" class=\"data row8 col14\" >-0.033855</td>\n",
              "      <td id=\"T_c42be_row8_col15\" class=\"data row8 col15\" >-0.020761</td>\n",
              "      <td id=\"T_c42be_row8_col16\" class=\"data row8 col16\" >0.006209</td>\n",
              "      <td id=\"T_c42be_row8_col17\" class=\"data row8 col17\" >0.001551</td>\n",
              "      <td id=\"T_c42be_row8_col18\" class=\"data row8 col18\" >-0.014368</td>\n",
              "      <td id=\"T_c42be_row8_col19\" class=\"data row8 col19\" >-0.000409</td>\n",
              "      <td id=\"T_c42be_row8_col20\" class=\"data row8 col20\" >-0.030302</td>\n",
              "      <td id=\"T_c42be_row8_col21\" class=\"data row8 col21\" >-0.006036</td>\n",
              "      <td id=\"T_c42be_row8_col22\" class=\"data row8 col22\" >-0.004082</td>\n",
              "      <td id=\"T_c42be_row8_col23\" class=\"data row8 col23\" >-0.018254</td>\n",
              "      <td id=\"T_c42be_row8_col24\" class=\"data row8 col24\" >-0.026375</td>\n",
              "    </tr>\n",
              "    <tr>\n",
              "      <th id=\"T_c42be_level0_row9\" class=\"row_heading level0 row9\" >n_cores</th>\n",
              "      <td id=\"T_c42be_row9_col0\" class=\"data row9 col0\" >-0.029727</td>\n",
              "      <td id=\"T_c42be_row9_col1\" class=\"data row9 col1\" >0.036161</td>\n",
              "      <td id=\"T_c42be_row9_col2\" class=\"data row9 col2\" >-0.005724</td>\n",
              "      <td id=\"T_c42be_row9_col3\" class=\"data row9 col3\" >-0.024658</td>\n",
              "      <td id=\"T_c42be_row9_col4\" class=\"data row9 col4\" >-0.013356</td>\n",
              "      <td id=\"T_c42be_row9_col5\" class=\"data row9 col5\" >-0.029706</td>\n",
              "      <td id=\"T_c42be_row9_col6\" class=\"data row9 col6\" >-0.028310</td>\n",
              "      <td id=\"T_c42be_row9_col7\" class=\"data row9 col7\" >-0.003504</td>\n",
              "      <td id=\"T_c42be_row9_col8\" class=\"data row9 col8\" >-0.018989</td>\n",
              "      <td id=\"T_c42be_row9_col9\" class=\"data row9 col9\" >1.000000</td>\n",
              "      <td id=\"T_c42be_row9_col10\" class=\"data row9 col10\" >-0.001193</td>\n",
              "      <td id=\"T_c42be_row9_col11\" class=\"data row9 col11\" >-0.006872</td>\n",
              "      <td id=\"T_c42be_row9_col12\" class=\"data row9 col12\" >0.024480</td>\n",
              "      <td id=\"T_c42be_row9_col13\" class=\"data row9 col13\" >0.004868</td>\n",
              "      <td id=\"T_c42be_row9_col14\" class=\"data row9 col14\" >-0.000315</td>\n",
              "      <td id=\"T_c42be_row9_col15\" class=\"data row9 col15\" >0.025826</td>\n",
              "      <td id=\"T_c42be_row9_col16\" class=\"data row9 col16\" >0.013148</td>\n",
              "      <td id=\"T_c42be_row9_col17\" class=\"data row9 col17\" >-0.014733</td>\n",
              "      <td id=\"T_c42be_row9_col18\" class=\"data row9 col18\" >0.023774</td>\n",
              "      <td id=\"T_c42be_row9_col19\" class=\"data row9 col19\" >-0.009964</td>\n",
              "      <td id=\"T_c42be_row9_col20\" class=\"data row9 col20\" >0.004399</td>\n",
              "      <td id=\"T_c42be_row9_col21\" class=\"data row9 col21\" >0.001245</td>\n",
              "      <td id=\"T_c42be_row9_col22\" class=\"data row9 col22\" >0.647639</td>\n",
              "      <td id=\"T_c42be_row9_col23\" class=\"data row9 col23\" >-0.006494</td>\n",
              "      <td id=\"T_c42be_row9_col24\" class=\"data row9 col24\" >0.021618</td>\n",
              "    </tr>\n",
              "    <tr>\n",
              "      <th id=\"T_c42be_level0_row10\" class=\"row_heading level0 row10\" >pc</th>\n",
              "      <td id=\"T_c42be_row10_col0\" class=\"data row10 col0\" >0.031441</td>\n",
              "      <td id=\"T_c42be_row10_col1\" class=\"data row10 col1\" >-0.009952</td>\n",
              "      <td id=\"T_c42be_row10_col2\" class=\"data row10 col2\" >-0.005245</td>\n",
              "      <td id=\"T_c42be_row10_col3\" class=\"data row10 col3\" >-0.017143</td>\n",
              "      <td id=\"T_c42be_row10_col4\" class=\"data row10 col4\" >0.644595</td>\n",
              "      <td id=\"T_c42be_row10_col5\" class=\"data row10 col5\" >-0.005598</td>\n",
              "      <td id=\"T_c42be_row10_col6\" class=\"data row10 col6\" >-0.033273</td>\n",
              "      <td id=\"T_c42be_row10_col7\" class=\"data row10 col7\" >0.026282</td>\n",
              "      <td id=\"T_c42be_row10_col8\" class=\"data row10 col8\" >0.018844</td>\n",
              "      <td id=\"T_c42be_row10_col9\" class=\"data row10 col9\" >-0.001193</td>\n",
              "      <td id=\"T_c42be_row10_col10\" class=\"data row10 col10\" >1.000000</td>\n",
              "      <td id=\"T_c42be_row10_col11\" class=\"data row10 col11\" >-0.018465</td>\n",
              "      <td id=\"T_c42be_row10_col12\" class=\"data row10 col12\" >0.004196</td>\n",
              "      <td id=\"T_c42be_row10_col13\" class=\"data row10 col13\" >0.028984</td>\n",
              "      <td id=\"T_c42be_row10_col14\" class=\"data row10 col14\" >0.004938</td>\n",
              "      <td id=\"T_c42be_row10_col15\" class=\"data row10 col15\" >-0.023819</td>\n",
              "      <td id=\"T_c42be_row10_col16\" class=\"data row10 col16\" >0.014657</td>\n",
              "      <td id=\"T_c42be_row10_col17\" class=\"data row10 col17\" >-0.001322</td>\n",
              "      <td id=\"T_c42be_row10_col18\" class=\"data row10 col18\" >-0.008742</td>\n",
              "      <td id=\"T_c42be_row10_col19\" class=\"data row10 col19\" >0.005389</td>\n",
              "      <td id=\"T_c42be_row10_col20\" class=\"data row10 col20\" >0.033599</td>\n",
              "      <td id=\"T_c42be_row10_col21\" class=\"data row10 col21\" >-0.017451</td>\n",
              "      <td id=\"T_c42be_row10_col22\" class=\"data row10 col22\" >-0.006198</td>\n",
              "      <td id=\"T_c42be_row10_col23\" class=\"data row10 col23\" >-0.014264</td>\n",
              "      <td id=\"T_c42be_row10_col24\" class=\"data row10 col24\" >-0.013611</td>\n",
              "    </tr>\n",
              "    <tr>\n",
              "      <th id=\"T_c42be_level0_row11\" class=\"row_heading level0 row11\" >px_height</th>\n",
              "      <td id=\"T_c42be_row11_col0\" class=\"data row11 col0\" >0.014901</td>\n",
              "      <td id=\"T_c42be_row11_col1\" class=\"data row11 col1\" >-0.006872</td>\n",
              "      <td id=\"T_c42be_row11_col2\" class=\"data row11 col2\" >-0.014523</td>\n",
              "      <td id=\"T_c42be_row11_col3\" class=\"data row11 col3\" >-0.020875</td>\n",
              "      <td id=\"T_c42be_row11_col4\" class=\"data row11 col4\" >-0.009990</td>\n",
              "      <td id=\"T_c42be_row11_col5\" class=\"data row11 col5\" >-0.019236</td>\n",
              "      <td id=\"T_c42be_row11_col6\" class=\"data row11 col6\" >0.010441</td>\n",
              "      <td id=\"T_c42be_row11_col7\" class=\"data row11 col7\" >0.025263</td>\n",
              "      <td id=\"T_c42be_row11_col8\" class=\"data row11 col8\" >0.000939</td>\n",
              "      <td id=\"T_c42be_row11_col9\" class=\"data row11 col9\" >-0.006872</td>\n",
              "      <td id=\"T_c42be_row11_col10\" class=\"data row11 col10\" >-0.018465</td>\n",
              "      <td id=\"T_c42be_row11_col11\" class=\"data row11 col11\" >1.000000</td>\n",
              "      <td id=\"T_c42be_row11_col12\" class=\"data row11 col12\" >0.510664</td>\n",
              "      <td id=\"T_c42be_row11_col13\" class=\"data row11 col13\" >-0.020352</td>\n",
              "      <td id=\"T_c42be_row11_col14\" class=\"data row11 col14\" >0.059615</td>\n",
              "      <td id=\"T_c42be_row11_col15\" class=\"data row11 col15\" >0.043038</td>\n",
              "      <td id=\"T_c42be_row11_col16\" class=\"data row11 col16\" >-0.010645</td>\n",
              "      <td id=\"T_c42be_row11_col17\" class=\"data row11 col17\" >-0.031174</td>\n",
              "      <td id=\"T_c42be_row11_col18\" class=\"data row11 col18\" >0.021891</td>\n",
              "      <td id=\"T_c42be_row11_col19\" class=\"data row11 col19\" >0.051824</td>\n",
              "      <td id=\"T_c42be_row11_col20\" class=\"data row11 col20\" >0.148858</td>\n",
              "      <td id=\"T_c42be_row11_col21\" class=\"data row11 col21\" >0.952730</td>\n",
              "      <td id=\"T_c42be_row11_col22\" class=\"data row11 col22\" >-0.004829</td>\n",
              "      <td id=\"T_c42be_row11_col23\" class=\"data row11 col23\" >0.000068</td>\n",
              "      <td id=\"T_c42be_row11_col24\" class=\"data row11 col24\" >0.053894</td>\n",
              "    </tr>\n",
              "    <tr>\n",
              "      <th id=\"T_c42be_level0_row12\" class=\"row_heading level0 row12\" >px_width</th>\n",
              "      <td id=\"T_c42be_row12_col0\" class=\"data row12 col0\" >-0.008402</td>\n",
              "      <td id=\"T_c42be_row12_col1\" class=\"data row12 col1\" >-0.041533</td>\n",
              "      <td id=\"T_c42be_row12_col2\" class=\"data row12 col2\" >-0.009476</td>\n",
              "      <td id=\"T_c42be_row12_col3\" class=\"data row12 col3\" >0.014291</td>\n",
              "      <td id=\"T_c42be_row12_col4\" class=\"data row12 col4\" >-0.005176</td>\n",
              "      <td id=\"T_c42be_row12_col5\" class=\"data row12 col5\" >0.007448</td>\n",
              "      <td id=\"T_c42be_row12_col6\" class=\"data row12 col6\" >-0.008335</td>\n",
              "      <td id=\"T_c42be_row12_col7\" class=\"data row12 col7\" >0.023566</td>\n",
              "      <td id=\"T_c42be_row12_col8\" class=\"data row12 col8\" >0.000090</td>\n",
              "      <td id=\"T_c42be_row12_col9\" class=\"data row12 col9\" >0.024480</td>\n",
              "      <td id=\"T_c42be_row12_col10\" class=\"data row12 col10\" >0.004196</td>\n",
              "      <td id=\"T_c42be_row12_col11\" class=\"data row12 col11\" >0.510664</td>\n",
              "      <td id=\"T_c42be_row12_col12\" class=\"data row12 col12\" >1.000000</td>\n",
              "      <td id=\"T_c42be_row12_col13\" class=\"data row12 col13\" >0.004105</td>\n",
              "      <td id=\"T_c42be_row12_col14\" class=\"data row12 col14\" >0.021599</td>\n",
              "      <td id=\"T_c42be_row12_col15\" class=\"data row12 col15\" >0.034699</td>\n",
              "      <td id=\"T_c42be_row12_col16\" class=\"data row12 col16\" >0.006720</td>\n",
              "      <td id=\"T_c42be_row12_col17\" class=\"data row12 col17\" >0.000350</td>\n",
              "      <td id=\"T_c42be_row12_col18\" class=\"data row12 col18\" >-0.001628</td>\n",
              "      <td id=\"T_c42be_row12_col19\" class=\"data row12 col19\" >0.030319</td>\n",
              "      <td id=\"T_c42be_row12_col20\" class=\"data row12 col20\" >0.165818</td>\n",
              "      <td id=\"T_c42be_row12_col21\" class=\"data row12 col21\" >0.684062</td>\n",
              "      <td id=\"T_c42be_row12_col22\" class=\"data row12 col22\" >0.020171</td>\n",
              "      <td id=\"T_c42be_row12_col23\" class=\"data row12 col23\" >0.003525</td>\n",
              "      <td id=\"T_c42be_row12_col24\" class=\"data row12 col24\" >0.041354</td>\n",
              "    </tr>\n",
              "    <tr>\n",
              "      <th id=\"T_c42be_level0_row13\" class=\"row_heading level0 row13\" >ram</th>\n",
              "      <td id=\"T_c42be_row13_col0\" class=\"data row13 col0\" >-0.000653</td>\n",
              "      <td id=\"T_c42be_row13_col1\" class=\"data row13 col1\" >0.026351</td>\n",
              "      <td id=\"T_c42be_row13_col2\" class=\"data row13 col2\" >0.003443</td>\n",
              "      <td id=\"T_c42be_row13_col3\" class=\"data row13 col3\" >0.041072</td>\n",
              "      <td id=\"T_c42be_row13_col4\" class=\"data row13 col4\" >0.015099</td>\n",
              "      <td id=\"T_c42be_row13_col5\" class=\"data row13 col5\" >0.007313</td>\n",
              "      <td id=\"T_c42be_row13_col6\" class=\"data row13 col6\" >0.032813</td>\n",
              "      <td id=\"T_c42be_row13_col7\" class=\"data row13 col7\" >-0.009434</td>\n",
              "      <td id=\"T_c42be_row13_col8\" class=\"data row13 col8\" >-0.002581</td>\n",
              "      <td id=\"T_c42be_row13_col9\" class=\"data row13 col9\" >0.004868</td>\n",
              "      <td id=\"T_c42be_row13_col10\" class=\"data row13 col10\" >0.028984</td>\n",
              "      <td id=\"T_c42be_row13_col11\" class=\"data row13 col11\" >-0.020352</td>\n",
              "      <td id=\"T_c42be_row13_col12\" class=\"data row13 col12\" >0.004105</td>\n",
              "      <td id=\"T_c42be_row13_col13\" class=\"data row13 col13\" >1.000000</td>\n",
              "      <td id=\"T_c42be_row13_col14\" class=\"data row13 col14\" >0.015996</td>\n",
              "      <td id=\"T_c42be_row13_col15\" class=\"data row13 col15\" >0.035576</td>\n",
              "      <td id=\"T_c42be_row13_col16\" class=\"data row13 col16\" >0.010820</td>\n",
              "      <td id=\"T_c42be_row13_col17\" class=\"data row13 col17\" >0.015795</td>\n",
              "      <td id=\"T_c42be_row13_col18\" class=\"data row13 col18\" >-0.030455</td>\n",
              "      <td id=\"T_c42be_row13_col19\" class=\"data row13 col19\" >0.022669</td>\n",
              "      <td id=\"T_c42be_row13_col20\" class=\"data row13 col20\" >0.917046</td>\n",
              "      <td id=\"T_c42be_row13_col21\" class=\"data row13 col21\" >-0.006357</td>\n",
              "      <td id=\"T_c42be_row13_col22\" class=\"data row13 col22\" >-0.001311</td>\n",
              "      <td id=\"T_c42be_row13_col23\" class=\"data row13 col23\" >0.030858</td>\n",
              "      <td id=\"T_c42be_row13_col24\" class=\"data row13 col24\" >0.033335</td>\n",
              "    </tr>\n",
              "    <tr>\n",
              "      <th id=\"T_c42be_level0_row14\" class=\"row_heading level0 row14\" >sc_h</th>\n",
              "      <td id=\"T_c42be_row14_col0\" class=\"data row14 col0\" >-0.029959</td>\n",
              "      <td id=\"T_c42be_row14_col1\" class=\"data row14 col1\" >-0.002952</td>\n",
              "      <td id=\"T_c42be_row14_col2\" class=\"data row14 col2\" >-0.029078</td>\n",
              "      <td id=\"T_c42be_row14_col3\" class=\"data row14 col3\" >-0.011949</td>\n",
              "      <td id=\"T_c42be_row14_col4\" class=\"data row14 col4\" >-0.011014</td>\n",
              "      <td id=\"T_c42be_row14_col5\" class=\"data row14 col5\" >0.027166</td>\n",
              "      <td id=\"T_c42be_row14_col6\" class=\"data row14 col6\" >0.037771</td>\n",
              "      <td id=\"T_c42be_row14_col7\" class=\"data row14 col7\" >-0.025348</td>\n",
              "      <td id=\"T_c42be_row14_col8\" class=\"data row14 col8\" >-0.033855</td>\n",
              "      <td id=\"T_c42be_row14_col9\" class=\"data row14 col9\" >-0.000315</td>\n",
              "      <td id=\"T_c42be_row14_col10\" class=\"data row14 col10\" >0.004938</td>\n",
              "      <td id=\"T_c42be_row14_col11\" class=\"data row14 col11\" >0.059615</td>\n",
              "      <td id=\"T_c42be_row14_col12\" class=\"data row14 col12\" >0.021599</td>\n",
              "      <td id=\"T_c42be_row14_col13\" class=\"data row14 col13\" >0.015996</td>\n",
              "      <td id=\"T_c42be_row14_col14\" class=\"data row14 col14\" >1.000000</td>\n",
              "      <td id=\"T_c42be_row14_col15\" class=\"data row14 col15\" >0.506144</td>\n",
              "      <td id=\"T_c42be_row14_col16\" class=\"data row14 col16\" >-0.017335</td>\n",
              "      <td id=\"T_c42be_row14_col17\" class=\"data row14 col17\" >0.012033</td>\n",
              "      <td id=\"T_c42be_row14_col18\" class=\"data row14 col18\" >-0.020023</td>\n",
              "      <td id=\"T_c42be_row14_col19\" class=\"data row14 col19\" >0.025929</td>\n",
              "      <td id=\"T_c42be_row14_col20\" class=\"data row14 col20\" >0.022986</td>\n",
              "      <td id=\"T_c42be_row14_col21\" class=\"data row14 col21\" >0.058362</td>\n",
              "      <td id=\"T_c42be_row14_col22\" class=\"data row14 col22\" >-0.020114</td>\n",
              "      <td id=\"T_c42be_row14_col23\" class=\"data row14 col23\" >0.010901</td>\n",
              "      <td id=\"T_c42be_row14_col24\" class=\"data row14 col24\" >0.656031</td>\n",
              "    </tr>\n",
              "    <tr>\n",
              "      <th id=\"T_c42be_level0_row15\" class=\"row_heading level0 row15\" >sc_w</th>\n",
              "      <td id=\"T_c42be_row15_col0\" class=\"data row15 col0\" >-0.021421</td>\n",
              "      <td id=\"T_c42be_row15_col1\" class=\"data row15 col1\" >0.000613</td>\n",
              "      <td id=\"T_c42be_row15_col2\" class=\"data row15 col2\" >-0.007378</td>\n",
              "      <td id=\"T_c42be_row15_col3\" class=\"data row15 col3\" >-0.016666</td>\n",
              "      <td id=\"T_c42be_row15_col4\" class=\"data row15 col4\" >-0.012373</td>\n",
              "      <td id=\"T_c42be_row15_col5\" class=\"data row15 col5\" >0.037005</td>\n",
              "      <td id=\"T_c42be_row15_col6\" class=\"data row15 col6\" >0.011731</td>\n",
              "      <td id=\"T_c42be_row15_col7\" class=\"data row15 col7\" >-0.018388</td>\n",
              "      <td id=\"T_c42be_row15_col8\" class=\"data row15 col8\" >-0.020761</td>\n",
              "      <td id=\"T_c42be_row15_col9\" class=\"data row15 col9\" >0.025826</td>\n",
              "      <td id=\"T_c42be_row15_col10\" class=\"data row15 col10\" >-0.023819</td>\n",
              "      <td id=\"T_c42be_row15_col11\" class=\"data row15 col11\" >0.043038</td>\n",
              "      <td id=\"T_c42be_row15_col12\" class=\"data row15 col12\" >0.034699</td>\n",
              "      <td id=\"T_c42be_row15_col13\" class=\"data row15 col13\" >0.035576</td>\n",
              "      <td id=\"T_c42be_row15_col14\" class=\"data row15 col14\" >0.506144</td>\n",
              "      <td id=\"T_c42be_row15_col15\" class=\"data row15 col15\" >1.000000</td>\n",
              "      <td id=\"T_c42be_row15_col16\" class=\"data row15 col16\" >-0.022821</td>\n",
              "      <td id=\"T_c42be_row15_col17\" class=\"data row15 col17\" >0.030941</td>\n",
              "      <td id=\"T_c42be_row15_col18\" class=\"data row15 col18\" >0.012720</td>\n",
              "      <td id=\"T_c42be_row15_col19\" class=\"data row15 col19\" >0.035423</td>\n",
              "      <td id=\"T_c42be_row15_col20\" class=\"data row15 col20\" >0.038711</td>\n",
              "      <td id=\"T_c42be_row15_col21\" class=\"data row15 col21\" >0.046496</td>\n",
              "      <td id=\"T_c42be_row15_col22\" class=\"data row15 col22\" >0.009152</td>\n",
              "      <td id=\"T_c42be_row15_col23\" class=\"data row15 col23\" >0.036629</td>\n",
              "      <td id=\"T_c42be_row15_col24\" class=\"data row15 col24\" >0.959617</td>\n",
              "    </tr>\n",
              "    <tr>\n",
              "      <th id=\"T_c42be_level0_row16\" class=\"row_heading level0 row16\" >talk_time</th>\n",
              "      <td id=\"T_c42be_row16_col0\" class=\"data row16 col0\" >0.052510</td>\n",
              "      <td id=\"T_c42be_row16_col1\" class=\"data row16 col1\" >0.013934</td>\n",
              "      <td id=\"T_c42be_row16_col2\" class=\"data row16 col2\" >-0.011432</td>\n",
              "      <td id=\"T_c42be_row16_col3\" class=\"data row16 col3\" >-0.039404</td>\n",
              "      <td id=\"T_c42be_row16_col4\" class=\"data row16 col4\" >-0.006829</td>\n",
              "      <td id=\"T_c42be_row16_col5\" class=\"data row16 col5\" >-0.046628</td>\n",
              "      <td id=\"T_c42be_row16_col6\" class=\"data row16 col6\" >-0.002790</td>\n",
              "      <td id=\"T_c42be_row16_col7\" class=\"data row16 col7\" >0.017003</td>\n",
              "      <td id=\"T_c42be_row16_col8\" class=\"data row16 col8\" >0.006209</td>\n",
              "      <td id=\"T_c42be_row16_col9\" class=\"data row16 col9\" >0.013148</td>\n",
              "      <td id=\"T_c42be_row16_col10\" class=\"data row16 col10\" >0.014657</td>\n",
              "      <td id=\"T_c42be_row16_col11\" class=\"data row16 col11\" >-0.010645</td>\n",
              "      <td id=\"T_c42be_row16_col12\" class=\"data row16 col12\" >0.006720</td>\n",
              "      <td id=\"T_c42be_row16_col13\" class=\"data row16 col13\" >0.010820</td>\n",
              "      <td id=\"T_c42be_row16_col14\" class=\"data row16 col14\" >-0.017335</td>\n",
              "      <td id=\"T_c42be_row16_col15\" class=\"data row16 col15\" >-0.022821</td>\n",
              "      <td id=\"T_c42be_row16_col16\" class=\"data row16 col16\" >1.000000</td>\n",
              "      <td id=\"T_c42be_row16_col17\" class=\"data row16 col17\" >-0.042688</td>\n",
              "      <td id=\"T_c42be_row16_col18\" class=\"data row16 col18\" >0.017196</td>\n",
              "      <td id=\"T_c42be_row16_col19\" class=\"data row16 col19\" >-0.029504</td>\n",
              "      <td id=\"T_c42be_row16_col20\" class=\"data row16 col20\" >0.021859</td>\n",
              "      <td id=\"T_c42be_row16_col21\" class=\"data row16 col21\" >-0.010729</td>\n",
              "      <td id=\"T_c42be_row16_col22\" class=\"data row16 col22\" >0.002250</td>\n",
              "      <td id=\"T_c42be_row16_col23\" class=\"data row16 col23\" >-0.046342</td>\n",
              "      <td id=\"T_c42be_row16_col24\" class=\"data row16 col24\" >-0.026502</td>\n",
              "    </tr>\n",
              "    <tr>\n",
              "      <th id=\"T_c42be_level0_row17\" class=\"row_heading level0 row17\" >three_g</th>\n",
              "      <td id=\"T_c42be_row17_col0\" class=\"data row17 col0\" >0.011522</td>\n",
              "      <td id=\"T_c42be_row17_col1\" class=\"data row17 col1\" >-0.030236</td>\n",
              "      <td id=\"T_c42be_row17_col2\" class=\"data row17 col2\" >-0.046433</td>\n",
              "      <td id=\"T_c42be_row17_col3\" class=\"data row17 col3\" >-0.014008</td>\n",
              "      <td id=\"T_c42be_row17_col4\" class=\"data row17 col4\" >0.001793</td>\n",
              "      <td id=\"T_c42be_row17_col5\" class=\"data row17 col5\" >0.584246</td>\n",
              "      <td id=\"T_c42be_row17_col6\" class=\"data row17 col6\" >-0.009366</td>\n",
              "      <td id=\"T_c42be_row17_col7\" class=\"data row17 col7\" >-0.012065</td>\n",
              "      <td id=\"T_c42be_row17_col8\" class=\"data row17 col8\" >0.001551</td>\n",
              "      <td id=\"T_c42be_row17_col9\" class=\"data row17 col9\" >-0.014733</td>\n",
              "      <td id=\"T_c42be_row17_col10\" class=\"data row17 col10\" >-0.001322</td>\n",
              "      <td id=\"T_c42be_row17_col11\" class=\"data row17 col11\" >-0.031174</td>\n",
              "      <td id=\"T_c42be_row17_col12\" class=\"data row17 col12\" >0.000350</td>\n",
              "      <td id=\"T_c42be_row17_col13\" class=\"data row17 col13\" >0.015795</td>\n",
              "      <td id=\"T_c42be_row17_col14\" class=\"data row17 col14\" >0.012033</td>\n",
              "      <td id=\"T_c42be_row17_col15\" class=\"data row17 col15\" >0.030941</td>\n",
              "      <td id=\"T_c42be_row17_col16\" class=\"data row17 col16\" >-0.042688</td>\n",
              "      <td id=\"T_c42be_row17_col17\" class=\"data row17 col17\" >1.000000</td>\n",
              "      <td id=\"T_c42be_row17_col18\" class=\"data row17 col18\" >0.013917</td>\n",
              "      <td id=\"T_c42be_row17_col19\" class=\"data row17 col19\" >0.004316</td>\n",
              "      <td id=\"T_c42be_row17_col20\" class=\"data row17 col20\" >0.023611</td>\n",
              "      <td id=\"T_c42be_row17_col21\" class=\"data row17 col21\" >-0.028219</td>\n",
              "      <td id=\"T_c42be_row17_col22\" class=\"data row17 col22\" >-0.031857</td>\n",
              "      <td id=\"T_c42be_row17_col23\" class=\"data row17 col23\" >0.541201</td>\n",
              "      <td id=\"T_c42be_row17_col24\" class=\"data row17 col24\" >0.033600</td>\n",
              "    </tr>\n",
              "    <tr>\n",
              "      <th id=\"T_c42be_level0_row18\" class=\"row_heading level0 row18\" >touch_screen</th>\n",
              "      <td id=\"T_c42be_row18_col0\" class=\"data row18 col0\" >-0.010516</td>\n",
              "      <td id=\"T_c42be_row18_col1\" class=\"data row18 col1\" >0.010061</td>\n",
              "      <td id=\"T_c42be_row18_col2\" class=\"data row18 col2\" >0.019756</td>\n",
              "      <td id=\"T_c42be_row18_col3\" class=\"data row18 col3\" >-0.017117</td>\n",
              "      <td id=\"T_c42be_row18_col4\" class=\"data row18 col4\" >-0.014828</td>\n",
              "      <td id=\"T_c42be_row18_col5\" class=\"data row18 col5\" >0.016758</td>\n",
              "      <td id=\"T_c42be_row18_col6\" class=\"data row18 col6\" >-0.026999</td>\n",
              "      <td id=\"T_c42be_row18_col7\" class=\"data row18 col7\" >-0.002638</td>\n",
              "      <td id=\"T_c42be_row18_col8\" class=\"data row18 col8\" >-0.014368</td>\n",
              "      <td id=\"T_c42be_row18_col9\" class=\"data row18 col9\" >0.023774</td>\n",
              "      <td id=\"T_c42be_row18_col10\" class=\"data row18 col10\" >-0.008742</td>\n",
              "      <td id=\"T_c42be_row18_col11\" class=\"data row18 col11\" >0.021891</td>\n",
              "      <td id=\"T_c42be_row18_col12\" class=\"data row18 col12\" >-0.001628</td>\n",
              "      <td id=\"T_c42be_row18_col13\" class=\"data row18 col13\" >-0.030455</td>\n",
              "      <td id=\"T_c42be_row18_col14\" class=\"data row18 col14\" >-0.020023</td>\n",
              "      <td id=\"T_c42be_row18_col15\" class=\"data row18 col15\" >0.012720</td>\n",
              "      <td id=\"T_c42be_row18_col16\" class=\"data row18 col16\" >0.017196</td>\n",
              "      <td id=\"T_c42be_row18_col17\" class=\"data row18 col17\" >0.013917</td>\n",
              "      <td id=\"T_c42be_row18_col18\" class=\"data row18 col18\" >1.000000</td>\n",
              "      <td id=\"T_c42be_row18_col19\" class=\"data row18 col19\" >0.011917</td>\n",
              "      <td id=\"T_c42be_row18_col20\" class=\"data row18 col20\" >-0.030411</td>\n",
              "      <td id=\"T_c42be_row18_col21\" class=\"data row18 col21\" >0.017036</td>\n",
              "      <td id=\"T_c42be_row18_col22\" class=\"data row18 col22\" >0.032890</td>\n",
              "      <td id=\"T_c42be_row18_col23\" class=\"data row18 col23\" >0.396660</td>\n",
              "      <td id=\"T_c42be_row18_col24\" class=\"data row18 col24\" >0.008131</td>\n",
              "    </tr>\n",
              "    <tr>\n",
              "      <th id=\"T_c42be_level0_row19\" class=\"row_heading level0 row19\" >wifi</th>\n",
              "      <td id=\"T_c42be_row19_col0\" class=\"data row19 col0\" >-0.008343</td>\n",
              "      <td id=\"T_c42be_row19_col1\" class=\"data row19 col1\" >-0.021863</td>\n",
              "      <td id=\"T_c42be_row19_col2\" class=\"data row19 col2\" >-0.024471</td>\n",
              "      <td id=\"T_c42be_row19_col3\" class=\"data row19 col3\" >0.022740</td>\n",
              "      <td id=\"T_c42be_row19_col4\" class=\"data row19 col4\" >0.020085</td>\n",
              "      <td id=\"T_c42be_row19_col5\" class=\"data row19 col5\" >-0.017620</td>\n",
              "      <td id=\"T_c42be_row19_col6\" class=\"data row19 col6\" >0.006993</td>\n",
              "      <td id=\"T_c42be_row19_col7\" class=\"data row19 col7\" >-0.028353</td>\n",
              "      <td id=\"T_c42be_row19_col8\" class=\"data row19 col8\" >-0.000409</td>\n",
              "      <td id=\"T_c42be_row19_col9\" class=\"data row19 col9\" >-0.009964</td>\n",
              "      <td id=\"T_c42be_row19_col10\" class=\"data row19 col10\" >0.005389</td>\n",
              "      <td id=\"T_c42be_row19_col11\" class=\"data row19 col11\" >0.051824</td>\n",
              "      <td id=\"T_c42be_row19_col12\" class=\"data row19 col12\" >0.030319</td>\n",
              "      <td id=\"T_c42be_row19_col13\" class=\"data row19 col13\" >0.022669</td>\n",
              "      <td id=\"T_c42be_row19_col14\" class=\"data row19 col14\" >0.025929</td>\n",
              "      <td id=\"T_c42be_row19_col15\" class=\"data row19 col15\" >0.035423</td>\n",
              "      <td id=\"T_c42be_row19_col16\" class=\"data row19 col16\" >-0.029504</td>\n",
              "      <td id=\"T_c42be_row19_col17\" class=\"data row19 col17\" >0.004316</td>\n",
              "      <td id=\"T_c42be_row19_col18\" class=\"data row19 col18\" >0.011917</td>\n",
              "      <td id=\"T_c42be_row19_col19\" class=\"data row19 col19\" >1.000000</td>\n",
              "      <td id=\"T_c42be_row19_col20\" class=\"data row19 col20\" >0.018785</td>\n",
              "      <td id=\"T_c42be_row19_col21\" class=\"data row19 col21\" >0.044482</td>\n",
              "      <td id=\"T_c42be_row19_col22\" class=\"data row19 col22\" >-0.019947</td>\n",
              "      <td id=\"T_c42be_row19_col23\" class=\"data row19 col23\" >0.383349</td>\n",
              "      <td id=\"T_c42be_row19_col24\" class=\"data row19 col24\" >0.043587</td>\n",
              "    </tr>\n",
              "    <tr>\n",
              "      <th id=\"T_c42be_level0_row20\" class=\"row_heading level0 row20\" >price_range</th>\n",
              "      <td id=\"T_c42be_row20_col0\" class=\"data row20 col0\" >0.200723</td>\n",
              "      <td id=\"T_c42be_row20_col1\" class=\"data row20 col1\" >0.020573</td>\n",
              "      <td id=\"T_c42be_row20_col2\" class=\"data row20 col2\" >-0.006606</td>\n",
              "      <td id=\"T_c42be_row20_col3\" class=\"data row20 col3\" >0.017444</td>\n",
              "      <td id=\"T_c42be_row20_col4\" class=\"data row20 col4\" >0.021998</td>\n",
              "      <td id=\"T_c42be_row20_col5\" class=\"data row20 col5\" >0.014772</td>\n",
              "      <td id=\"T_c42be_row20_col6\" class=\"data row20 col6\" >0.044435</td>\n",
              "      <td id=\"T_c42be_row20_col7\" class=\"data row20 col7\" >0.000853</td>\n",
              "      <td id=\"T_c42be_row20_col8\" class=\"data row20 col8\" >-0.030302</td>\n",
              "      <td id=\"T_c42be_row20_col9\" class=\"data row20 col9\" >0.004399</td>\n",
              "      <td id=\"T_c42be_row20_col10\" class=\"data row20 col10\" >0.033599</td>\n",
              "      <td id=\"T_c42be_row20_col11\" class=\"data row20 col11\" >0.148858</td>\n",
              "      <td id=\"T_c42be_row20_col12\" class=\"data row20 col12\" >0.165818</td>\n",
              "      <td id=\"T_c42be_row20_col13\" class=\"data row20 col13\" >0.917046</td>\n",
              "      <td id=\"T_c42be_row20_col14\" class=\"data row20 col14\" >0.022986</td>\n",
              "      <td id=\"T_c42be_row20_col15\" class=\"data row20 col15\" >0.038711</td>\n",
              "      <td id=\"T_c42be_row20_col16\" class=\"data row20 col16\" >0.021859</td>\n",
              "      <td id=\"T_c42be_row20_col17\" class=\"data row20 col17\" >0.023611</td>\n",
              "      <td id=\"T_c42be_row20_col18\" class=\"data row20 col18\" >-0.030411</td>\n",
              "      <td id=\"T_c42be_row20_col19\" class=\"data row20 col19\" >0.018785</td>\n",
              "      <td id=\"T_c42be_row20_col20\" class=\"data row20 col20\" >1.000000</td>\n",
              "      <td id=\"T_c42be_row20_col21\" class=\"data row20 col21\" >0.176240</td>\n",
              "      <td id=\"T_c42be_row20_col22\" class=\"data row20 col22\" >-0.008290</td>\n",
              "      <td id=\"T_c42be_row20_col23\" class=\"data row20 col23\" >0.023516</td>\n",
              "      <td id=\"T_c42be_row20_col24\" class=\"data row20 col24\" >0.041248</td>\n",
              "    </tr>\n",
              "    <tr>\n",
              "      <th id=\"T_c42be_level0_row21\" class=\"row_heading level0 row21\" >screen_size</th>\n",
              "      <td id=\"T_c42be_row21_col0\" class=\"data row21 col0\" >0.018442</td>\n",
              "      <td id=\"T_c42be_row21_col1\" class=\"data row21 col1\" >-0.015513</td>\n",
              "      <td id=\"T_c42be_row21_col2\" class=\"data row21 col2\" >-0.009854</td>\n",
              "      <td id=\"T_c42be_row21_col3\" class=\"data row21 col3\" >-0.017730</td>\n",
              "      <td id=\"T_c42be_row21_col4\" class=\"data row21 col4\" >-0.012337</td>\n",
              "      <td id=\"T_c42be_row21_col5\" class=\"data row21 col5\" >-0.009064</td>\n",
              "      <td id=\"T_c42be_row21_col6\" class=\"data row21 col6\" >0.015263</td>\n",
              "      <td id=\"T_c42be_row21_col7\" class=\"data row21 col7\" >0.025138</td>\n",
              "      <td id=\"T_c42be_row21_col8\" class=\"data row21 col8\" >-0.006036</td>\n",
              "      <td id=\"T_c42be_row21_col9\" class=\"data row21 col9\" >0.001245</td>\n",
              "      <td id=\"T_c42be_row21_col10\" class=\"data row21 col10\" >-0.017451</td>\n",
              "      <td id=\"T_c42be_row21_col11\" class=\"data row21 col11\" >0.952730</td>\n",
              "      <td id=\"T_c42be_row21_col12\" class=\"data row21 col12\" >0.684062</td>\n",
              "      <td id=\"T_c42be_row21_col13\" class=\"data row21 col13\" >-0.006357</td>\n",
              "      <td id=\"T_c42be_row21_col14\" class=\"data row21 col14\" >0.058362</td>\n",
              "      <td id=\"T_c42be_row21_col15\" class=\"data row21 col15\" >0.046496</td>\n",
              "      <td id=\"T_c42be_row21_col16\" class=\"data row21 col16\" >-0.010729</td>\n",
              "      <td id=\"T_c42be_row21_col17\" class=\"data row21 col17\" >-0.028219</td>\n",
              "      <td id=\"T_c42be_row21_col18\" class=\"data row21 col18\" >0.017036</td>\n",
              "      <td id=\"T_c42be_row21_col19\" class=\"data row21 col19\" >0.044482</td>\n",
              "      <td id=\"T_c42be_row21_col20\" class=\"data row21 col20\" >0.176240</td>\n",
              "      <td id=\"T_c42be_row21_col21\" class=\"data row21 col21\" >1.000000</td>\n",
              "      <td id=\"T_c42be_row21_col22\" class=\"data row21 col22\" >0.005083</td>\n",
              "      <td id=\"T_c42be_row21_col23\" class=\"data row21 col23\" >-0.001855</td>\n",
              "      <td id=\"T_c42be_row21_col24\" class=\"data row21 col24\" >0.057003</td>\n",
              "    </tr>\n",
              "    <tr>\n",
              "      <th id=\"T_c42be_level0_row22\" class=\"row_heading level0 row22\" >processor_power</th>\n",
              "      <td id=\"T_c42be_row22_col0\" class=\"data row22 col0\" >-0.015839</td>\n",
              "      <td id=\"T_c42be_row22_col1\" class=\"data row22 col1\" >0.028519</td>\n",
              "      <td id=\"T_c42be_row22_col2\" class=\"data row22 col2\" >0.675996</td>\n",
              "      <td id=\"T_c42be_row22_col3\" class=\"data row22 col3\" >-0.020182</td>\n",
              "      <td id=\"T_c42be_row22_col4\" class=\"data row22 col4\" >-0.008472</td>\n",
              "      <td id=\"T_c42be_row22_col5\" class=\"data row22 col5\" >-0.041211</td>\n",
              "      <td id=\"T_c42be_row22_col6\" class=\"data row22 col6\" >-0.031757</td>\n",
              "      <td id=\"T_c42be_row22_col7\" class=\"data row22 col7\" >-0.019518</td>\n",
              "      <td id=\"T_c42be_row22_col8\" class=\"data row22 col8\" >-0.004082</td>\n",
              "      <td id=\"T_c42be_row22_col9\" class=\"data row22 col9\" >0.647639</td>\n",
              "      <td id=\"T_c42be_row22_col10\" class=\"data row22 col10\" >-0.006198</td>\n",
              "      <td id=\"T_c42be_row22_col11\" class=\"data row22 col11\" >-0.004829</td>\n",
              "      <td id=\"T_c42be_row22_col12\" class=\"data row22 col12\" >0.020171</td>\n",
              "      <td id=\"T_c42be_row22_col13\" class=\"data row22 col13\" >-0.001311</td>\n",
              "      <td id=\"T_c42be_row22_col14\" class=\"data row22 col14\" >-0.020114</td>\n",
              "      <td id=\"T_c42be_row22_col15\" class=\"data row22 col15\" >0.009152</td>\n",
              "      <td id=\"T_c42be_row22_col16\" class=\"data row22 col16\" >0.002250</td>\n",
              "      <td id=\"T_c42be_row22_col17\" class=\"data row22 col17\" >-0.031857</td>\n",
              "      <td id=\"T_c42be_row22_col18\" class=\"data row22 col18\" >0.032890</td>\n",
              "      <td id=\"T_c42be_row22_col19\" class=\"data row22 col19\" >-0.019947</td>\n",
              "      <td id=\"T_c42be_row22_col20\" class=\"data row22 col20\" >-0.008290</td>\n",
              "      <td id=\"T_c42be_row22_col21\" class=\"data row22 col21\" >0.005083</td>\n",
              "      <td id=\"T_c42be_row22_col22\" class=\"data row22 col22\" >1.000000</td>\n",
              "      <td id=\"T_c42be_row22_col23\" class=\"data row22 col23\" >-0.018056</td>\n",
              "      <td id=\"T_c42be_row22_col24\" class=\"data row22 col24\" >0.007052</td>\n",
              "    </tr>\n",
              "    <tr>\n",
              "      <th id=\"T_c42be_level0_row23\" class=\"row_heading level0 row23\" >mobile_features_score</th>\n",
              "      <td id=\"T_c42be_row23_col0\" class=\"data row23 col0\" >-0.009202</td>\n",
              "      <td id=\"T_c42be_row23_col1\" class=\"data row23 col1\" >0.388044</td>\n",
              "      <td id=\"T_c42be_row23_col2\" class=\"data row23 col2\" >-0.025801</td>\n",
              "      <td id=\"T_c42be_row23_col3\" class=\"data row23 col3\" >0.396059</td>\n",
              "      <td id=\"T_c42be_row23_col4\" class=\"data row23 col4\" >-0.013543</td>\n",
              "      <td id=\"T_c42be_row23_col5\" class=\"data row23 col5\" >0.580651</td>\n",
              "      <td id=\"T_c42be_row23_col6\" class=\"data row23 col6\" >0.002377</td>\n",
              "      <td id=\"T_c42be_row23_col7\" class=\"data row23 col7\" >-0.023483</td>\n",
              "      <td id=\"T_c42be_row23_col8\" class=\"data row23 col8\" >-0.018254</td>\n",
              "      <td id=\"T_c42be_row23_col9\" class=\"data row23 col9\" >-0.006494</td>\n",
              "      <td id=\"T_c42be_row23_col10\" class=\"data row23 col10\" >-0.014264</td>\n",
              "      <td id=\"T_c42be_row23_col11\" class=\"data row23 col11\" >0.000068</td>\n",
              "      <td id=\"T_c42be_row23_col12\" class=\"data row23 col12\" >0.003525</td>\n",
              "      <td id=\"T_c42be_row23_col13\" class=\"data row23 col13\" >0.030858</td>\n",
              "      <td id=\"T_c42be_row23_col14\" class=\"data row23 col14\" >0.010901</td>\n",
              "      <td id=\"T_c42be_row23_col15\" class=\"data row23 col15\" >0.036629</td>\n",
              "      <td id=\"T_c42be_row23_col16\" class=\"data row23 col16\" >-0.046342</td>\n",
              "      <td id=\"T_c42be_row23_col17\" class=\"data row23 col17\" >0.541201</td>\n",
              "      <td id=\"T_c42be_row23_col18\" class=\"data row23 col18\" >0.396660</td>\n",
              "      <td id=\"T_c42be_row23_col19\" class=\"data row23 col19\" >0.383349</td>\n",
              "      <td id=\"T_c42be_row23_col20\" class=\"data row23 col20\" >0.023516</td>\n",
              "      <td id=\"T_c42be_row23_col21\" class=\"data row23 col21\" >-0.001855</td>\n",
              "      <td id=\"T_c42be_row23_col22\" class=\"data row23 col22\" >-0.018056</td>\n",
              "      <td id=\"T_c42be_row23_col23\" class=\"data row23 col23\" >1.000000</td>\n",
              "      <td id=\"T_c42be_row23_col24\" class=\"data row23 col24\" >0.036931</td>\n",
              "    </tr>\n",
              "    <tr>\n",
              "      <th id=\"T_c42be_level0_row24\" class=\"row_heading level0 row24\" >sc_size_cm</th>\n",
              "      <td id=\"T_c42be_row24_col0\" class=\"data row24 col0\" >-0.024589</td>\n",
              "      <td id=\"T_c42be_row24_col1\" class=\"data row24 col1\" >-0.005565</td>\n",
              "      <td id=\"T_c42be_row24_col2\" class=\"data row24 col2\" >-0.006103</td>\n",
              "      <td id=\"T_c42be_row24_col3\" class=\"data row24 col3\" >-0.015703</td>\n",
              "      <td id=\"T_c42be_row24_col4\" class=\"data row24 col4\" >-0.011437</td>\n",
              "      <td id=\"T_c42be_row24_col5\" class=\"data row24 col5\" >0.037167</td>\n",
              "      <td id=\"T_c42be_row24_col6\" class=\"data row24 col6\" >0.022887</td>\n",
              "      <td id=\"T_c42be_row24_col7\" class=\"data row24 col7\" >-0.021453</td>\n",
              "      <td id=\"T_c42be_row24_col8\" class=\"data row24 col8\" >-0.026375</td>\n",
              "      <td id=\"T_c42be_row24_col9\" class=\"data row24 col9\" >0.021618</td>\n",
              "      <td id=\"T_c42be_row24_col10\" class=\"data row24 col10\" >-0.013611</td>\n",
              "      <td id=\"T_c42be_row24_col11\" class=\"data row24 col11\" >0.053894</td>\n",
              "      <td id=\"T_c42be_row24_col12\" class=\"data row24 col12\" >0.041354</td>\n",
              "      <td id=\"T_c42be_row24_col13\" class=\"data row24 col13\" >0.033335</td>\n",
              "      <td id=\"T_c42be_row24_col14\" class=\"data row24 col14\" >0.656031</td>\n",
              "      <td id=\"T_c42be_row24_col15\" class=\"data row24 col15\" >0.959617</td>\n",
              "      <td id=\"T_c42be_row24_col16\" class=\"data row24 col16\" >-0.026502</td>\n",
              "      <td id=\"T_c42be_row24_col17\" class=\"data row24 col17\" >0.033600</td>\n",
              "      <td id=\"T_c42be_row24_col18\" class=\"data row24 col18\" >0.008131</td>\n",
              "      <td id=\"T_c42be_row24_col19\" class=\"data row24 col19\" >0.043587</td>\n",
              "      <td id=\"T_c42be_row24_col20\" class=\"data row24 col20\" >0.041248</td>\n",
              "      <td id=\"T_c42be_row24_col21\" class=\"data row24 col21\" >0.057003</td>\n",
              "      <td id=\"T_c42be_row24_col22\" class=\"data row24 col22\" >0.007052</td>\n",
              "      <td id=\"T_c42be_row24_col23\" class=\"data row24 col23\" >0.036931</td>\n",
              "      <td id=\"T_c42be_row24_col24\" class=\"data row24 col24\" >1.000000</td>\n",
              "    </tr>\n",
              "  </tbody>\n",
              "</table>\n"
            ]
          },
          "metadata": {},
          "execution_count": 18
        }
      ]
    },
    {
      "cell_type": "code",
      "source": [
        "df_train.drop(['px_height', 'px_width'], axis=1, inplace=True)"
      ],
      "metadata": {
        "id": "1SRsqu2WbwK7"
      },
      "execution_count": 19,
      "outputs": []
    },
    {
      "cell_type": "code",
      "source": [
        "df_train.drop(['sc_h', 'sc_w'], axis=1, inplace=True)"
      ],
      "metadata": {
        "id": "PX2I_-JicGRa"
      },
      "execution_count": 20,
      "outputs": []
    },
    {
      "cell_type": "code",
      "source": [
        "target = df_train['price_range']\n",
        "X = df_train.drop(['price_range'], axis=1)"
      ],
      "metadata": {
        "id": "OkKd-lkrdsbq"
      },
      "execution_count": 21,
      "outputs": []
    },
    {
      "cell_type": "code",
      "source": [
        "scaler = StandardScaler()\n",
        "X_scaled = scaler.fit_transform(X)\n"
      ],
      "metadata": {
        "id": "twNNq5sBeDlZ"
      },
      "execution_count": 35,
      "outputs": []
    },
    {
      "cell_type": "code",
      "source": [
        "test_data = change_datasets(df_test)"
      ],
      "metadata": {
        "id": "EaYKUfd7eplv"
      },
      "execution_count": 27,
      "outputs": []
    },
    {
      "cell_type": "code",
      "source": [
        "test_data.head()"
      ],
      "metadata": {
        "colab": {
          "base_uri": "https://localhost:8080/",
          "height": 236
        },
        "id": "i92nb8L0e8P6",
        "outputId": "28621980-023f-45ff-e940-f568eff1c54b"
      },
      "execution_count": 28,
      "outputs": [
        {
          "output_type": "execute_result",
          "data": {
            "text/plain": [
              "   id  battery_power  blue  clock_speed  dual_sim  fc  four_g  int_memory  \\\n",
              "0   1           1043     1          1.8         1  14       0           5   \n",
              "1   2            841     1          0.5         1   4       1          61   \n",
              "2   3           1807     1          2.8         0   1       0          27   \n",
              "3   4           1546     0          0.5         1  18       1          25   \n",
              "4   5           1434     0          1.4         0  11       1          49   \n",
              "\n",
              "   m_dep  mobile_wt  ...  pc   ram  talk_time  three_g  touch_screen  wifi  \\\n",
              "0    0.1        193  ...  16  3476          2        0             1     0   \n",
              "1    0.8        191  ...  12  3895          7        1             0     0   \n",
              "2    0.9        186  ...   4  2396         10        0             1     1   \n",
              "3    0.5         96  ...  20  3893          7        1             1     0   \n",
              "4    0.5        108  ...  18  1773          7        1             0     1   \n",
              "\n",
              "   screen_size  processor_power  mobile_features_score  sc_size_cm  \n",
              "0       319112              5.4                      3          84  \n",
              "1       639322              2.5                      4           0  \n",
              "2      1734820              8.4                      3         170  \n",
              "3       516840              4.0                      4           0  \n",
              "4       606690              8.4                      3         120  \n",
              "\n",
              "[5 rows x 21 columns]"
            ],
            "text/html": [
              "\n",
              "  <div id=\"df-e0543ba4-4824-4f8f-b9b7-d12a4912e646\" class=\"colab-df-container\">\n",
              "    <div>\n",
              "<style scoped>\n",
              "    .dataframe tbody tr th:only-of-type {\n",
              "        vertical-align: middle;\n",
              "    }\n",
              "\n",
              "    .dataframe tbody tr th {\n",
              "        vertical-align: top;\n",
              "    }\n",
              "\n",
              "    .dataframe thead th {\n",
              "        text-align: right;\n",
              "    }\n",
              "</style>\n",
              "<table border=\"1\" class=\"dataframe\">\n",
              "  <thead>\n",
              "    <tr style=\"text-align: right;\">\n",
              "      <th></th>\n",
              "      <th>id</th>\n",
              "      <th>battery_power</th>\n",
              "      <th>blue</th>\n",
              "      <th>clock_speed</th>\n",
              "      <th>dual_sim</th>\n",
              "      <th>fc</th>\n",
              "      <th>four_g</th>\n",
              "      <th>int_memory</th>\n",
              "      <th>m_dep</th>\n",
              "      <th>mobile_wt</th>\n",
              "      <th>...</th>\n",
              "      <th>pc</th>\n",
              "      <th>ram</th>\n",
              "      <th>talk_time</th>\n",
              "      <th>three_g</th>\n",
              "      <th>touch_screen</th>\n",
              "      <th>wifi</th>\n",
              "      <th>screen_size</th>\n",
              "      <th>processor_power</th>\n",
              "      <th>mobile_features_score</th>\n",
              "      <th>sc_size_cm</th>\n",
              "    </tr>\n",
              "  </thead>\n",
              "  <tbody>\n",
              "    <tr>\n",
              "      <th>0</th>\n",
              "      <td>1</td>\n",
              "      <td>1043</td>\n",
              "      <td>1</td>\n",
              "      <td>1.8</td>\n",
              "      <td>1</td>\n",
              "      <td>14</td>\n",
              "      <td>0</td>\n",
              "      <td>5</td>\n",
              "      <td>0.1</td>\n",
              "      <td>193</td>\n",
              "      <td>...</td>\n",
              "      <td>16</td>\n",
              "      <td>3476</td>\n",
              "      <td>2</td>\n",
              "      <td>0</td>\n",
              "      <td>1</td>\n",
              "      <td>0</td>\n",
              "      <td>319112</td>\n",
              "      <td>5.4</td>\n",
              "      <td>3</td>\n",
              "      <td>84</td>\n",
              "    </tr>\n",
              "    <tr>\n",
              "      <th>1</th>\n",
              "      <td>2</td>\n",
              "      <td>841</td>\n",
              "      <td>1</td>\n",
              "      <td>0.5</td>\n",
              "      <td>1</td>\n",
              "      <td>4</td>\n",
              "      <td>1</td>\n",
              "      <td>61</td>\n",
              "      <td>0.8</td>\n",
              "      <td>191</td>\n",
              "      <td>...</td>\n",
              "      <td>12</td>\n",
              "      <td>3895</td>\n",
              "      <td>7</td>\n",
              "      <td>1</td>\n",
              "      <td>0</td>\n",
              "      <td>0</td>\n",
              "      <td>639322</td>\n",
              "      <td>2.5</td>\n",
              "      <td>4</td>\n",
              "      <td>0</td>\n",
              "    </tr>\n",
              "    <tr>\n",
              "      <th>2</th>\n",
              "      <td>3</td>\n",
              "      <td>1807</td>\n",
              "      <td>1</td>\n",
              "      <td>2.8</td>\n",
              "      <td>0</td>\n",
              "      <td>1</td>\n",
              "      <td>0</td>\n",
              "      <td>27</td>\n",
              "      <td>0.9</td>\n",
              "      <td>186</td>\n",
              "      <td>...</td>\n",
              "      <td>4</td>\n",
              "      <td>2396</td>\n",
              "      <td>10</td>\n",
              "      <td>0</td>\n",
              "      <td>1</td>\n",
              "      <td>1</td>\n",
              "      <td>1734820</td>\n",
              "      <td>8.4</td>\n",
              "      <td>3</td>\n",
              "      <td>170</td>\n",
              "    </tr>\n",
              "    <tr>\n",
              "      <th>3</th>\n",
              "      <td>4</td>\n",
              "      <td>1546</td>\n",
              "      <td>0</td>\n",
              "      <td>0.5</td>\n",
              "      <td>1</td>\n",
              "      <td>18</td>\n",
              "      <td>1</td>\n",
              "      <td>25</td>\n",
              "      <td>0.5</td>\n",
              "      <td>96</td>\n",
              "      <td>...</td>\n",
              "      <td>20</td>\n",
              "      <td>3893</td>\n",
              "      <td>7</td>\n",
              "      <td>1</td>\n",
              "      <td>1</td>\n",
              "      <td>0</td>\n",
              "      <td>516840</td>\n",
              "      <td>4.0</td>\n",
              "      <td>4</td>\n",
              "      <td>0</td>\n",
              "    </tr>\n",
              "    <tr>\n",
              "      <th>4</th>\n",
              "      <td>5</td>\n",
              "      <td>1434</td>\n",
              "      <td>0</td>\n",
              "      <td>1.4</td>\n",
              "      <td>0</td>\n",
              "      <td>11</td>\n",
              "      <td>1</td>\n",
              "      <td>49</td>\n",
              "      <td>0.5</td>\n",
              "      <td>108</td>\n",
              "      <td>...</td>\n",
              "      <td>18</td>\n",
              "      <td>1773</td>\n",
              "      <td>7</td>\n",
              "      <td>1</td>\n",
              "      <td>0</td>\n",
              "      <td>1</td>\n",
              "      <td>606690</td>\n",
              "      <td>8.4</td>\n",
              "      <td>3</td>\n",
              "      <td>120</td>\n",
              "    </tr>\n",
              "  </tbody>\n",
              "</table>\n",
              "<p>5 rows × 21 columns</p>\n",
              "</div>\n",
              "    <div class=\"colab-df-buttons\">\n",
              "\n",
              "  <div class=\"colab-df-container\">\n",
              "    <button class=\"colab-df-convert\" onclick=\"convertToInteractive('df-e0543ba4-4824-4f8f-b9b7-d12a4912e646')\"\n",
              "            title=\"Convert this dataframe to an interactive table.\"\n",
              "            style=\"display:none;\">\n",
              "\n",
              "  <svg xmlns=\"http://www.w3.org/2000/svg\" height=\"24px\" viewBox=\"0 -960 960 960\">\n",
              "    <path d=\"M120-120v-720h720v720H120Zm60-500h600v-160H180v160Zm220 220h160v-160H400v160Zm0 220h160v-160H400v160ZM180-400h160v-160H180v160Zm440 0h160v-160H620v160ZM180-180h160v-160H180v160Zm440 0h160v-160H620v160Z\"/>\n",
              "  </svg>\n",
              "    </button>\n",
              "\n",
              "  <style>\n",
              "    .colab-df-container {\n",
              "      display:flex;\n",
              "      gap: 12px;\n",
              "    }\n",
              "\n",
              "    .colab-df-convert {\n",
              "      background-color: #E8F0FE;\n",
              "      border: none;\n",
              "      border-radius: 50%;\n",
              "      cursor: pointer;\n",
              "      display: none;\n",
              "      fill: #1967D2;\n",
              "      height: 32px;\n",
              "      padding: 0 0 0 0;\n",
              "      width: 32px;\n",
              "    }\n",
              "\n",
              "    .colab-df-convert:hover {\n",
              "      background-color: #E2EBFA;\n",
              "      box-shadow: 0px 1px 2px rgba(60, 64, 67, 0.3), 0px 1px 3px 1px rgba(60, 64, 67, 0.15);\n",
              "      fill: #174EA6;\n",
              "    }\n",
              "\n",
              "    .colab-df-buttons div {\n",
              "      margin-bottom: 4px;\n",
              "    }\n",
              "\n",
              "    [theme=dark] .colab-df-convert {\n",
              "      background-color: #3B4455;\n",
              "      fill: #D2E3FC;\n",
              "    }\n",
              "\n",
              "    [theme=dark] .colab-df-convert:hover {\n",
              "      background-color: #434B5C;\n",
              "      box-shadow: 0px 1px 3px 1px rgba(0, 0, 0, 0.15);\n",
              "      filter: drop-shadow(0px 1px 2px rgba(0, 0, 0, 0.3));\n",
              "      fill: #FFFFFF;\n",
              "    }\n",
              "  </style>\n",
              "\n",
              "    <script>\n",
              "      const buttonEl =\n",
              "        document.querySelector('#df-e0543ba4-4824-4f8f-b9b7-d12a4912e646 button.colab-df-convert');\n",
              "      buttonEl.style.display =\n",
              "        google.colab.kernel.accessAllowed ? 'block' : 'none';\n",
              "\n",
              "      async function convertToInteractive(key) {\n",
              "        const element = document.querySelector('#df-e0543ba4-4824-4f8f-b9b7-d12a4912e646');\n",
              "        const dataTable =\n",
              "          await google.colab.kernel.invokeFunction('convertToInteractive',\n",
              "                                                    [key], {});\n",
              "        if (!dataTable) return;\n",
              "\n",
              "        const docLinkHtml = 'Like what you see? Visit the ' +\n",
              "          '<a target=\"_blank\" href=https://colab.research.google.com/notebooks/data_table.ipynb>data table notebook</a>'\n",
              "          + ' to learn more about interactive tables.';\n",
              "        element.innerHTML = '';\n",
              "        dataTable['output_type'] = 'display_data';\n",
              "        await google.colab.output.renderOutput(dataTable, element);\n",
              "        const docLink = document.createElement('div');\n",
              "        docLink.innerHTML = docLinkHtml;\n",
              "        element.appendChild(docLink);\n",
              "      }\n",
              "    </script>\n",
              "  </div>\n",
              "\n",
              "\n",
              "<div id=\"df-c3ba915a-5558-42ac-8cf6-eb8353da6097\">\n",
              "  <button class=\"colab-df-quickchart\" onclick=\"quickchart('df-c3ba915a-5558-42ac-8cf6-eb8353da6097')\"\n",
              "            title=\"Suggest charts\"\n",
              "            style=\"display:none;\">\n",
              "\n",
              "<svg xmlns=\"http://www.w3.org/2000/svg\" height=\"24px\"viewBox=\"0 0 24 24\"\n",
              "     width=\"24px\">\n",
              "    <g>\n",
              "        <path d=\"M19 3H5c-1.1 0-2 .9-2 2v14c0 1.1.9 2 2 2h14c1.1 0 2-.9 2-2V5c0-1.1-.9-2-2-2zM9 17H7v-7h2v7zm4 0h-2V7h2v10zm4 0h-2v-4h2v4z\"/>\n",
              "    </g>\n",
              "</svg>\n",
              "  </button>\n",
              "\n",
              "<style>\n",
              "  .colab-df-quickchart {\n",
              "      --bg-color: #E8F0FE;\n",
              "      --fill-color: #1967D2;\n",
              "      --hover-bg-color: #E2EBFA;\n",
              "      --hover-fill-color: #174EA6;\n",
              "      --disabled-fill-color: #AAA;\n",
              "      --disabled-bg-color: #DDD;\n",
              "  }\n",
              "\n",
              "  [theme=dark] .colab-df-quickchart {\n",
              "      --bg-color: #3B4455;\n",
              "      --fill-color: #D2E3FC;\n",
              "      --hover-bg-color: #434B5C;\n",
              "      --hover-fill-color: #FFFFFF;\n",
              "      --disabled-bg-color: #3B4455;\n",
              "      --disabled-fill-color: #666;\n",
              "  }\n",
              "\n",
              "  .colab-df-quickchart {\n",
              "    background-color: var(--bg-color);\n",
              "    border: none;\n",
              "    border-radius: 50%;\n",
              "    cursor: pointer;\n",
              "    display: none;\n",
              "    fill: var(--fill-color);\n",
              "    height: 32px;\n",
              "    padding: 0;\n",
              "    width: 32px;\n",
              "  }\n",
              "\n",
              "  .colab-df-quickchart:hover {\n",
              "    background-color: var(--hover-bg-color);\n",
              "    box-shadow: 0 1px 2px rgba(60, 64, 67, 0.3), 0 1px 3px 1px rgba(60, 64, 67, 0.15);\n",
              "    fill: var(--button-hover-fill-color);\n",
              "  }\n",
              "\n",
              "  .colab-df-quickchart-complete:disabled,\n",
              "  .colab-df-quickchart-complete:disabled:hover {\n",
              "    background-color: var(--disabled-bg-color);\n",
              "    fill: var(--disabled-fill-color);\n",
              "    box-shadow: none;\n",
              "  }\n",
              "\n",
              "  .colab-df-spinner {\n",
              "    border: 2px solid var(--fill-color);\n",
              "    border-color: transparent;\n",
              "    border-bottom-color: var(--fill-color);\n",
              "    animation:\n",
              "      spin 1s steps(1) infinite;\n",
              "  }\n",
              "\n",
              "  @keyframes spin {\n",
              "    0% {\n",
              "      border-color: transparent;\n",
              "      border-bottom-color: var(--fill-color);\n",
              "      border-left-color: var(--fill-color);\n",
              "    }\n",
              "    20% {\n",
              "      border-color: transparent;\n",
              "      border-left-color: var(--fill-color);\n",
              "      border-top-color: var(--fill-color);\n",
              "    }\n",
              "    30% {\n",
              "      border-color: transparent;\n",
              "      border-left-color: var(--fill-color);\n",
              "      border-top-color: var(--fill-color);\n",
              "      border-right-color: var(--fill-color);\n",
              "    }\n",
              "    40% {\n",
              "      border-color: transparent;\n",
              "      border-right-color: var(--fill-color);\n",
              "      border-top-color: var(--fill-color);\n",
              "    }\n",
              "    60% {\n",
              "      border-color: transparent;\n",
              "      border-right-color: var(--fill-color);\n",
              "    }\n",
              "    80% {\n",
              "      border-color: transparent;\n",
              "      border-right-color: var(--fill-color);\n",
              "      border-bottom-color: var(--fill-color);\n",
              "    }\n",
              "    90% {\n",
              "      border-color: transparent;\n",
              "      border-bottom-color: var(--fill-color);\n",
              "    }\n",
              "  }\n",
              "</style>\n",
              "\n",
              "  <script>\n",
              "    async function quickchart(key) {\n",
              "      const quickchartButtonEl =\n",
              "        document.querySelector('#' + key + ' button');\n",
              "      quickchartButtonEl.disabled = true;  // To prevent multiple clicks.\n",
              "      quickchartButtonEl.classList.add('colab-df-spinner');\n",
              "      try {\n",
              "        const charts = await google.colab.kernel.invokeFunction(\n",
              "            'suggestCharts', [key], {});\n",
              "      } catch (error) {\n",
              "        console.error('Error during call to suggestCharts:', error);\n",
              "      }\n",
              "      quickchartButtonEl.classList.remove('colab-df-spinner');\n",
              "      quickchartButtonEl.classList.add('colab-df-quickchart-complete');\n",
              "    }\n",
              "    (() => {\n",
              "      let quickchartButtonEl =\n",
              "        document.querySelector('#df-c3ba915a-5558-42ac-8cf6-eb8353da6097 button');\n",
              "      quickchartButtonEl.style.display =\n",
              "        google.colab.kernel.accessAllowed ? 'block' : 'none';\n",
              "    })();\n",
              "  </script>\n",
              "</div>\n",
              "    </div>\n",
              "  </div>\n"
            ],
            "application/vnd.google.colaboratory.intrinsic+json": {
              "type": "dataframe",
              "variable_name": "test_data"
            }
          },
          "metadata": {},
          "execution_count": 28
        }
      ]
    },
    {
      "cell_type": "code",
      "source": [
        "X_scaled.shape, test_data.shape"
      ],
      "metadata": {
        "colab": {
          "base_uri": "https://localhost:8080/"
        },
        "id": "WgGmMqD0fGK9",
        "outputId": "b5d1802b-f140-4f08-9672-5fba07072d00"
      },
      "execution_count": 29,
      "outputs": [
        {
          "output_type": "execute_result",
          "data": {
            "text/plain": [
              "((2000, 20), (1000, 21))"
            ]
          },
          "metadata": {},
          "execution_count": 29
        }
      ]
    },
    {
      "cell_type": "code",
      "source": [
        "X.columns==test_data.columns"
      ],
      "metadata": {
        "colab": {
          "base_uri": "https://localhost:8080/"
        },
        "id": "70uCwsdpfPkk",
        "outputId": "30aaa272-2d5c-43e0-b54e-6456dc20865c"
      },
      "execution_count": 31,
      "outputs": [
        {
          "output_type": "execute_result",
          "data": {
            "text/plain": [
              "array([ True,  True,  True,  True,  True,  True,  True,  True,  True,\n",
              "        True,  True,  True,  True,  True,  True,  True,  True,  True,\n",
              "        True,  True])"
            ]
          },
          "metadata": {},
          "execution_count": 31
        }
      ]
    },
    {
      "cell_type": "code",
      "source": [
        "test_data.drop(['id'], inplace=True, axis=1)"
      ],
      "metadata": {
        "id": "_rVlwU54fhGU"
      },
      "execution_count": 30,
      "outputs": []
    },
    {
      "cell_type": "code",
      "source": [
        "X_scaled.shape, test_data.shape"
      ],
      "metadata": {
        "colab": {
          "base_uri": "https://localhost:8080/"
        },
        "id": "8rRXTI-7foUE",
        "outputId": "e4cd39fe-7390-4b92-adab-fe22f4add007"
      },
      "execution_count": null,
      "outputs": [
        {
          "output_type": "execute_result",
          "data": {
            "text/plain": [
              "((2000, 19), (1000, 20))"
            ]
          },
          "metadata": {},
          "execution_count": 35
        }
      ]
    },
    {
      "cell_type": "code",
      "source": [
        "X.columns"
      ],
      "metadata": {
        "colab": {
          "base_uri": "https://localhost:8080/"
        },
        "id": "eb27LzEkfsf1",
        "outputId": "6ecdd06a-84e2-4074-db0a-50045bb343d1"
      },
      "execution_count": 32,
      "outputs": [
        {
          "output_type": "execute_result",
          "data": {
            "text/plain": [
              "Index(['battery_power', 'blue', 'clock_speed', 'dual_sim', 'fc', 'four_g',\n",
              "       'int_memory', 'm_dep', 'mobile_wt', 'n_cores', 'pc', 'ram', 'talk_time',\n",
              "       'three_g', 'touch_screen', 'wifi', 'screen_size', 'processor_power',\n",
              "       'mobile_features_score', 'sc_size_cm'],\n",
              "      dtype='object')"
            ]
          },
          "metadata": {},
          "execution_count": 32
        }
      ]
    },
    {
      "cell_type": "code",
      "source": [
        "test_data.columns"
      ],
      "metadata": {
        "colab": {
          "base_uri": "https://localhost:8080/"
        },
        "id": "wJSpkRmRvzwq",
        "outputId": "8371f690-8618-43a0-940d-12cdd3f85a5c"
      },
      "execution_count": 33,
      "outputs": [
        {
          "output_type": "execute_result",
          "data": {
            "text/plain": [
              "Index(['battery_power', 'blue', 'clock_speed', 'dual_sim', 'fc', 'four_g',\n",
              "       'int_memory', 'm_dep', 'mobile_wt', 'n_cores', 'pc', 'ram', 'talk_time',\n",
              "       'three_g', 'touch_screen', 'wifi', 'screen_size', 'processor_power',\n",
              "       'mobile_features_score', 'sc_size_cm'],\n",
              "      dtype='object')"
            ]
          },
          "metadata": {},
          "execution_count": 33
        }
      ]
    },
    {
      "cell_type": "code",
      "source": [
        "test_data.info()"
      ],
      "metadata": {
        "colab": {
          "base_uri": "https://localhost:8080/"
        },
        "id": "Lgahuz_xfyUu",
        "outputId": "24e5d267-0e82-45f7-807e-01bae63628b2"
      },
      "execution_count": 34,
      "outputs": [
        {
          "output_type": "stream",
          "name": "stdout",
          "text": [
            "<class 'pandas.core.frame.DataFrame'>\n",
            "RangeIndex: 1000 entries, 0 to 999\n",
            "Data columns (total 20 columns):\n",
            " #   Column                 Non-Null Count  Dtype  \n",
            "---  ------                 --------------  -----  \n",
            " 0   battery_power          1000 non-null   int64  \n",
            " 1   blue                   1000 non-null   int64  \n",
            " 2   clock_speed            1000 non-null   float64\n",
            " 3   dual_sim               1000 non-null   int64  \n",
            " 4   fc                     1000 non-null   int64  \n",
            " 5   four_g                 1000 non-null   int64  \n",
            " 6   int_memory             1000 non-null   int64  \n",
            " 7   m_dep                  1000 non-null   float64\n",
            " 8   mobile_wt              1000 non-null   int64  \n",
            " 9   n_cores                1000 non-null   int64  \n",
            " 10  pc                     1000 non-null   int64  \n",
            " 11  ram                    1000 non-null   int64  \n",
            " 12  talk_time              1000 non-null   int64  \n",
            " 13  three_g                1000 non-null   int64  \n",
            " 14  touch_screen           1000 non-null   int64  \n",
            " 15  wifi                   1000 non-null   int64  \n",
            " 16  screen_size            1000 non-null   int64  \n",
            " 17  processor_power        1000 non-null   float64\n",
            " 18  mobile_features_score  1000 non-null   int64  \n",
            " 19  sc_size_cm             1000 non-null   int64  \n",
            "dtypes: float64(3), int64(17)\n",
            "memory usage: 156.4 KB\n"
          ]
        }
      ]
    },
    {
      "cell_type": "code",
      "source": [
        "X_scaled"
      ],
      "metadata": {
        "colab": {
          "base_uri": "https://localhost:8080/"
        },
        "id": "8X8IdwV6f-x_",
        "outputId": "4899aee6-a2ed-44bc-edf0-b9d17d806562"
      },
      "execution_count": 36,
      "outputs": [
        {
          "output_type": "execute_result",
          "data": {
            "text/plain": [
              "array([[-0.90259726, -0.9900495 ,  0.83077942, ..., -0.45823592,\n",
              "        -1.76366217, -0.22468605],\n",
              "       [-0.49513857,  1.0100505 , -1.2530642 , ..., -0.99610417,\n",
              "         1.30691397, -0.38092598],\n",
              "       [-1.5376865 ,  1.0100505 , -1.2530642 , ..., -0.81063236,\n",
              "         1.30691397, -0.75850582],\n",
              "       ...,\n",
              "       [ 1.53077336, -0.9900495 , -0.76274805, ...,  0.06108514,\n",
              "         0.53926993, -0.92776575],\n",
              "       [ 0.62252745, -0.9900495 , -0.76274805, ..., -0.43968874,\n",
              "         0.53926993,  1.29865332],\n",
              "       [-1.65833069,  1.0100505 ,  0.58562134, ...,  0.95134982,\n",
              "         2.074558  , -0.05542612]])"
            ]
          },
          "metadata": {},
          "execution_count": 36
        }
      ]
    },
    {
      "cell_type": "code",
      "source": [
        "test_data_scaled = scaler.transform(test_data)"
      ],
      "metadata": {
        "id": "OPdgNTtugNen"
      },
      "execution_count": 37,
      "outputs": []
    },
    {
      "cell_type": "code",
      "source": [
        "test_data_scaled"
      ],
      "metadata": {
        "colab": {
          "base_uri": "https://localhost:8080/"
        },
        "id": "sAIIjWB-gWNz",
        "outputId": "a069c0c7-d532-4c33-db3c-6b9d9d5d51d7"
      },
      "execution_count": 38,
      "outputs": [
        {
          "output_type": "execute_result",
          "data": {
            "text/plain": [
              "array([[-0.44505984,  1.0100505 ,  0.34046327, ..., -0.27276411,\n",
              "        -0.2283741 ,  0.04873384],\n",
              "       [-0.90487356,  1.0100505 , -1.2530642 , ..., -0.81063236,\n",
              "         0.53926993, -1.04494571],\n",
              "       [ 1.29403758,  1.0100505 ,  1.56625363, ...,  0.28365131,\n",
              "        -0.2283741 ,  1.16845337],\n",
              "       ...,\n",
              "       [-0.12182446, -0.9900495 , -0.14985287, ..., -1.01465135,\n",
              "        -0.99601813, -1.04494571],\n",
              "       [ 0.67032987,  1.0100505 , -1.2530642 , ..., -1.08884007,\n",
              "        -0.2283741 ,  1.1033534 ],\n",
              "       [ 0.07166151,  1.0100505 , -1.2530642 , ..., -0.71789645,\n",
              "         0.53926993, -0.8105858 ]])"
            ]
          },
          "metadata": {},
          "execution_count": 38
        }
      ]
    },
    {
      "cell_type": "code",
      "source": [
        "X_train, X_test1, y_train, y_test1 = train_test_split(X_scaled, target, test_size=0.3, random_state=42)\n",
        "\n"
      ],
      "metadata": {
        "id": "lfYlr8cIgYms"
      },
      "execution_count": 77,
      "outputs": []
    },
    {
      "cell_type": "code",
      "source": [
        "clf = RandomForestClassifier()\n",
        "params = {'n_estimators' : range(50,300), 'criterion' : ['gini', 'entropy'], 'max_depth' : range(2,50), 'min_samples_leaf' : range(10, 50)}"
      ],
      "metadata": {
        "id": "VVdmGWT8hVOE"
      },
      "execution_count": 40,
      "outputs": []
    },
    {
      "cell_type": "code",
      "source": [
        " random_search = RandomizedSearchCV(clf, params, cv=5)\n"
      ],
      "metadata": {
        "id": "DbZcNwR6hOdF"
      },
      "execution_count": 41,
      "outputs": []
    },
    {
      "cell_type": "code",
      "source": [
        "random_search.fit(X_train, y_train)\n",
        "\n",
        "print(f'best params of model: {random_search.best_params_}')"
      ],
      "metadata": {
        "colab": {
          "base_uri": "https://localhost:8080/"
        },
        "id": "nCO4E-4XiWG7",
        "outputId": "a9002c85-7547-4404-b05f-be9d8896372c"
      },
      "execution_count": 42,
      "outputs": [
        {
          "output_type": "stream",
          "name": "stdout",
          "text": [
            "best params of model: {'n_estimators': 89, 'min_samples_leaf': 13, 'max_depth': 31, 'criterion': 'entropy'}\n"
          ]
        }
      ]
    },
    {
      "cell_type": "code",
      "source": [
        "best_clf = random_search.best_estimator_\n",
        "y_pred = best_clf.predict(X_test1)\n",
        "\n",
        "print(f'validation dataset  acc : {accuracy_score(y_pred, y_test1)}')"
      ],
      "metadata": {
        "colab": {
          "base_uri": "https://localhost:8080/"
        },
        "id": "5lmVqL-QjSmY",
        "outputId": "1f1976ce-47ae-45e3-df05-1df15289a644"
      },
      "execution_count": 43,
      "outputs": [
        {
          "output_type": "stream",
          "name": "stdout",
          "text": [
            "validation dataset  acc : 0.85\n"
          ]
        }
      ]
    },
    {
      "cell_type": "code",
      "source": [
        "X_valid, X_test, y_valid, y_test = train_test_split(X_test1, y_test1, test_size=0.5, random_state=42)"
      ],
      "metadata": {
        "id": "M31dNveSkHTQ"
      },
      "execution_count": 44,
      "outputs": []
    },
    {
      "cell_type": "code",
      "source": [
        "y_pred_val = best_clf.predict(X_valid)\n",
        "print(f'validation dataset  acc : {accuracy_score(y_pred_val, y_valid)}')"
      ],
      "metadata": {
        "colab": {
          "base_uri": "https://localhost:8080/"
        },
        "id": "VwkXjcikkhdL",
        "outputId": "fbf4d7a1-155f-4580-b90b-2e4515c4a604"
      },
      "execution_count": 45,
      "outputs": [
        {
          "output_type": "stream",
          "name": "stdout",
          "text": [
            "validation dataset  acc : 0.8333333333333334\n"
          ]
        }
      ]
    },
    {
      "cell_type": "code",
      "source": [
        "print(classification_report(y_pred, y_test1))"
      ],
      "metadata": {
        "colab": {
          "base_uri": "https://localhost:8080/"
        },
        "id": "zcd2W8W0lIdn",
        "outputId": "1673fb8c-5062-461c-f884-e35f6f15f034"
      },
      "execution_count": 46,
      "outputs": [
        {
          "output_type": "stream",
          "name": "stdout",
          "text": [
            "              precision    recall  f1-score   support\n",
            "\n",
            "           0       0.95      0.92      0.93       156\n",
            "           1       0.79      0.79      0.79       146\n",
            "           2       0.74      0.78      0.76       139\n",
            "           3       0.92      0.89      0.90       159\n",
            "\n",
            "    accuracy                           0.85       600\n",
            "   macro avg       0.85      0.85      0.85       600\n",
            "weighted avg       0.85      0.85      0.85       600\n",
            "\n"
          ]
        }
      ]
    },
    {
      "cell_type": "code",
      "source": [
        "def plot_roc_curve(ax, y_true, y_pred_proba, model_name):\n",
        "    fpr, tpr, _ = roc_curve(y_true, y_pred_proba, pos_label=1)  # Ensure pos_label is correctly set\n",
        "    roc_auc = auc(fpr, tpr)\n",
        "\n",
        "    ax.plot(fpr, tpr, color='darkorange', lw=2, label=f'{model_name} (AUC = {roc_auc:.2f})')\n",
        "    ax.plot([0, 1], [0, 1], color='navy', lw=2, linestyle='--')\n",
        "    ax.set_xlim([0.0, 1.0])\n",
        "    ax.set_ylim([0.0, 1.05])\n",
        "    ax.set_xlabel('False Positive Rate')\n",
        "    ax.set_ylabel('True Positive Rate')\n",
        "    ax.set_title(f'Receiver Operating Characteristic (ROC) Curve - {model_name}')\n",
        "    ax.legend(loc=\"lower right\")\n",
        "\n",
        "# Create subplots\n",
        "fig, axes = plt.subplots(1, 2, figsize=(16, 6))\n",
        "\n",
        "# Plot ROC curves on subplots\n",
        "plot_roc_curve(axes[0], y_test1, best_clf.predict_proba(X_test1)[:, 1], 'random forest')\n",
        "\n",
        "\n",
        "plt.tight_layout()\n",
        "plt.show()"
      ],
      "metadata": {
        "colab": {
          "base_uri": "https://localhost:8080/",
          "height": 607
        },
        "id": "etXTnWddmBFq",
        "outputId": "394edac5-4dfe-411c-ddba-d8e2ffd147e2"
      },
      "execution_count": 47,
      "outputs": [
        {
          "output_type": "display_data",
          "data": {
            "text/plain": [
              "<Figure size 1600x600 with 2 Axes>"
            ],
            "image/png": "[encoded data removed]"
          },
          "metadata": {}
        }
      ]
    },
    {
      "cell_type": "code",
      "source": [
        "X_train.shape[1]"
      ],
      "metadata": {
        "colab": {
          "base_uri": "https://localhost:8080/"
        },
        "id": "PwnRTzhDqIDL",
        "outputId": "ed5dd505-6894-4d52-d11d-f220cf68c711"
      },
      "execution_count": null,
      "outputs": [
        {
          "output_type": "execute_result",
          "data": {
            "text/plain": [
              "20"
            ]
          },
          "metadata": {},
          "execution_count": 120
        }
      ]
    },
    {
      "cell_type": "markdown",
      "source": [
        "**Try nn for classification**"
      ],
      "metadata": {
        "id": "KHB4dS5JoVhJ"
      }
    },
    {
      "cell_type": "code",
      "source": [
        "import torch\n"
      ],
      "metadata": {
        "id": "MF-PwDRumlig"
      },
      "execution_count": 48,
      "outputs": []
    },
    {
      "cell_type": "code",
      "source": [
        "def device_option():\n",
        "  device = torch.device('cuda:0' if torch.cuda.is_available() else 'cpu')\n",
        "  return device"
      ],
      "metadata": {
        "id": "dRmPNAXeyWJh"
      },
      "execution_count": 49,
      "outputs": []
    },
    {
      "cell_type": "code",
      "source": [
        "device = device_option()\n",
        "device"
      ],
      "metadata": {
        "colab": {
          "base_uri": "https://localhost:8080/"
        },
        "id": "cOEGbc9byVlV",
        "outputId": "deae4770-2fc2-41a9-91a4-1abf792cc525"
      },
      "execution_count": 78,
      "outputs": [
        {
          "output_type": "execute_result",
          "data": {
            "text/plain": [
              "device(type='cuda', index=0)"
            ]
          },
          "metadata": {},
          "execution_count": 78
        }
      ]
    },
    {
      "cell_type": "code",
      "source": [
        "class PhoneNet(torch.nn.Module):\n",
        "  def __init__(self, n_fc1, n_fc2, n_features) -> None:\n",
        "    super().__init__()\n",
        "    self.fc1 = torch.nn.Linear(n_features, n_fc1)\n",
        "    self.act1 = torch.nn.Sigmoid()\n",
        "    self.fc2 = torch.nn.Linear(n_fc1, n_fc2)\n",
        "\n",
        "  def forward(self, x):\n",
        "    x = self.fc1(x)\n",
        "    #x = self.act1(x)\n",
        "    #x = self.fc2(x)\n",
        "    return x\n",
        "\n",
        "\n",
        "\n"
      ],
      "metadata": {
        "id": "3azo1WDyobiz"
      },
      "execution_count": 145,
      "outputs": []
    },
    {
      "cell_type": "code",
      "source": [
        "net = PhoneNet(80,16,X_train.shape[1]).to(device)"
      ],
      "metadata": {
        "id": "hd9SEUtfp9HN"
      },
      "execution_count": 146,
      "outputs": []
    },
    {
      "cell_type": "code",
      "source": [
        "optimizer = torch.optim.Adam(net.parameters(), lr=1.0e-3)\n",
        "loss = torch.nn.CrossEntropyLoss()"
      ],
      "metadata": {
        "id": "3R4ZFojbqXHa"
      },
      "execution_count": 147,
      "outputs": []
    },
    {
      "cell_type": "code",
      "source": [
        "tensor_X = torch.from_numpy(X_train).float()\n",
        "tensor_X"
      ],
      "metadata": {
        "colab": {
          "base_uri": "https://localhost:8080/"
        },
        "id": "6e1eyN_tqqGM",
        "outputId": "d8b4cb23-1038-46bf-9d03-4c0b58bc4d00"
      },
      "execution_count": 129,
      "outputs": [
        {
          "output_type": "execute_result",
          "data": {
            "text/plain": [
              "tensor([[-0.7660,  1.0101, -1.1305,  ..., -0.7179,  0.5393,  0.8299],\n",
              "        [-0.0945,  1.0101, -1.2531,  ..., -0.8106,  1.3069,  0.6867],\n",
              "        [ 0.6385, -0.9900,  0.7082,  ..., -0.8848, -0.9960,  0.3873],\n",
              "        ...,\n",
              "        [ 1.3441,  1.0101, -1.2531,  ..., -0.8106,  0.5393,  1.2466],\n",
              "        [ 1.5672, -0.9900, -0.7627,  ...,  0.0611, -0.2284,  1.2466],\n",
              "        [-1.3738,  1.0101, -1.1305,  ..., -0.7179,  0.5393,  0.9862]])"
            ]
          },
          "metadata": {},
          "execution_count": 129
        }
      ]
    },
    {
      "cell_type": "code",
      "source": [
        "tensor_X.shape"
      ],
      "metadata": {
        "colab": {
          "base_uri": "https://localhost:8080/"
        },
        "id": "ikPPwNv3q4Mn",
        "outputId": "3a683d5e-95db-4b2d-c341-5836aebe5378"
      },
      "execution_count": 130,
      "outputs": [
        {
          "output_type": "execute_result",
          "data": {
            "text/plain": [
              "torch.Size([1400, 20])"
            ]
          },
          "metadata": {},
          "execution_count": 130
        }
      ]
    },
    {
      "cell_type": "code",
      "source": [
        "y_train"
      ],
      "metadata": {
        "colab": {
          "base_uri": "https://localhost:8080/",
          "height": 459
        },
        "id": "5gO5cSVoriWM",
        "outputId": "6ff2b4fe-6d97-4dbc-f5fb-06152e4a1214"
      },
      "execution_count": 131,
      "outputs": [
        {
          "output_type": "execute_result",
          "data": {
            "text/plain": [
              "836     3\n",
              "575     2\n",
              "557     2\n",
              "1235    0\n",
              "1360    0\n",
              "       ..\n",
              "1130    3\n",
              "1294    0\n",
              "860     2\n",
              "1459    3\n",
              "1126    1\n",
              "Name: price_range, Length: 1400, dtype: int64"
            ],
            "text/html": [
              "<div>\n",
              "<style scoped>\n",
              "    .dataframe tbody tr th:only-of-type {\n",
              "        vertical-align: middle;\n",
              "    }\n",
              "\n",
              "    .dataframe tbody tr th {\n",
              "        vertical-align: top;\n",
              "    }\n",
              "\n",
              "    .dataframe thead th {\n",
              "        text-align: right;\n",
              "    }\n",
              "</style>\n",
              "<table border=\"1\" class=\"dataframe\">\n",
              "  <thead>\n",
              "    <tr style=\"text-align: right;\">\n",
              "      <th></th>\n",
              "      <th>price_range</th>\n",
              "    </tr>\n",
              "  </thead>\n",
              "  <tbody>\n",
              "    <tr>\n",
              "      <th>836</th>\n",
              "      <td>3</td>\n",
              "    </tr>\n",
              "    <tr>\n",
              "      <th>575</th>\n",
              "      <td>2</td>\n",
              "    </tr>\n",
              "    <tr>\n",
              "      <th>557</th>\n",
              "      <td>2</td>\n",
              "    </tr>\n",
              "    <tr>\n",
              "      <th>1235</th>\n",
              "      <td>0</td>\n",
              "    </tr>\n",
              "    <tr>\n",
              "      <th>1360</th>\n",
              "      <td>0</td>\n",
              "    </tr>\n",
              "    <tr>\n",
              "      <th>...</th>\n",
              "      <td>...</td>\n",
              "    </tr>\n",
              "    <tr>\n",
              "      <th>1130</th>\n",
              "      <td>3</td>\n",
              "    </tr>\n",
              "    <tr>\n",
              "      <th>1294</th>\n",
              "      <td>0</td>\n",
              "    </tr>\n",
              "    <tr>\n",
              "      <th>860</th>\n",
              "      <td>2</td>\n",
              "    </tr>\n",
              "    <tr>\n",
              "      <th>1459</th>\n",
              "      <td>3</td>\n",
              "    </tr>\n",
              "    <tr>\n",
              "      <th>1126</th>\n",
              "      <td>1</td>\n",
              "    </tr>\n",
              "  </tbody>\n",
              "</table>\n",
              "<p>1400 rows × 1 columns</p>\n",
              "</div><br><label><b>dtype:</b> int64</label>"
            ]
          },
          "metadata": {},
          "execution_count": 131
        }
      ]
    },
    {
      "cell_type": "code",
      "source": [
        "tensor_y =  torch.from_numpy(y_train.to_numpy()).float()\n",
        "tensor_y"
      ],
      "metadata": {
        "colab": {
          "base_uri": "https://localhost:8080/"
        },
        "id": "B_aWqMKRrYQr",
        "outputId": "18588640-35fc-438e-f49d-ae655adfce24"
      },
      "execution_count": 132,
      "outputs": [
        {
          "output_type": "execute_result",
          "data": {
            "text/plain": [
              "tensor([3., 2., 2.,  ..., 2., 3., 1.])"
            ]
          },
          "metadata": {},
          "execution_count": 132
        }
      ]
    },
    {
      "cell_type": "code",
      "source": [
        "tensor_y.shape"
      ],
      "metadata": {
        "colab": {
          "base_uri": "https://localhost:8080/"
        },
        "id": "TGARqQp6r1XK",
        "outputId": "1bafc293-5e2a-40c0-a2f4-f4bd7f652e0b"
      },
      "execution_count": 133,
      "outputs": [
        {
          "output_type": "execute_result",
          "data": {
            "text/plain": [
              "torch.Size([1400])"
            ]
          },
          "metadata": {},
          "execution_count": 133
        }
      ]
    },
    {
      "cell_type": "code",
      "source": [
        " torch.cuda.is_available()"
      ],
      "metadata": {
        "colab": {
          "base_uri": "https://localhost:8080/"
        },
        "id": "FS9PeuKRvBGq",
        "outputId": "81188188-73f6-4612-9d34-53208fbd72d0"
      },
      "execution_count": 134,
      "outputs": [
        {
          "output_type": "execute_result",
          "data": {
            "text/plain": [
              "True"
            ]
          },
          "metadata": {},
          "execution_count": 134
        }
      ]
    },
    {
      "cell_type": "code",
      "source": [
        "tensor_y = tensor_y.type(torch.LongTensor)"
      ],
      "metadata": {
        "id": "JeJF7gBNyhzi"
      },
      "execution_count": 135,
      "outputs": []
    },
    {
      "cell_type": "code",
      "source": [
        "tensor_y = tensor_y.to(device)\n",
        "tensor_X = tensor_X.to(device)"
      ],
      "metadata": {
        "id": "0aX8jTGIu0N-"
      },
      "execution_count": 136,
      "outputs": []
    },
    {
      "cell_type": "code",
      "source": [
        "tensor_X"
      ],
      "metadata": {
        "colab": {
          "base_uri": "https://localhost:8080/"
        },
        "id": "e--fIsEmxa_T",
        "outputId": "9f12662b-4971-4aa4-be8b-7c2276a3822e"
      },
      "execution_count": 137,
      "outputs": [
        {
          "output_type": "execute_result",
          "data": {
            "text/plain": [
              "tensor([[-0.7660,  1.0101, -1.1305,  ..., -0.7179,  0.5393,  0.8299],\n",
              "        [-0.0945,  1.0101, -1.2531,  ..., -0.8106,  1.3069,  0.6867],\n",
              "        [ 0.6385, -0.9900,  0.7082,  ..., -0.8848, -0.9960,  0.3873],\n",
              "        ...,\n",
              "        [ 1.3441,  1.0101, -1.2531,  ..., -0.8106,  0.5393,  1.2466],\n",
              "        [ 1.5672, -0.9900, -0.7627,  ...,  0.0611, -0.2284,  1.2466],\n",
              "        [-1.3738,  1.0101, -1.1305,  ..., -0.7179,  0.5393,  0.9862]],\n",
              "       device='cuda:0')"
            ]
          },
          "metadata": {},
          "execution_count": 137
        }
      ]
    },
    {
      "cell_type": "code",
      "source": [
        "tensor_y"
      ],
      "metadata": {
        "colab": {
          "base_uri": "https://localhost:8080/"
        },
        "id": "fbIA4JLryeUZ",
        "outputId": "dd1e5052-6602-4432-ba55-fbfa7948dce4"
      },
      "execution_count": 138,
      "outputs": [
        {
          "output_type": "execute_result",
          "data": {
            "text/plain": [
              "tensor([3, 2, 2,  ..., 2, 3, 1], device='cuda:0')"
            ]
          },
          "metadata": {},
          "execution_count": 138
        }
      ]
    },
    {
      "cell_type": "code",
      "source": [
        "tensor_y.shape"
      ],
      "metadata": {
        "colab": {
          "base_uri": "https://localhost:8080/"
        },
        "id": "xxniZi11ytGJ",
        "outputId": "1e99bd7a-b84e-4941-d1fc-53ed6c052225"
      },
      "execution_count": 139,
      "outputs": [
        {
          "output_type": "execute_result",
          "data": {
            "text/plain": [
              "torch.Size([1400])"
            ]
          },
          "metadata": {},
          "execution_count": 139
        }
      ]
    },
    {
      "cell_type": "code",
      "source": [
        "X_test1 = torch.from_numpy(X_test1).float().to(device)\n",
        "y_test1 =  torch.from_numpy(y_test1.to_numpy()).to(device)"
      ],
      "metadata": {
        "colab": {
          "base_uri": "https://localhost:8080/",
          "height": 162
        },
        "id": "xqKfqVUJ6Yeg",
        "outputId": "0824cbae-36a9-4592-af00-4b2c5c0eb449"
      },
      "execution_count": 120,
      "outputs": [
        {
          "output_type": "error",
          "ename": "TypeError",
          "evalue": "expected np.ndarray (got Tensor)",
          "traceback": [
            "\u001b[0;31m---------------------------------------------------------------------------\u001b[0m",
            "\u001b[0;31mTypeError\u001b[0m                                 Traceback (most recent call last)",
            "\u001b[0;32m<ipython-input-120-96b3a21db7dc>\u001b[0m in \u001b[0;36m<cell line: 1>\u001b[0;34m()\u001b[0m\n\u001b[0;32m----> 1\u001b[0;31m \u001b[0mX_test1\u001b[0m \u001b[0;34m=\u001b[0m \u001b[0mtorch\u001b[0m\u001b[0;34m.\u001b[0m\u001b[0mfrom_numpy\u001b[0m\u001b[0;34m(\u001b[0m\u001b[0mX_test1\u001b[0m\u001b[0;34m)\u001b[0m\u001b[0;34m.\u001b[0m\u001b[0mfloat\u001b[0m\u001b[0;34m(\u001b[0m\u001b[0;34m)\u001b[0m\u001b[0;34m.\u001b[0m\u001b[0mto\u001b[0m\u001b[0;34m(\u001b[0m\u001b[0mdevice\u001b[0m\u001b[0;34m)\u001b[0m\u001b[0;34m\u001b[0m\u001b[0;34m\u001b[0m\u001b[0m\n\u001b[0m\u001b[1;32m      2\u001b[0m \u001b[0my_test1\u001b[0m \u001b[0;34m=\u001b[0m  \u001b[0mtorch\u001b[0m\u001b[0;34m.\u001b[0m\u001b[0mfrom_numpy\u001b[0m\u001b[0;34m(\u001b[0m\u001b[0my_test1\u001b[0m\u001b[0;34m.\u001b[0m\u001b[0mto_numpy\u001b[0m\u001b[0;34m(\u001b[0m\u001b[0;34m)\u001b[0m\u001b[0;34m)\u001b[0m\u001b[0;34m.\u001b[0m\u001b[0mto\u001b[0m\u001b[0;34m(\u001b[0m\u001b[0mdevice\u001b[0m\u001b[0;34m)\u001b[0m\u001b[0;34m\u001b[0m\u001b[0;34m\u001b[0m\u001b[0m\n",
            "\u001b[0;31mTypeError\u001b[0m: expected np.ndarray (got Tensor)"
          ]
        }
      ]
    },
    {
      "cell_type": "code",
      "source": [
        "batch_size = 50\n",
        "acc_history = []\n",
        "test_history = []\n",
        "for epoch in range(500):\n",
        "  order = np.random.permutation(tensor_X.shape[0])\n",
        "\n",
        "  for st in range(0, tensor_X.shape[0], batch_size):\n",
        "    optimizer.zero_grad()\n",
        "\n",
        "    ind = order[st:st+batch_size]\n",
        "    batched_x = tensor_X[ind].to(device)\n",
        "    batched_y = tensor_y[ind].to(device)\n",
        "\n",
        "    y_pred = net.forward(batched_x)\n",
        "    loss_val = loss(y_pred, batched_y)\n",
        "    loss_val.backward()\n",
        "    optimizer.step()\n",
        "  if epoch % 10 == 0:\n",
        "    preds = net.forward(tensor_X).to(device)\n",
        "    test_preds = net.forward(X_test1).to(device)\n",
        "    acc_history.append(((preds.argmax(dim=1) == tensor_y).float().mean()).to('cpu'))\n",
        "    test_history.append(((test_preds.argmax(dim=1) == y_test1).float().mean()).to('cpu'))\n",
        "    print((preds.argmax(dim=1) == tensor_y).float().mean())\n",
        "\n"
      ],
      "metadata": {
        "colab": {
          "base_uri": "https://localhost:8080/"
        },
        "id": "jZ38PBXur8kX",
        "outputId": "23834a6f-b898-4871-d80a-d6be0d8894c4"
      },
      "execution_count": 148,
      "outputs": [
        {
          "output_type": "stream",
          "name": "stdout",
          "text": [
            "tensor(0.0464, device='cuda:0')\n",
            "tensor(0.4629, device='cuda:0')\n",
            "tensor(0.5393, device='cuda:0')\n",
            "tensor(0.5843, device='cuda:0')\n",
            "tensor(0.6100, device='cuda:0')\n",
            "tensor(0.6321, device='cuda:0')\n",
            "tensor(0.6564, device='cuda:0')\n",
            "tensor(0.6807, device='cuda:0')\n",
            "tensor(0.7050, device='cuda:0')\n",
            "tensor(0.7336, device='cuda:0')\n",
            "tensor(0.7743, device='cuda:0')\n",
            "tensor(0.7957, device='cuda:0')\n",
            "tensor(0.8136, device='cuda:0')\n",
            "tensor(0.8364, device='cuda:0')\n",
            "tensor(0.8529, device='cuda:0')\n",
            "tensor(0.8700, device='cuda:0')\n",
            "tensor(0.8793, device='cuda:0')\n",
            "tensor(0.8886, device='cuda:0')\n",
            "tensor(0.8957, device='cuda:0')\n",
            "tensor(0.9007, device='cuda:0')\n",
            "tensor(0.9057, device='cuda:0')\n",
            "tensor(0.9064, device='cuda:0')\n",
            "tensor(0.9100, device='cuda:0')\n",
            "tensor(0.9143, device='cuda:0')\n",
            "tensor(0.9236, device='cuda:0')\n",
            "tensor(0.9279, device='cuda:0')\n",
            "tensor(0.9286, device='cuda:0')\n",
            "tensor(0.9293, device='cuda:0')\n",
            "tensor(0.9307, device='cuda:0')\n",
            "tensor(0.9336, device='cuda:0')\n",
            "tensor(0.9357, device='cuda:0')\n",
            "tensor(0.9343, device='cuda:0')\n",
            "tensor(0.9364, device='cuda:0')\n",
            "tensor(0.9379, device='cuda:0')\n",
            "tensor(0.9371, device='cuda:0')\n",
            "tensor(0.9436, device='cuda:0')\n",
            "tensor(0.9436, device='cuda:0')\n",
            "tensor(0.9436, device='cuda:0')\n",
            "tensor(0.9429, device='cuda:0')\n",
            "tensor(0.9436, device='cuda:0')\n",
            "tensor(0.9464, device='cuda:0')\n",
            "tensor(0.9479, device='cuda:0')\n",
            "tensor(0.9457, device='cuda:0')\n",
            "tensor(0.9479, device='cuda:0')\n",
            "tensor(0.9464, device='cuda:0')\n",
            "tensor(0.9493, device='cuda:0')\n",
            "tensor(0.9507, device='cuda:0')\n",
            "tensor(0.9514, device='cuda:0')\n",
            "tensor(0.9500, device='cuda:0')\n",
            "tensor(0.9486, device='cuda:0')\n"
          ]
        }
      ]
    },
    {
      "cell_type": "code",
      "source": [
        "X_test1, y_test1"
      ],
      "metadata": {
        "colab": {
          "base_uri": "https://localhost:8080/"
        },
        "id": "Icx0OzFTzwat",
        "outputId": "6d7d2c97-c51c-4f5d-fa9f-95930f59cb93"
      },
      "execution_count": 141,
      "outputs": [
        {
          "output_type": "execute_result",
          "data": {
            "text/plain": [
              "(tensor([[ 0.9276, -0.9900,  1.1985,  ..., -0.3470, -0.2284, -0.4200],\n",
              "         [-0.1287, -0.9900, -1.2531,  ..., -0.5324, -0.9960,  3.1605],\n",
              "         [ 1.6696, -0.9900,  1.6888,  ...,  2.4908, -0.9960, -0.9408],\n",
              "         ...,\n",
              "         [-1.5559,  1.0101, -1.2531,  ..., -0.8106,  0.5393,  2.4184],\n",
              "         [-0.4337,  1.0101, -0.0273,  ..., -0.9961, -0.2284,  0.3873],\n",
              "         [-0.4041,  1.0101,  0.7082,  ...,  1.4521,  0.5393,  1.4549]],\n",
              "        device='cuda:0'),\n",
              " tensor([0, 2, 1, 3, 1, 1, 2, 0, 3, 1, 0, 0, 2, 3, 3, 2, 3, 3, 1, 0, 0, 2, 1, 2,\n",
              "         0, 1, 3, 2, 2, 0, 0, 0, 3, 0, 1, 1, 2, 0, 3, 0, 2, 3, 2, 0, 2, 3, 2, 1,\n",
              "         3, 1, 3, 1, 0, 0, 1, 0, 1, 3, 0, 0, 1, 3, 3, 1, 0, 0, 3, 3, 1, 2, 2, 2,\n",
              "         0, 1, 2, 0, 1, 3, 2, 2, 3, 2, 1, 0, 1, 3, 1, 3, 3, 0, 3, 3, 2, 1, 3, 2,\n",
              "         2, 3, 1, 1, 0, 0, 1, 0, 0, 3, 2, 0, 1, 1, 0, 0, 3, 1, 3, 2, 3, 2, 0, 2,\n",
              "         1, 3, 2, 1, 3, 3, 0, 2, 0, 2, 3, 0, 2, 2, 0, 3, 1, 0, 0, 2, 2, 1, 3, 2,\n",
              "         0, 0, 0, 1, 1, 2, 3, 1, 1, 0, 2, 2, 0, 1, 0, 2, 2, 3, 3, 2, 1, 0, 1, 2,\n",
              "         2, 3, 3, 0, 1, 0, 3, 1, 1, 2, 1, 0, 0, 0, 0, 0, 3, 2, 0, 3, 0, 0, 0, 0,\n",
              "         1, 3, 3, 1, 0, 1, 1, 1, 1, 2, 2, 3, 3, 3, 1, 2, 0, 0, 0, 2, 1, 1, 3, 1,\n",
              "         0, 2, 1, 1, 3, 2, 3, 0, 0, 2, 1, 3, 0, 1, 2, 0, 2, 3, 2, 0, 1, 3, 3, 0,\n",
              "         1, 3, 2, 3, 0, 3, 1, 2, 3, 3, 2, 1, 0, 3, 3, 1, 3, 3, 3, 3, 3, 0, 1, 2,\n",
              "         2, 2, 3, 0, 2, 3, 2, 2, 2, 1, 0, 2, 0, 3, 3, 1, 3, 1, 0, 3, 1, 2, 0, 0,\n",
              "         3, 0, 1, 2, 3, 3, 3, 1, 1, 0, 1, 3, 3, 0, 1, 2, 2, 0, 3, 3, 2, 3, 2, 3,\n",
              "         2, 0, 2, 1, 1, 1, 0, 0, 0, 3, 3, 3, 1, 0, 1, 0, 2, 2, 3, 0, 3, 3, 2, 1,\n",
              "         3, 0, 0, 2, 1, 3, 2, 0, 1, 1, 1, 1, 1, 3, 2, 0, 0, 3, 3, 0, 3, 0, 0, 2,\n",
              "         0, 1, 2, 2, 2, 3, 0, 3, 2, 3, 3, 3, 3, 2, 1, 1, 0, 3, 1, 3, 3, 0, 2, 3,\n",
              "         2, 3, 3, 3, 0, 0, 2, 3, 0, 0, 2, 3, 2, 1, 1, 2, 1, 2, 0, 3, 1, 2, 0, 0,\n",
              "         1, 0, 2, 0, 1, 0, 2, 2, 3, 2, 1, 1, 2, 1, 1, 3, 1, 0, 0, 3, 0, 1, 0, 0,\n",
              "         2, 2, 3, 0, 2, 0, 1, 1, 3, 3, 1, 2, 0, 2, 0, 0, 3, 3, 0, 2, 2, 2, 3, 1,\n",
              "         2, 0, 1, 3, 1, 0, 3, 2, 0, 0, 3, 2, 3, 2, 0, 2, 1, 0, 1, 2, 3, 2, 1, 1,\n",
              "         0, 1, 2, 2, 1, 0, 1, 3, 1, 2, 0, 2, 2, 3, 1, 0, 1, 2, 3, 1, 1, 2, 3, 0,\n",
              "         2, 2, 3, 2, 2, 2, 3, 2, 1, 1, 0, 1, 0, 3, 1, 0, 2, 1, 2, 3, 3, 3, 3, 2,\n",
              "         0, 3, 1, 2, 0, 3, 3, 1, 2, 2, 3, 2, 1, 3, 1, 2, 1, 3, 1, 2, 1, 3, 1, 1,\n",
              "         2, 3, 1, 0, 0, 2, 3, 3, 1, 1, 2, 0, 2, 0, 1, 3, 0, 0, 2, 3, 1, 1, 3, 0,\n",
              "         2, 0, 0, 1, 2, 3, 1, 2, 1, 3, 2, 1, 2, 3, 3, 2, 0, 0, 1, 2, 1, 0, 1, 0],\n",
              "        device='cuda:0'))"
            ]
          },
          "metadata": {},
          "execution_count": 141
        }
      ]
    },
    {
      "cell_type": "code",
      "source": [],
      "metadata": {
        "id": "XBbMssBmz361"
      },
      "execution_count": null,
      "outputs": []
    },
    {
      "cell_type": "code",
      "source": [
        "preds = net.forward(X_test1)\n",
        "print((preds.argmax(dim=1)==y_test1).float().mean())"
      ],
      "metadata": {
        "colab": {
          "base_uri": "https://localhost:8080/"
        },
        "id": "XCOXvaNSzSsN",
        "outputId": "72f2434e-738a-4059-e426-bd53af415f75"
      },
      "execution_count": 161,
      "outputs": [
        {
          "output_type": "stream",
          "name": "stdout",
          "text": [
            "tensor(0.9217, device='cuda:0')\n"
          ]
        }
      ]
    },
    {
      "cell_type": "code",
      "source": [
        "plt.plot(acc_history)\n",
        "plt.show()"
      ],
      "metadata": {
        "colab": {
          "base_uri": "https://localhost:8080/",
          "height": 430
        },
        "id": "uScWQo8j5Z5i",
        "outputId": "f80cf62b-0ac8-4e9b-9204-6bb25a18ce4e"
      },
      "execution_count": 162,
      "outputs": [
        {
          "output_type": "display_data",
          "data": {
            "text/plain": [
              "<Figure size 640x480 with 1 Axes>"
            ],
            "image/png": "[encoded data removed]"
          },
          "metadata": {}
        }
      ]
    },
    {
      "cell_type": "code",
      "source": [
        "plt.plot(test_history)\n",
        "plt.show()"
      ],
      "metadata": {
        "colab": {
          "base_uri": "https://localhost:8080/",
          "height": 430
        },
        "id": "0xidM5VC6pzD",
        "outputId": "b23107a2-9500-4d85-a8fd-934c06f823bf"
      },
      "execution_count": 163,
      "outputs": [
        {
          "output_type": "display_data",
          "data": {
            "text/plain": [
              "<Figure size 640x480 with 1 Axes>"
            ],
            "image/png": "[encoded data removed]"
          },
          "metadata": {}
        }
      ]
    },
    {
      "cell_type": "code",
      "source": [
        "preds = preds.argmax(dim=1)\n",
        "pr = preds.cpu().detach().numpy()\n",
        "y = y_test1.cpu().detach().numpy()"
      ],
      "metadata": {
        "id": "462ps7YK8SSx"
      },
      "execution_count": 164,
      "outputs": []
    },
    {
      "cell_type": "code",
      "source": [
        "y"
      ],
      "metadata": {
        "colab": {
          "base_uri": "https://localhost:8080/"
        },
        "id": "iLI_kZmQ8yUI",
        "outputId": "46db9e4d-dfcc-4b4f-fc08-2e7a224ebba8"
      },
      "execution_count": 165,
      "outputs": [
        {
          "output_type": "execute_result",
          "data": {
            "text/plain": [
              "array([0, 2, 1, 3, 1, 1, 2, 0, 3, 1, 0, 0, 2, 3, 3, 2, 3, 3, 1, 0, 0, 2,\n",
              "       1, 2, 0, 1, 3, 2, 2, 0, 0, 0, 3, 0, 1, 1, 2, 0, 3, 0, 2, 3, 2, 0,\n",
              "       2, 3, 2, 1, 3, 1, 3, 1, 0, 0, 1, 0, 1, 3, 0, 0, 1, 3, 3, 1, 0, 0,\n",
              "       3, 3, 1, 2, 2, 2, 0, 1, 2, 0, 1, 3, 2, 2, 3, 2, 1, 0, 1, 3, 1, 3,\n",
              "       3, 0, 3, 3, 2, 1, 3, 2, 2, 3, 1, 1, 0, 0, 1, 0, 0, 3, 2, 0, 1, 1,\n",
              "       0, 0, 3, 1, 3, 2, 3, 2, 0, 2, 1, 3, 2, 1, 3, 3, 0, 2, 0, 2, 3, 0,\n",
              "       2, 2, 0, 3, 1, 0, 0, 2, 2, 1, 3, 2, 0, 0, 0, 1, 1, 2, 3, 1, 1, 0,\n",
              "       2, 2, 0, 1, 0, 2, 2, 3, 3, 2, 1, 0, 1, 2, 2, 3, 3, 0, 1, 0, 3, 1,\n",
              "       1, 2, 1, 0, 0, 0, 0, 0, 3, 2, 0, 3, 0, 0, 0, 0, 1, 3, 3, 1, 0, 1,\n",
              "       1, 1, 1, 2, 2, 3, 3, 3, 1, 2, 0, 0, 0, 2, 1, 1, 3, 1, 0, 2, 1, 1,\n",
              "       3, 2, 3, 0, 0, 2, 1, 3, 0, 1, 2, 0, 2, 3, 2, 0, 1, 3, 3, 0, 1, 3,\n",
              "       2, 3, 0, 3, 1, 2, 3, 3, 2, 1, 0, 3, 3, 1, 3, 3, 3, 3, 3, 0, 1, 2,\n",
              "       2, 2, 3, 0, 2, 3, 2, 2, 2, 1, 0, 2, 0, 3, 3, 1, 3, 1, 0, 3, 1, 2,\n",
              "       0, 0, 3, 0, 1, 2, 3, 3, 3, 1, 1, 0, 1, 3, 3, 0, 1, 2, 2, 0, 3, 3,\n",
              "       2, 3, 2, 3, 2, 0, 2, 1, 1, 1, 0, 0, 0, 3, 3, 3, 1, 0, 1, 0, 2, 2,\n",
              "       3, 0, 3, 3, 2, 1, 3, 0, 0, 2, 1, 3, 2, 0, 1, 1, 1, 1, 1, 3, 2, 0,\n",
              "       0, 3, 3, 0, 3, 0, 0, 2, 0, 1, 2, 2, 2, 3, 0, 3, 2, 3, 3, 3, 3, 2,\n",
              "       1, 1, 0, 3, 1, 3, 3, 0, 2, 3, 2, 3, 3, 3, 0, 0, 2, 3, 0, 0, 2, 3,\n",
              "       2, 1, 1, 2, 1, 2, 0, 3, 1, 2, 0, 0, 1, 0, 2, 0, 1, 0, 2, 2, 3, 2,\n",
              "       1, 1, 2, 1, 1, 3, 1, 0, 0, 3, 0, 1, 0, 0, 2, 2, 3, 0, 2, 0, 1, 1,\n",
              "       3, 3, 1, 2, 0, 2, 0, 0, 3, 3, 0, 2, 2, 2, 3, 1, 2, 0, 1, 3, 1, 0,\n",
              "       3, 2, 0, 0, 3, 2, 3, 2, 0, 2, 1, 0, 1, 2, 3, 2, 1, 1, 0, 1, 2, 2,\n",
              "       1, 0, 1, 3, 1, 2, 0, 2, 2, 3, 1, 0, 1, 2, 3, 1, 1, 2, 3, 0, 2, 2,\n",
              "       3, 2, 2, 2, 3, 2, 1, 1, 0, 1, 0, 3, 1, 0, 2, 1, 2, 3, 3, 3, 3, 2,\n",
              "       0, 3, 1, 2, 0, 3, 3, 1, 2, 2, 3, 2, 1, 3, 1, 2, 1, 3, 1, 2, 1, 3,\n",
              "       1, 1, 2, 3, 1, 0, 0, 2, 3, 3, 1, 1, 2, 0, 2, 0, 1, 3, 0, 0, 2, 3,\n",
              "       1, 1, 3, 0, 2, 0, 0, 1, 2, 3, 1, 2, 1, 3, 2, 1, 2, 3, 3, 2, 0, 0,\n",
              "       1, 2, 1, 0, 1, 0])"
            ]
          },
          "metadata": {},
          "execution_count": 165
        }
      ]
    },
    {
      "cell_type": "code",
      "source": [
        "pr"
      ],
      "metadata": {
        "colab": {
          "base_uri": "https://localhost:8080/"
        },
        "id": "f-T_O7yt80ZR",
        "outputId": "199f2ad3-e7a7-4df5-ae10-fddd25159d30"
      },
      "execution_count": 166,
      "outputs": [
        {
          "output_type": "execute_result",
          "data": {
            "text/plain": [
              "array([0, 2, 1, 3, 1, 1, 2, 0, 3, 1, 0, 1, 2, 3, 3, 2, 3, 3, 1, 0, 0, 1,\n",
              "       1, 2, 0, 1, 3, 2, 2, 0, 0, 0, 3, 0, 1, 1, 2, 0, 3, 0, 2, 3, 2, 0,\n",
              "       2, 3, 1, 1, 3, 1, 3, 1, 0, 0, 1, 1, 1, 3, 0, 0, 1, 3, 3, 1, 0, 0,\n",
              "       3, 3, 1, 2, 2, 2, 0, 1, 2, 0, 1, 3, 2, 2, 3, 2, 1, 0, 1, 3, 1, 3,\n",
              "       3, 0, 3, 3, 2, 1, 3, 2, 2, 3, 2, 1, 0, 0, 1, 0, 0, 3, 2, 0, 1, 1,\n",
              "       0, 0, 3, 1, 3, 2, 3, 3, 0, 2, 1, 3, 2, 1, 3, 3, 0, 3, 0, 2, 3, 0,\n",
              "       2, 2, 0, 3, 1, 0, 0, 2, 3, 1, 2, 2, 0, 0, 0, 1, 2, 2, 3, 1, 1, 0,\n",
              "       2, 2, 0, 1, 0, 1, 2, 3, 3, 3, 1, 0, 0, 2, 2, 3, 3, 1, 1, 0, 3, 1,\n",
              "       2, 2, 1, 0, 0, 0, 0, 0, 3, 2, 0, 3, 0, 0, 0, 0, 1, 3, 3, 1, 0, 1,\n",
              "       1, 1, 1, 2, 2, 3, 3, 3, 1, 2, 0, 0, 0, 2, 1, 1, 3, 1, 0, 2, 1, 1,\n",
              "       3, 2, 2, 0, 0, 2, 1, 3, 0, 1, 2, 0, 1, 3, 2, 0, 1, 3, 3, 0, 1, 3,\n",
              "       3, 3, 0, 3, 1, 2, 3, 3, 2, 1, 1, 3, 3, 1, 3, 3, 3, 3, 3, 0, 1, 2,\n",
              "       2, 2, 3, 0, 2, 3, 2, 2, 2, 0, 0, 2, 0, 3, 3, 1, 3, 1, 0, 3, 1, 2,\n",
              "       0, 0, 3, 0, 1, 2, 3, 3, 3, 1, 0, 0, 1, 3, 3, 0, 1, 2, 2, 0, 3, 3,\n",
              "       2, 3, 2, 3, 2, 0, 2, 1, 1, 1, 0, 0, 0, 3, 3, 3, 1, 0, 2, 0, 1, 3,\n",
              "       3, 0, 2, 3, 2, 1, 3, 0, 0, 3, 1, 3, 2, 0, 1, 1, 1, 1, 1, 3, 1, 0,\n",
              "       0, 3, 3, 0, 3, 0, 0, 2, 0, 1, 2, 2, 2, 3, 0, 2, 2, 3, 3, 3, 3, 2,\n",
              "       1, 1, 0, 3, 1, 3, 3, 0, 2, 3, 2, 3, 3, 3, 0, 0, 2, 3, 0, 0, 2, 3,\n",
              "       2, 1, 1, 2, 1, 3, 1, 2, 1, 2, 0, 0, 1, 0, 1, 0, 2, 0, 2, 2, 3, 2,\n",
              "       1, 1, 3, 1, 1, 3, 1, 0, 0, 3, 0, 1, 0, 1, 2, 2, 3, 0, 2, 0, 1, 1,\n",
              "       3, 3, 0, 2, 0, 2, 0, 0, 3, 3, 0, 2, 2, 2, 3, 1, 1, 0, 1, 3, 1, 0,\n",
              "       3, 1, 0, 0, 3, 2, 3, 2, 0, 2, 0, 0, 1, 2, 3, 2, 1, 1, 0, 1, 2, 2,\n",
              "       1, 1, 1, 3, 1, 3, 1, 3, 2, 3, 0, 0, 1, 2, 3, 1, 1, 2, 3, 0, 2, 2,\n",
              "       3, 2, 2, 2, 3, 2, 1, 1, 0, 1, 0, 3, 1, 0, 3, 1, 1, 3, 3, 2, 3, 2,\n",
              "       0, 3, 1, 2, 0, 3, 3, 1, 2, 2, 3, 2, 1, 3, 1, 2, 1, 3, 1, 2, 1, 3,\n",
              "       1, 1, 2, 3, 1, 0, 0, 2, 3, 3, 1, 1, 2, 0, 2, 0, 1, 3, 0, 0, 2, 3,\n",
              "       1, 1, 3, 0, 2, 0, 0, 1, 2, 3, 1, 2, 1, 3, 2, 1, 2, 3, 3, 2, 0, 0,\n",
              "       1, 2, 1, 0, 1, 0])"
            ]
          },
          "metadata": {},
          "execution_count": 166
        }
      ]
    },
    {
      "cell_type": "code",
      "source": [
        "print(classification_report(y,pr))"
      ],
      "metadata": {
        "colab": {
          "base_uri": "https://localhost:8080/"
        },
        "id": "vgdLMXAH8Aq3",
        "outputId": "44645ff8-110c-44d8-9b4d-bdf534b8414c"
      },
      "execution_count": 168,
      "outputs": [
        {
          "output_type": "stream",
          "name": "stdout",
          "text": [
            "              precision    recall  f1-score   support\n",
            "\n",
            "           0       0.96      0.95      0.95       151\n",
            "           1       0.88      0.92      0.90       146\n",
            "           2       0.92      0.85      0.88       148\n",
            "           3       0.93      0.96      0.94       155\n",
            "\n",
            "    accuracy                           0.92       600\n",
            "   macro avg       0.92      0.92      0.92       600\n",
            "weighted avg       0.92      0.92      0.92       600\n",
            "\n"
          ]
        }
      ]
    }
  ]
}